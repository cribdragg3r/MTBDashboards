{
 "cells": [
  {
   "cell_type": "code",
   "execution_count": 60,
   "id": "f51b8358-051c-4770-bc2c-54310e256e17",
   "metadata": {},
   "outputs": [],
   "source": [
    "import pandas as pd\n",
    "import numpy as np\n",
    "import panel as pn\n",
    "import hvplot.pandas\n",
    "import calendar\n",
    "import holoviews as hv\n",
    "from bokeh.models.formatters import BasicTickFormatter"
   ]
  },
  {
   "cell_type": "code",
   "execution_count": 61,
   "id": "1c786a0c-f478-4d54-b12a-2bfd3c3c7dcd",
   "metadata": {},
   "outputs": [
    {
     "data": {},
     "metadata": {},
     "output_type": "display_data"
    },
    {
     "data": {
      "application/vnd.holoviews_exec.v0+json": "",
      "text/html": [
       "<div id='5206'>\n",
       "\n",
       "\n",
       "\n",
       "\n",
       "\n",
       "  <div class=\"bk-root\" id=\"497ecd8c-f239-43fa-8d77-e3faf6393045\" data-root-id=\"5206\"></div>\n",
       "</div>\n",
       "<script type=\"application/javascript\">(function(root) {\n",
       "  function embed_document(root) {\n",
       "    var docs_json = {\"f1bcb206-8f70-4483-9fa2-0d8223d68471\":{\"defs\":[{\"extends\":null,\"module\":null,\"name\":\"ReactiveHTML1\",\"overrides\":[],\"properties\":[]},{\"extends\":null,\"module\":null,\"name\":\"FlexBox1\",\"overrides\":[],\"properties\":[{\"default\":\"flex-start\",\"kind\":null,\"name\":\"align_content\"},{\"default\":\"flex-start\",\"kind\":null,\"name\":\"align_items\"},{\"default\":\"row\",\"kind\":null,\"name\":\"flex_direction\"},{\"default\":\"wrap\",\"kind\":null,\"name\":\"flex_wrap\"},{\"default\":\"flex-start\",\"kind\":null,\"name\":\"justify_content\"}]},{\"extends\":null,\"module\":null,\"name\":\"GridStack1\",\"overrides\":[],\"properties\":[{\"default\":\"warn\",\"kind\":null,\"name\":\"mode\"},{\"default\":null,\"kind\":null,\"name\":\"ncols\"},{\"default\":null,\"kind\":null,\"name\":\"nrows\"},{\"default\":true,\"kind\":null,\"name\":\"allow_resize\"},{\"default\":true,\"kind\":null,\"name\":\"allow_drag\"},{\"default\":[],\"kind\":null,\"name\":\"state\"}]},{\"extends\":null,\"module\":null,\"name\":\"click1\",\"overrides\":[],\"properties\":[{\"default\":\"\",\"kind\":null,\"name\":\"terminal_output\"},{\"default\":\"\",\"kind\":null,\"name\":\"debug_name\"},{\"default\":0,\"kind\":null,\"name\":\"clears\"}]},{\"extends\":null,\"module\":null,\"name\":\"NotificationAreaBase1\",\"overrides\":[],\"properties\":[{\"default\":\"bottom-right\",\"kind\":null,\"name\":\"position\"},{\"default\":0,\"kind\":null,\"name\":\"_clear\"}]},{\"extends\":null,\"module\":null,\"name\":\"NotificationArea1\",\"overrides\":[],\"properties\":[{\"default\":[],\"kind\":null,\"name\":\"notifications\"},{\"default\":\"bottom-right\",\"kind\":null,\"name\":\"position\"},{\"default\":0,\"kind\":null,\"name\":\"_clear\"},{\"default\":[{\"background\":\"#ffc107\",\"icon\":{\"className\":\"fas fa-exclamation-triangle\",\"color\":\"white\",\"tagName\":\"i\"},\"type\":\"warning\"},{\"background\":\"#007bff\",\"icon\":{\"className\":\"fas fa-info-circle\",\"color\":\"white\",\"tagName\":\"i\"},\"type\":\"info\"}],\"kind\":null,\"name\":\"types\"}]},{\"extends\":null,\"module\":null,\"name\":\"Notification\",\"overrides\":[],\"properties\":[{\"default\":null,\"kind\":null,\"name\":\"background\"},{\"default\":3000,\"kind\":null,\"name\":\"duration\"},{\"default\":null,\"kind\":null,\"name\":\"icon\"},{\"default\":\"\",\"kind\":null,\"name\":\"message\"},{\"default\":null,\"kind\":null,\"name\":\"notification_type\"},{\"default\":false,\"kind\":null,\"name\":\"_destroyed\"}]},{\"extends\":null,\"module\":null,\"name\":\"TemplateActions1\",\"overrides\":[],\"properties\":[{\"default\":0,\"kind\":null,\"name\":\"open_modal\"},{\"default\":0,\"kind\":null,\"name\":\"close_modal\"}]},{\"extends\":null,\"module\":null,\"name\":\"MaterialTemplateActions1\",\"overrides\":[],\"properties\":[{\"default\":0,\"kind\":null,\"name\":\"open_modal\"},{\"default\":0,\"kind\":null,\"name\":\"close_modal\"}]}],\"roots\":{\"references\":[{\"attributes\":{\"margin\":[5,10,5,10],\"sizing_mode\":\"stretch_width\"},\"id\":\"5206\",\"type\":\"panel.models.widgets.CustomSelect\"},{\"attributes\":{\"client_comm_id\":\"cc0eeaaf256f40e1a826161a99589859\",\"comm_id\":\"7b4c2eea1d8745e88edbc1314a8583d5\",\"plot_id\":\"5206\"},\"id\":\"5207\",\"type\":\"panel.models.comm_manager.CommManager\"}],\"root_ids\":[\"5206\",\"5207\"]},\"title\":\"Bokeh Application\",\"version\":\"2.4.2\"}};\n",
       "    var render_items = [{\"docid\":\"f1bcb206-8f70-4483-9fa2-0d8223d68471\",\"root_ids\":[\"5206\"],\"roots\":{\"5206\":\"497ecd8c-f239-43fa-8d77-e3faf6393045\"}}];\n",
       "    root.Bokeh.embed.embed_items_notebook(docs_json, render_items);\n",
       "  }\n",
       "  if (root.Bokeh !== undefined && root.Bokeh.Panel !== undefined) {\n",
       "    embed_document(root);\n",
       "  } else {\n",
       "    var attempts = 0;\n",
       "    var timer = setInterval(function(root) {\n",
       "      if (root.Bokeh !== undefined && root.Bokeh.Panel !== undefined) {\n",
       "        clearInterval(timer);\n",
       "        embed_document(root);\n",
       "      } else if (document.readyState == \"complete\") {\n",
       "        attempts++;\n",
       "        if (attempts > 200) {\n",
       "          clearInterval(timer);\n",
       "          console.log(\"Bokeh: ERROR: Unable to run BokehJS code because BokehJS library is missing\");\n",
       "        }\n",
       "      }\n",
       "    }, 25, root)\n",
       "  }\n",
       "})(window);</script>"
      ],
      "text/plain": [
       "Select(sizing_mode='stretch_width')"
      ]
     },
     "execution_count": 61,
     "metadata": {
      "application/vnd.holoviews_exec.v0+json": {
       "id": "5206"
      }
     },
     "output_type": "execute_result"
    }
   ],
   "source": [
    "# Set some panel settings\n",
    "#pn.extension('tabulator')\n",
    "pn.config.sizing_mode = \"stretch_width\"\n",
    "pn.widgets.Select(sizing_mode='stretch_width')"
   ]
  },
  {
   "cell_type": "code",
   "execution_count": 62,
   "id": "c539fc98-9f4d-4519-8037-f22fc5940daf",
   "metadata": {},
   "outputs": [],
   "source": [
    "#Color Data:\n",
    "# These are the colors that will be used in the plot\n",
    "color_sequence = ['#1f77b4', '#aec7e8', '#ff7f0e', '#ffbb78', '#2ca02c',\n",
    "                  '#98df8a', '#d62728', '#ff9896', '#9467bd', '#c5b0d5',\n",
    "                  '#8c564b', '#c49c94', '#e377c2', '#f7b6d2', '#7f7f7f',\n",
    "                  '#c7c7c7', '#bcbd22', '#dbdb8d', '#17becf', '#9edae5']"
   ]
  },
  {
   "cell_type": "code",
   "execution_count": 63,
   "id": "8e118918-2e8e-4073-a7e1-3de378db6e0e",
   "metadata": {},
   "outputs": [],
   "source": [
    "# Graph Comparitive Data from all Regions\n",
    "regions_list = [    \n",
    "    \"West Lake Marion\",\n",
    "    \"Lebanon Hills\", \n",
    "    \"Murphy-Hanrehan\", \n",
    "    \"Battle Creek\", \n",
    "    \"Theodore Wirth\", \n",
    "    \"Xcel Energy\",\n",
    "]\n",
    "\n",
    "region_name_map = {\n",
    "  \"battle-creek-5538\": \"Battle Creek\",\n",
    "  \"west-lake-marion-park\": \"West Lake Marion\",\n",
    "  \"lebanon-hills\": \"Lebanon Hills\",\n",
    "  \"murphyhanrehan-park\": \"Murphy-Hanrehan\",\n",
    "  \"theodore-wirth-park\": \"Theodore Wirth\",\n",
    "  \"xcel-energy-mountain-bike-park-50624\": \"Xcel Energy\"\n",
    "}\n",
    "\n",
    "all_region_df = pd.read_csv(\"data/region_ridecounts.csv\")\n",
    "all_region_df[\"estimated_riders\"] = ((all_region_df[\"rides\"] * .5) + all_region_df[\"rides\"]).astype(int)\n",
    "all_region_df[\"estimated_annual_revenue\"] = ((all_region_df[\"estimated_riders\"] * 5)*.25).astype(int)\n",
    "\n",
    "for raw_region, clean_region in region_name_map.items():\n",
    "    all_region_df[\"region\"] = all_region_df[\"region\"].replace({raw_region: clean_region})\n"
   ]
  },
  {
   "cell_type": "code",
   "execution_count": 64,
   "id": "5c1dadf8-3a03-4c0f-959a-759ff6c1dd38",
   "metadata": {},
   "outputs": [],
   "source": [
    "multi_choice_1 = pn.widgets.MultiChoice(name='Region Selection', value=regions_list,\n",
    "    options=regions_list)"
   ]
  },
  {
   "cell_type": "code",
   "execution_count": 65,
   "id": "a674f679-b125-4a7a-bb17-5e00ae299b77",
   "metadata": {},
   "outputs": [],
   "source": [
    "# Load the dataframe into Cache\n",
    "if 'data' not in pn.state.cache.keys():\n",
    "    pn.state.cache['data'] = all_region_df.copy()"
   ]
  },
  {
   "cell_type": "code",
   "execution_count": 66,
   "id": "e6a9cc1b-64da-4928-bb8f-2f8c34462401",
   "metadata": {},
   "outputs": [],
   "source": [
    "# Create an Interactive DataFrame\n",
    "idf = all_region_df.interactive()"
   ]
  },
  {
   "cell_type": "code",
   "execution_count": 67,
   "id": "ff736f72-93e8-4a8b-b621-a8cf5468fb16",
   "metadata": {},
   "outputs": [
    {
     "name": "stderr",
     "output_type": "stream",
     "text": [
      "C:\\Users\\faust\\anaconda3\\lib\\site-packages\\holoviews\\core\\data\\pandas.py:221: FutureWarning: In a future version of pandas, a length 1 tuple will be returned when iterating over a groupby with a grouper equal to a list of length 1. Don't supply a list with a single grouper to avoid this warning.\n",
      "  data = [(k, group_type(v, **group_kwargs)) for k, v in\n",
      "C:\\Users\\faust\\anaconda3\\lib\\site-packages\\holoviews\\core\\data\\pandas.py:221: FutureWarning: In a future version of pandas, a length 1 tuple will be returned when iterating over a groupby with a grouper equal to a list of length 1. Don't supply a list with a single grouper to avoid this warning.\n",
      "  data = [(k, group_type(v, **group_kwargs)) for k, v in\n"
     ]
    },
    {
     "data": {},
     "metadata": {},
     "output_type": "display_data"
    },
    {
     "data": {},
     "metadata": {},
     "output_type": "display_data"
    },
    {
     "data": {
      "application/vnd.holoviews_exec.v0+json": "",
      "text/html": [
       "<div id='5208'>\n",
       "\n",
       "\n",
       "\n",
       "\n",
       "\n",
       "  <div class=\"bk-root\" id=\"12beb8ed-4949-4303-9a90-f695f72a6fe0\" data-root-id=\"5208\"></div>\n",
       "</div>\n",
       "<script type=\"application/javascript\">(function(root) {\n",
       "  function embed_document(root) {\n",
       "    var docs_json = {\"d8713bec-9f95-4272-8136-c27d1f7016cb\":{\"defs\":[{\"extends\":null,\"module\":null,\"name\":\"ReactiveHTML1\",\"overrides\":[],\"properties\":[]},{\"extends\":null,\"module\":null,\"name\":\"FlexBox1\",\"overrides\":[],\"properties\":[{\"default\":\"flex-start\",\"kind\":null,\"name\":\"align_content\"},{\"default\":\"flex-start\",\"kind\":null,\"name\":\"align_items\"},{\"default\":\"row\",\"kind\":null,\"name\":\"flex_direction\"},{\"default\":\"wrap\",\"kind\":null,\"name\":\"flex_wrap\"},{\"default\":\"flex-start\",\"kind\":null,\"name\":\"justify_content\"}]},{\"extends\":null,\"module\":null,\"name\":\"GridStack1\",\"overrides\":[],\"properties\":[{\"default\":\"warn\",\"kind\":null,\"name\":\"mode\"},{\"default\":null,\"kind\":null,\"name\":\"ncols\"},{\"default\":null,\"kind\":null,\"name\":\"nrows\"},{\"default\":true,\"kind\":null,\"name\":\"allow_resize\"},{\"default\":true,\"kind\":null,\"name\":\"allow_drag\"},{\"default\":[],\"kind\":null,\"name\":\"state\"}]},{\"extends\":null,\"module\":null,\"name\":\"click1\",\"overrides\":[],\"properties\":[{\"default\":\"\",\"kind\":null,\"name\":\"terminal_output\"},{\"default\":\"\",\"kind\":null,\"name\":\"debug_name\"},{\"default\":0,\"kind\":null,\"name\":\"clears\"}]},{\"extends\":null,\"module\":null,\"name\":\"NotificationAreaBase1\",\"overrides\":[],\"properties\":[{\"default\":\"bottom-right\",\"kind\":null,\"name\":\"position\"},{\"default\":0,\"kind\":null,\"name\":\"_clear\"}]},{\"extends\":null,\"module\":null,\"name\":\"NotificationArea1\",\"overrides\":[],\"properties\":[{\"default\":[],\"kind\":null,\"name\":\"notifications\"},{\"default\":\"bottom-right\",\"kind\":null,\"name\":\"position\"},{\"default\":0,\"kind\":null,\"name\":\"_clear\"},{\"default\":[{\"background\":\"#ffc107\",\"icon\":{\"className\":\"fas fa-exclamation-triangle\",\"color\":\"white\",\"tagName\":\"i\"},\"type\":\"warning\"},{\"background\":\"#007bff\",\"icon\":{\"className\":\"fas fa-info-circle\",\"color\":\"white\",\"tagName\":\"i\"},\"type\":\"info\"}],\"kind\":null,\"name\":\"types\"}]},{\"extends\":null,\"module\":null,\"name\":\"Notification\",\"overrides\":[],\"properties\":[{\"default\":null,\"kind\":null,\"name\":\"background\"},{\"default\":3000,\"kind\":null,\"name\":\"duration\"},{\"default\":null,\"kind\":null,\"name\":\"icon\"},{\"default\":\"\",\"kind\":null,\"name\":\"message\"},{\"default\":null,\"kind\":null,\"name\":\"notification_type\"},{\"default\":false,\"kind\":null,\"name\":\"_destroyed\"}]},{\"extends\":null,\"module\":null,\"name\":\"TemplateActions1\",\"overrides\":[],\"properties\":[{\"default\":0,\"kind\":null,\"name\":\"open_modal\"},{\"default\":0,\"kind\":null,\"name\":\"close_modal\"}]},{\"extends\":null,\"module\":null,\"name\":\"MaterialTemplateActions1\",\"overrides\":[],\"properties\":[{\"default\":0,\"kind\":null,\"name\":\"open_modal\"},{\"default\":0,\"kind\":null,\"name\":\"close_modal\"}]}],\"roots\":{\"references\":[{\"attributes\":{},\"id\":\"5377\",\"type\":\"UnionRenderers\"},{\"attributes\":{\"line_alpha\":0.2,\"line_color\":\"#aec7e8\",\"line_width\":2,\"x\":{\"field\":\"year\"},\"y\":{\"field\":\"estimated_riders\"}},\"id\":\"5287\",\"type\":\"Line\"},{\"attributes\":{\"line_alpha\":0.2,\"line_color\":\"#ffbb78\",\"line_width\":2,\"x\":{\"field\":\"year\"},\"y\":{\"field\":\"estimated_riders\"}},\"id\":\"5333\",\"type\":\"Line\"},{\"attributes\":{\"line_alpha\":0.1,\"line_color\":\"#aec7e8\",\"line_width\":2,\"x\":{\"field\":\"year\"},\"y\":{\"field\":\"estimated_riders\"}},\"id\":\"5286\",\"type\":\"Line\"},{\"attributes\":{},\"id\":\"5254\",\"type\":\"BasicTickFormatter\"},{\"attributes\":{\"coordinates\":null,\"group\":null,\"text\":\"Annual Count of Visitors by Region\",\"text_color\":\"black\",\"text_font_size\":\"12pt\"},\"id\":\"5224\",\"type\":\"Title\"},{\"attributes\":{\"children\":[{\"id\":\"5209\"}],\"margin\":[0,0,0,0],\"name\":\"Row29920\",\"sizing_mode\":\"stretch_width\"},\"id\":\"5208\",\"type\":\"Row\"},{\"attributes\":{\"line_color\":\"#aec7e8\",\"line_width\":2,\"x\":{\"field\":\"year\"},\"y\":{\"field\":\"estimated_riders\"}},\"id\":\"5285\",\"type\":\"Line\"},{\"attributes\":{},\"id\":\"5241\",\"type\":\"PanTool\"},{\"attributes\":{\"coordinates\":null,\"data_source\":{\"id\":\"5282\"},\"glyph\":{\"id\":\"5285\"},\"group\":null,\"hover_glyph\":null,\"muted_glyph\":{\"id\":\"5287\"},\"nonselection_glyph\":{\"id\":\"5286\"},\"selection_glyph\":{\"id\":\"5303\"},\"view\":{\"id\":\"5289\"}},\"id\":\"5288\",\"type\":\"GlyphRenderer\"},{\"attributes\":{\"axis\":{\"id\":\"5232\"},\"coordinates\":null,\"group\":null,\"ticker\":{\"id\":\"5233\"}},\"id\":\"5235\",\"type\":\"Grid\"},{\"attributes\":{\"axis_label\":\"Year\",\"coordinates\":null,\"formatter\":{\"id\":\"5254\"},\"group\":null,\"major_label_policy\":{\"id\":\"5255\"},\"ticker\":{\"id\":\"5233\"}},\"id\":\"5232\",\"type\":\"LinearAxis\"},{\"attributes\":{\"children\":[{\"id\":\"5210\"},{\"id\":\"5223\"}],\"margin\":[0,0,0,0],\"name\":\"Column29919\",\"sizing_mode\":\"stretch_width\"},\"id\":\"5209\",\"type\":\"Column\"},{\"attributes\":{},\"id\":\"5230\",\"type\":\"LinearScale\"},{\"attributes\":{\"data\":{\"estimated_riders\":{\"__ndarray__\":\"LQEAAMcBAAA=\",\"dtype\":\"int32\",\"order\":\"little\",\"shape\":[2]},\"region\":[\"Theodore Wirth\",\"Theodore Wirth\"],\"year\":[2015,2016]},\"selected\":{\"id\":\"5329\"},\"selection_policy\":{\"id\":\"5349\"}},\"id\":\"5328\",\"type\":\"ColumnDataSource\"},{\"attributes\":{\"coordinates\":null,\"data_source\":{\"id\":\"5328\"},\"glyph\":{\"id\":\"5331\"},\"group\":null,\"hover_glyph\":null,\"muted_glyph\":{\"id\":\"5333\"},\"nonselection_glyph\":{\"id\":\"5332\"},\"selection_glyph\":{\"id\":\"5353\"},\"view\":{\"id\":\"5335\"}},\"id\":\"5334\",\"type\":\"GlyphRenderer\"},{\"attributes\":{},\"id\":\"5233\",\"type\":\"BasicTicker\"},{\"attributes\":{},\"id\":\"5283\",\"type\":\"Selection\"},{\"attributes\":{\"client_comm_id\":\"4476718cee1641cc9124223240b4dbc0\",\"comm_id\":\"277e1ba4d0e145fbbc777406cb9243de\",\"plot_id\":\"5208\"},\"id\":\"5492\",\"type\":\"panel.models.comm_manager.CommManager\"},{\"attributes\":{\"children\":[{\"id\":\"5211\"},{\"id\":\"5214\"}],\"margin\":[0,0,0,0],\"name\":\"Row29913\",\"sizing_mode\":\"stretch_width\"},\"id\":\"5210\",\"type\":\"Row\"},{\"attributes\":{\"children\":[{\"id\":\"5212\"},{\"id\":\"5213\"}],\"margin\":[0,0,0,0],\"name\":\"Column29908\",\"sizing_mode\":\"stretch_width\"},\"id\":\"5211\",\"type\":\"Column\"},{\"attributes\":{\"axis_label\":\"Visitors\",\"coordinates\":null,\"formatter\":{\"id\":\"5257\"},\"group\":null,\"major_label_policy\":{\"id\":\"5258\"},\"ticker\":{\"id\":\"5237\"}},\"id\":\"5236\",\"type\":\"LinearAxis\"},{\"attributes\":{\"source\":{\"id\":\"5282\"}},\"id\":\"5289\",\"type\":\"CDSView\"},{\"attributes\":{\"axis\":{\"id\":\"5236\"},\"coordinates\":null,\"dimension\":1,\"group\":null,\"ticker\":{\"id\":\"5237\"}},\"id\":\"5239\",\"type\":\"Grid\"},{\"attributes\":{\"line_color\":\"#ff7f0e\",\"line_width\":2,\"x\":{\"field\":\"year\"},\"y\":{\"field\":\"estimated_riders\"}},\"id\":\"5307\",\"type\":\"Line\"},{\"attributes\":{\"label\":{\"value\":\"West Lake Marion\"},\"renderers\":[{\"id\":\"5360\"}]},\"id\":\"5380\",\"type\":\"LegendItem\"},{\"attributes\":{\"end\":2022,\"margin\":[5,10,5,10],\"sizing_mode\":\"stretch_width\",\"start\":2016,\"title\":\"Year slider\",\"value\":2016},\"id\":\"5212\",\"type\":\"Slider\"},{\"attributes\":{},\"id\":\"5237\",\"type\":\"BasicTicker\"},{\"attributes\":{\"label\":{\"value\":\"Lebanon Hills\"},\"renderers\":[{\"id\":\"5288\"}]},\"id\":\"5302\",\"type\":\"LegendItem\"},{\"attributes\":{\"line_alpha\":0.2,\"line_color\":\"#ff7f0e\",\"line_width\":2,\"x\":{\"field\":\"year\"},\"y\":{\"field\":\"estimated_riders\"}},\"id\":\"5309\",\"type\":\"Line\"},{\"attributes\":{},\"id\":\"5242\",\"type\":\"WheelZoomTool\"},{\"attributes\":{\"line_color\":\"#ff7f0e\",\"line_width\":2,\"x\":{\"field\":\"year\"},\"y\":{\"field\":\"estimated_riders\"}},\"id\":\"5327\",\"type\":\"Line\"},{\"attributes\":{},\"id\":\"5240\",\"type\":\"SaveTool\"},{\"attributes\":{\"label\":{\"value\":\"Theodore Wirth\"},\"renderers\":[{\"id\":\"5334\"}]},\"id\":\"5352\",\"type\":\"LegendItem\"},{\"attributes\":{\"margin\":[5,5,5,5],\"name\":\"HSpacer29912\",\"sizing_mode\":\"stretch_width\"},\"id\":\"5214\",\"type\":\"Spacer\"},{\"attributes\":{},\"id\":\"5299\",\"type\":\"UnionRenderers\"},{\"attributes\":{\"overlay\":{\"id\":\"5245\"}},\"id\":\"5243\",\"type\":\"BoxZoomTool\"},{\"attributes\":{},\"id\":\"5244\",\"type\":\"ResetTool\"},{\"attributes\":{\"line_color\":\"#ffbb78\",\"line_width\":2,\"x\":{\"field\":\"year\"},\"y\":{\"field\":\"estimated_riders\"}},\"id\":\"5331\",\"type\":\"Line\"},{\"attributes\":{\"margin\":[5,10,5,10],\"options\":[\"West Lake Marion\",\"Lebanon Hills\",\"Murphy-Hanrehan\",\"Battle Creek\",\"Theodore Wirth\",\"Xcel Energy\"],\"placeholder\":\"\",\"sizing_mode\":\"stretch_width\",\"title\":\"Region Selection\",\"value\":[\"West Lake Marion\",\"Lebanon Hills\",\"Murphy-Hanrehan\",\"Battle Creek\",\"Theodore Wirth\",\"Xcel Energy\"]},\"id\":\"5213\",\"type\":\"MultiChoice\"},{\"attributes\":{\"bottom_units\":\"screen\",\"coordinates\":null,\"fill_alpha\":0.5,\"fill_color\":\"lightgrey\",\"group\":null,\"left_units\":\"screen\",\"level\":\"overlay\",\"line_alpha\":1.0,\"line_color\":\"black\",\"line_dash\":[4,4],\"line_width\":2,\"right_units\":\"screen\",\"syncable\":false,\"top_units\":\"screen\"},\"id\":\"5245\",\"type\":\"BoxAnnotation\"},{\"attributes\":{},\"id\":\"5255\",\"type\":\"AllLabels\"},{\"attributes\":{\"click_policy\":\"mute\",\"coordinates\":null,\"group\":null,\"items\":[{\"id\":\"5280\"},{\"id\":\"5302\"},{\"id\":\"5326\"},{\"id\":\"5352\"},{\"id\":\"5380\"},{\"id\":\"5410\"}],\"location\":[0,0],\"title\":\"region\"},\"id\":\"5279\",\"type\":\"Legend\"},{\"attributes\":{\"line_alpha\":0.1,\"line_color\":\"#1f77b4\",\"line_width\":2,\"x\":{\"field\":\"year\"},\"y\":{\"field\":\"estimated_riders\"}},\"id\":\"5265\",\"type\":\"Line\"},{\"attributes\":{\"line_color\":\"#2ca02c\",\"line_width\":2,\"x\":{\"field\":\"year\"},\"y\":{\"field\":\"estimated_riders\"}},\"id\":\"5381\",\"type\":\"Line\"},{\"attributes\":{\"data\":{\"estimated_riders\":{\"__ndarray__\":\"AAAAAAAAAAA=\",\"dtype\":\"int32\",\"order\":\"little\",\"shape\":[2]},\"region\":[\"Xcel Energy\",\"Xcel Energy\"],\"year\":[2015,2016]},\"selected\":{\"id\":\"5383\"},\"selection_policy\":{\"id\":\"5407\"}},\"id\":\"5382\",\"type\":\"ColumnDataSource\"},{\"attributes\":{},\"id\":\"5276\",\"type\":\"UnionRenderers\"},{\"attributes\":{\"data\":{\"estimated_riders\":{\"__ndarray__\":\"0gAAAEQBAAA=\",\"dtype\":\"int32\",\"order\":\"little\",\"shape\":[2]},\"region\":[\"Lebanon Hills\",\"Lebanon Hills\"],\"year\":[2015,2016]},\"selected\":{\"id\":\"5283\"},\"selection_policy\":{\"id\":\"5299\"}},\"id\":\"5282\",\"type\":\"ColumnDataSource\"},{\"attributes\":{},\"id\":\"5329\",\"type\":\"Selection\"},{\"attributes\":{\"line_alpha\":0.2,\"line_color\":\"#2ca02c\",\"line_width\":2,\"x\":{\"field\":\"year\"},\"y\":{\"field\":\"estimated_riders\"}},\"id\":\"5359\",\"type\":\"Line\"},{\"attributes\":{\"line_color\":\"#98df8a\",\"line_width\":2,\"x\":{\"field\":\"year\"},\"y\":{\"field\":\"estimated_riders\"}},\"id\":\"5385\",\"type\":\"Line\"},{\"attributes\":{\"line_color\":\"#1f77b4\",\"line_width\":2,\"x\":{\"field\":\"year\"},\"y\":{\"field\":\"estimated_riders\"}},\"id\":\"5264\",\"type\":\"Line\"},{\"attributes\":{},\"id\":\"5228\",\"type\":\"LinearScale\"},{\"attributes\":{},\"id\":\"5349\",\"type\":\"UnionRenderers\"},{\"attributes\":{\"line_color\":\"#2ca02c\",\"line_width\":2,\"x\":{\"field\":\"year\"},\"y\":{\"field\":\"estimated_riders\"}},\"id\":\"5357\",\"type\":\"Line\"},{\"attributes\":{\"label\":{\"value\":\"Xcel Energy\"},\"renderers\":[{\"id\":\"5388\"}]},\"id\":\"5410\",\"type\":\"LegendItem\"},{\"attributes\":{\"line_alpha\":0.2,\"line_color\":\"#1f77b4\",\"line_width\":2,\"x\":{\"field\":\"year\"},\"y\":{\"field\":\"estimated_riders\"}},\"id\":\"5266\",\"type\":\"Line\"},{\"attributes\":{\"line_alpha\":0.2,\"line_color\":\"#98df8a\",\"line_width\":2,\"x\":{\"field\":\"year\"},\"y\":{\"field\":\"estimated_riders\"}},\"id\":\"5387\",\"type\":\"Line\"},{\"attributes\":{\"line_alpha\":0.1,\"line_color\":\"#98df8a\",\"line_width\":2,\"x\":{\"field\":\"year\"},\"y\":{\"field\":\"estimated_riders\"}},\"id\":\"5386\",\"type\":\"Line\"},{\"attributes\":{},\"id\":\"5383\",\"type\":\"Selection\"},{\"attributes\":{},\"id\":\"5262\",\"type\":\"Selection\"},{\"attributes\":{\"coordinates\":null,\"data_source\":{\"id\":\"5382\"},\"glyph\":{\"id\":\"5385\"},\"group\":null,\"hover_glyph\":null,\"muted_glyph\":{\"id\":\"5387\"},\"nonselection_glyph\":{\"id\":\"5386\"},\"selection_glyph\":{\"id\":\"5411\"},\"view\":{\"id\":\"5389\"}},\"id\":\"5388\",\"type\":\"GlyphRenderer\"},{\"attributes\":{\"coordinates\":null,\"data_source\":{\"id\":\"5261\"},\"glyph\":{\"id\":\"5264\"},\"group\":null,\"hover_glyph\":null,\"muted_glyph\":{\"id\":\"5266\"},\"nonselection_glyph\":{\"id\":\"5265\"},\"selection_glyph\":{\"id\":\"5281\"},\"view\":{\"id\":\"5268\"}},\"id\":\"5267\",\"type\":\"GlyphRenderer\"},{\"attributes\":{\"line_alpha\":0.1,\"line_color\":\"#ff7f0e\",\"line_width\":2,\"x\":{\"field\":\"year\"},\"y\":{\"field\":\"estimated_riders\"}},\"id\":\"5308\",\"type\":\"Line\"},{\"attributes\":{\"source\":{\"id\":\"5382\"}},\"id\":\"5389\",\"type\":\"CDSView\"},{\"attributes\":{\"line_color\":\"#aec7e8\",\"line_width\":2,\"x\":{\"field\":\"year\"},\"y\":{\"field\":\"estimated_riders\"}},\"id\":\"5303\",\"type\":\"Line\"},{\"attributes\":{},\"id\":\"5407\",\"type\":\"UnionRenderers\"},{\"attributes\":{\"data\":{\"estimated_riders\":{\"__ndarray__\":\"JgAAACkAAAA=\",\"dtype\":\"int32\",\"order\":\"little\",\"shape\":[2]},\"region\":[\"Battle Creek\",\"Battle Creek\"],\"year\":[2015,2016]},\"selected\":{\"id\":\"5262\"},\"selection_policy\":{\"id\":\"5276\"}},\"id\":\"5261\",\"type\":\"ColumnDataSource\"},{\"attributes\":{\"line_alpha\":0.1,\"line_color\":\"#2ca02c\",\"line_width\":2,\"x\":{\"field\":\"year\"},\"y\":{\"field\":\"estimated_riders\"}},\"id\":\"5358\",\"type\":\"Line\"},{\"attributes\":{\"line_alpha\":0.1,\"line_color\":\"#ffbb78\",\"line_width\":2,\"x\":{\"field\":\"year\"},\"y\":{\"field\":\"estimated_riders\"}},\"id\":\"5332\",\"type\":\"Line\"},{\"attributes\":{\"coordinates\":null,\"data_source\":{\"id\":\"5304\"},\"glyph\":{\"id\":\"5307\"},\"group\":null,\"hover_glyph\":null,\"muted_glyph\":{\"id\":\"5309\"},\"nonselection_glyph\":{\"id\":\"5308\"},\"selection_glyph\":{\"id\":\"5327\"},\"view\":{\"id\":\"5311\"}},\"id\":\"5310\",\"type\":\"GlyphRenderer\"},{\"attributes\":{\"line_color\":\"#ffbb78\",\"line_width\":2,\"x\":{\"field\":\"year\"},\"y\":{\"field\":\"estimated_riders\"}},\"id\":\"5353\",\"type\":\"Line\"},{\"attributes\":{\"callback\":null,\"renderers\":[{\"id\":\"5267\"},{\"id\":\"5288\"},{\"id\":\"5310\"},{\"id\":\"5334\"},{\"id\":\"5360\"},{\"id\":\"5388\"}],\"tags\":[\"hv_created\"],\"tooltips\":[[\"region\",\"@{region}\"],[\"year\",\"@{year}\"],[\"estimated_riders\",\"@{estimated_riders}\"]]},\"id\":\"5217\",\"type\":\"HoverTool\"},{\"attributes\":{\"source\":{\"id\":\"5328\"}},\"id\":\"5335\",\"type\":\"CDSView\"},{\"attributes\":{},\"id\":\"5258\",\"type\":\"AllLabels\"},{\"attributes\":{},\"id\":\"5305\",\"type\":\"Selection\"},{\"attributes\":{\"source\":{\"id\":\"5304\"}},\"id\":\"5311\",\"type\":\"CDSView\"},{\"attributes\":{\"label\":{\"value\":\"Murphy-Hanrehan\"},\"renderers\":[{\"id\":\"5310\"}]},\"id\":\"5326\",\"type\":\"LegendItem\"},{\"attributes\":{\"end\":500.5,\"reset_end\":500.5,\"reset_start\":-45.5,\"start\":-45.5,\"tags\":[[[\"estimated_riders\",\"estimated_riders\",null]]]},\"id\":\"5216\",\"type\":\"Range1d\"},{\"attributes\":{\"below\":[{\"id\":\"5232\"}],\"center\":[{\"id\":\"5235\"},{\"id\":\"5239\"}],\"height\":300,\"left\":[{\"id\":\"5236\"},{\"id\":\"5279\"}],\"margin\":[5,5,5,5],\"min_border_bottom\":10,\"min_border_left\":10,\"min_border_right\":10,\"min_border_top\":10,\"renderers\":[{\"id\":\"5267\"},{\"id\":\"5288\"},{\"id\":\"5310\"},{\"id\":\"5334\"},{\"id\":\"5360\"},{\"id\":\"5388\"}],\"sizing_mode\":\"stretch_width\",\"title\":{\"id\":\"5224\"},\"toolbar\":{\"id\":\"5246\"},\"width\":700,\"x_range\":{\"id\":\"5215\"},\"x_scale\":{\"id\":\"5228\"},\"y_range\":{\"id\":\"5216\"},\"y_scale\":{\"id\":\"5230\"}},\"id\":\"5223\",\"subtype\":\"Figure\",\"type\":\"Plot\"},{\"attributes\":{\"tools\":[{\"id\":\"5217\"},{\"id\":\"5240\"},{\"id\":\"5241\"},{\"id\":\"5242\"},{\"id\":\"5243\"},{\"id\":\"5244\"}]},\"id\":\"5246\",\"type\":\"Toolbar\"},{\"attributes\":{\"end\":2016.0,\"reset_end\":2016.0,\"reset_start\":2015.0,\"start\":2015.0,\"tags\":[[[\"year\",\"year\",null]]]},\"id\":\"5215\",\"type\":\"Range1d\"},{\"attributes\":{},\"id\":\"5323\",\"type\":\"UnionRenderers\"},{\"attributes\":{\"source\":{\"id\":\"5261\"}},\"id\":\"5268\",\"type\":\"CDSView\"},{\"attributes\":{\"coordinates\":null,\"data_source\":{\"id\":\"5354\"},\"glyph\":{\"id\":\"5357\"},\"group\":null,\"hover_glyph\":null,\"muted_glyph\":{\"id\":\"5359\"},\"nonselection_glyph\":{\"id\":\"5358\"},\"selection_glyph\":{\"id\":\"5381\"},\"view\":{\"id\":\"5361\"}},\"id\":\"5360\",\"type\":\"GlyphRenderer\"},{\"attributes\":{\"label\":{\"value\":\"Battle Creek\"},\"renderers\":[{\"id\":\"5267\"}]},\"id\":\"5280\",\"type\":\"LegendItem\"},{\"attributes\":{\"data\":{\"estimated_riders\":{\"__ndarray__\":\"AwAAAAAAAAA=\",\"dtype\":\"int32\",\"order\":\"little\",\"shape\":[2]},\"region\":[\"West Lake Marion\",\"West Lake Marion\"],\"year\":[2015,2016]},\"selected\":{\"id\":\"5355\"},\"selection_policy\":{\"id\":\"5377\"}},\"id\":\"5354\",\"type\":\"ColumnDataSource\"},{\"attributes\":{},\"id\":\"5355\",\"type\":\"Selection\"},{\"attributes\":{\"data\":{\"estimated_riders\":{\"__ndarray__\":\"RAAAALIAAAA=\",\"dtype\":\"int32\",\"order\":\"little\",\"shape\":[2]},\"region\":[\"Murphy-Hanrehan\",\"Murphy-Hanrehan\"],\"year\":[2015,2016]},\"selected\":{\"id\":\"5305\"},\"selection_policy\":{\"id\":\"5323\"}},\"id\":\"5304\",\"type\":\"ColumnDataSource\"},{\"attributes\":{},\"id\":\"5257\",\"type\":\"BasicTickFormatter\"},{\"attributes\":{\"source\":{\"id\":\"5354\"}},\"id\":\"5361\",\"type\":\"CDSView\"},{\"attributes\":{\"line_color\":\"#98df8a\",\"line_width\":2,\"x\":{\"field\":\"year\"},\"y\":{\"field\":\"estimated_riders\"}},\"id\":\"5411\",\"type\":\"Line\"},{\"attributes\":{\"line_color\":\"#1f77b4\",\"line_width\":2,\"x\":{\"field\":\"year\"},\"y\":{\"field\":\"estimated_riders\"}},\"id\":\"5281\",\"type\":\"Line\"}],\"root_ids\":[\"5208\",\"5492\"]},\"title\":\"Bokeh Application\",\"version\":\"2.4.2\"}};\n",
       "    var render_items = [{\"docid\":\"d8713bec-9f95-4272-8136-c27d1f7016cb\",\"root_ids\":[\"5208\"],\"roots\":{\"5208\":\"12beb8ed-4949-4303-9a90-f695f72a6fe0\"}}];\n",
       "    root.Bokeh.embed.embed_items_notebook(docs_json, render_items);\n",
       "  }\n",
       "  if (root.Bokeh !== undefined && root.Bokeh.Panel !== undefined) {\n",
       "    embed_document(root);\n",
       "  } else {\n",
       "    var attempts = 0;\n",
       "    var timer = setInterval(function(root) {\n",
       "      if (root.Bokeh !== undefined && root.Bokeh.Panel !== undefined) {\n",
       "        clearInterval(timer);\n",
       "        embed_document(root);\n",
       "      } else if (document.readyState == \"complete\") {\n",
       "        attempts++;\n",
       "        if (attempts > 200) {\n",
       "          clearInterval(timer);\n",
       "          console.log(\"Bokeh: ERROR: Unable to run BokehJS code because BokehJS library is missing\");\n",
       "        }\n",
       "      }\n",
       "    }, 25, root)\n",
       "  }\n",
       "})(window);</script>"
      ],
      "text/plain": [
       "<hvplot.interactive.Interactive at 0x24d69aa1bb0>"
      ]
     },
     "execution_count": 67,
     "metadata": {
      "application/vnd.holoviews_exec.v0+json": {
       "id": "5208"
      }
     },
     "output_type": "execute_result"
    }
   ],
   "source": [
    "year_slider_1 = pn.widgets.IntSlider(name='Year slider', start=2016, end=2022, step=1, value=2016)\n",
    "year_slider_1\n",
    "\n",
    "df_g_y = (\n",
    "    idf[\n",
    "        (idf.year <= year_slider_1) &\n",
    "        (idf.region.isin(multi_choice_1))\n",
    "        ]\n",
    "    .groupby(['year', 'region'])['estimated_riders'].sum()\n",
    "    .to_frame()\n",
    "    .reset_index()\n",
    "    .sort_values(by='year')  \n",
    "    .reset_index(drop=True)\n",
    ")\n",
    "df_g_y\n",
    "\n",
    "region_plot_by_y = df_g_y.hvplot(\n",
    "    kind='line', \n",
    "    x='year', \n",
    "    by='region', \n",
    "    title='Annual Count of Visitors by Region', \n",
    "    xlabel=\"Year\", \n",
    "    ylabel=\"Visitors\", \n",
    "    grid=True, \n",
    "    color=hv.Cycle(values=color_sequence),\n",
    "    legend=\"left\",\n",
    ")\n",
    "region_plot_by_y\n"
   ]
  },
  {
   "cell_type": "code",
   "execution_count": 68,
   "id": "bac2cdf5-41b3-469d-98bb-8fc0478718de",
   "metadata": {},
   "outputs": [
    {
     "name": "stderr",
     "output_type": "stream",
     "text": [
      "C:\\Users\\faust\\anaconda3\\lib\\site-packages\\holoviews\\core\\data\\pandas.py:221: FutureWarning: In a future version of pandas, a length 1 tuple will be returned when iterating over a groupby with a grouper equal to a list of length 1. Don't supply a list with a single grouper to avoid this warning.\n",
      "  data = [(k, group_type(v, **group_kwargs)) for k, v in\n",
      "C:\\Users\\faust\\anaconda3\\lib\\site-packages\\holoviews\\core\\data\\pandas.py:221: FutureWarning: In a future version of pandas, a length 1 tuple will be returned when iterating over a groupby with a grouper equal to a list of length 1. Don't supply a list with a single grouper to avoid this warning.\n",
      "  data = [(k, group_type(v, **group_kwargs)) for k, v in\n"
     ]
    },
    {
     "data": {},
     "metadata": {},
     "output_type": "display_data"
    },
    {
     "data": {},
     "metadata": {},
     "output_type": "display_data"
    },
    {
     "data": {
      "application/vnd.holoviews_exec.v0+json": "",
      "text/html": [
       "<div id='5593'>\n",
       "\n",
       "\n",
       "\n",
       "\n",
       "\n",
       "  <div class=\"bk-root\" id=\"a94ecd97-a406-4daa-9078-95ae61bacd11\" data-root-id=\"5593\"></div>\n",
       "</div>\n",
       "<script type=\"application/javascript\">(function(root) {\n",
       "  function embed_document(root) {\n",
       "    var docs_json = {\"19fdae53-113d-4685-ae5e-0384a23b63ea\":{\"defs\":[{\"extends\":null,\"module\":null,\"name\":\"ReactiveHTML1\",\"overrides\":[],\"properties\":[]},{\"extends\":null,\"module\":null,\"name\":\"FlexBox1\",\"overrides\":[],\"properties\":[{\"default\":\"flex-start\",\"kind\":null,\"name\":\"align_content\"},{\"default\":\"flex-start\",\"kind\":null,\"name\":\"align_items\"},{\"default\":\"row\",\"kind\":null,\"name\":\"flex_direction\"},{\"default\":\"wrap\",\"kind\":null,\"name\":\"flex_wrap\"},{\"default\":\"flex-start\",\"kind\":null,\"name\":\"justify_content\"}]},{\"extends\":null,\"module\":null,\"name\":\"GridStack1\",\"overrides\":[],\"properties\":[{\"default\":\"warn\",\"kind\":null,\"name\":\"mode\"},{\"default\":null,\"kind\":null,\"name\":\"ncols\"},{\"default\":null,\"kind\":null,\"name\":\"nrows\"},{\"default\":true,\"kind\":null,\"name\":\"allow_resize\"},{\"default\":true,\"kind\":null,\"name\":\"allow_drag\"},{\"default\":[],\"kind\":null,\"name\":\"state\"}]},{\"extends\":null,\"module\":null,\"name\":\"click1\",\"overrides\":[],\"properties\":[{\"default\":\"\",\"kind\":null,\"name\":\"terminal_output\"},{\"default\":\"\",\"kind\":null,\"name\":\"debug_name\"},{\"default\":0,\"kind\":null,\"name\":\"clears\"}]},{\"extends\":null,\"module\":null,\"name\":\"NotificationAreaBase1\",\"overrides\":[],\"properties\":[{\"default\":\"bottom-right\",\"kind\":null,\"name\":\"position\"},{\"default\":0,\"kind\":null,\"name\":\"_clear\"}]},{\"extends\":null,\"module\":null,\"name\":\"NotificationArea1\",\"overrides\":[],\"properties\":[{\"default\":[],\"kind\":null,\"name\":\"notifications\"},{\"default\":\"bottom-right\",\"kind\":null,\"name\":\"position\"},{\"default\":0,\"kind\":null,\"name\":\"_clear\"},{\"default\":[{\"background\":\"#ffc107\",\"icon\":{\"className\":\"fas fa-exclamation-triangle\",\"color\":\"white\",\"tagName\":\"i\"},\"type\":\"warning\"},{\"background\":\"#007bff\",\"icon\":{\"className\":\"fas fa-info-circle\",\"color\":\"white\",\"tagName\":\"i\"},\"type\":\"info\"}],\"kind\":null,\"name\":\"types\"}]},{\"extends\":null,\"module\":null,\"name\":\"Notification\",\"overrides\":[],\"properties\":[{\"default\":null,\"kind\":null,\"name\":\"background\"},{\"default\":3000,\"kind\":null,\"name\":\"duration\"},{\"default\":null,\"kind\":null,\"name\":\"icon\"},{\"default\":\"\",\"kind\":null,\"name\":\"message\"},{\"default\":null,\"kind\":null,\"name\":\"notification_type\"},{\"default\":false,\"kind\":null,\"name\":\"_destroyed\"}]},{\"extends\":null,\"module\":null,\"name\":\"TemplateActions1\",\"overrides\":[],\"properties\":[{\"default\":0,\"kind\":null,\"name\":\"open_modal\"},{\"default\":0,\"kind\":null,\"name\":\"close_modal\"}]},{\"extends\":null,\"module\":null,\"name\":\"MaterialTemplateActions1\",\"overrides\":[],\"properties\":[{\"default\":0,\"kind\":null,\"name\":\"open_modal\"},{\"default\":0,\"kind\":null,\"name\":\"close_modal\"}]}],\"roots\":{\"references\":[{\"attributes\":{\"children\":[{\"id\":\"5594\"}],\"margin\":[0,0,0,0],\"name\":\"Row31058\",\"sizing_mode\":\"stretch_width\"},\"id\":\"5593\",\"type\":\"Row\"},{\"attributes\":{},\"id\":\"5626\",\"type\":\"PanTool\"},{\"attributes\":{\"line_alpha\":0.2,\"line_color\":\"#ffbb78\",\"line_width\":2,\"x\":{\"field\":\"month\"},\"y\":{\"field\":\"estimated_riders\"}},\"id\":\"5718\",\"type\":\"Line\"},{\"attributes\":{},\"id\":\"5639\",\"type\":\"BasicTickFormatter\"},{\"attributes\":{\"line_alpha\":0.1,\"line_color\":\"#98df8a\",\"line_width\":2,\"x\":{\"field\":\"month\"},\"y\":{\"field\":\"estimated_riders\"}},\"id\":\"5771\",\"type\":\"Line\"},{\"attributes\":{},\"id\":\"5627\",\"type\":\"WheelZoomTool\"},{\"attributes\":{},\"id\":\"5684\",\"type\":\"UnionRenderers\"},{\"attributes\":{\"label\":{\"value\":\"Xcel Energy\"},\"renderers\":[{\"id\":\"5773\"}]},\"id\":\"5795\",\"type\":\"LegendItem\"},{\"attributes\":{\"coordinates\":null,\"data_source\":{\"id\":\"5713\"},\"glyph\":{\"id\":\"5716\"},\"group\":null,\"hover_glyph\":null,\"muted_glyph\":{\"id\":\"5718\"},\"nonselection_glyph\":{\"id\":\"5717\"},\"selection_glyph\":{\"id\":\"5738\"},\"view\":{\"id\":\"5720\"}},\"id\":\"5719\",\"type\":\"GlyphRenderer\"},{\"attributes\":{\"line_alpha\":0.2,\"line_color\":\"#98df8a\",\"line_width\":2,\"x\":{\"field\":\"month\"},\"y\":{\"field\":\"estimated_riders\"}},\"id\":\"5772\",\"type\":\"Line\"},{\"attributes\":{},\"id\":\"5625\",\"type\":\"SaveTool\"},{\"attributes\":{\"line_color\":\"#ffbb78\",\"line_width\":2,\"x\":{\"field\":\"month\"},\"y\":{\"field\":\"estimated_riders\"}},\"id\":\"5716\",\"type\":\"Line\"},{\"attributes\":{},\"id\":\"5768\",\"type\":\"Selection\"},{\"attributes\":{\"overlay\":{\"id\":\"5630\"}},\"id\":\"5628\",\"type\":\"BoxZoomTool\"},{\"attributes\":{\"coordinates\":null,\"data_source\":{\"id\":\"5767\"},\"glyph\":{\"id\":\"5770\"},\"group\":null,\"hover_glyph\":null,\"muted_glyph\":{\"id\":\"5772\"},\"nonselection_glyph\":{\"id\":\"5771\"},\"selection_glyph\":{\"id\":\"5796\"},\"view\":{\"id\":\"5774\"}},\"id\":\"5773\",\"type\":\"GlyphRenderer\"},{\"attributes\":{},\"id\":\"5629\",\"type\":\"ResetTool\"},{\"attributes\":{\"line_alpha\":0.1,\"line_color\":\"#ffbb78\",\"line_width\":2,\"x\":{\"field\":\"month\"},\"y\":{\"field\":\"estimated_riders\"}},\"id\":\"5717\",\"type\":\"Line\"},{\"attributes\":{\"line_color\":\"#98df8a\",\"line_width\":2,\"x\":{\"field\":\"month\"},\"y\":{\"field\":\"estimated_riders\"}},\"id\":\"5770\",\"type\":\"Line\"},{\"attributes\":{\"bottom_units\":\"screen\",\"coordinates\":null,\"fill_alpha\":0.5,\"fill_color\":\"lightgrey\",\"group\":null,\"left_units\":\"screen\",\"level\":\"overlay\",\"line_alpha\":1.0,\"line_color\":\"black\",\"line_dash\":[4,4],\"line_width\":2,\"right_units\":\"screen\",\"syncable\":false,\"top_units\":\"screen\"},\"id\":\"5630\",\"type\":\"BoxAnnotation\"},{\"attributes\":{\"source\":{\"id\":\"5767\"}},\"id\":\"5774\",\"type\":\"CDSView\"},{\"attributes\":{},\"id\":\"5714\",\"type\":\"Selection\"},{\"attributes\":{\"children\":[{\"id\":\"5595\"},{\"id\":\"5608\"}],\"margin\":[0,0,0,0],\"name\":\"Column31057\",\"sizing_mode\":\"stretch_width\"},\"id\":\"5594\",\"type\":\"Column\"},{\"attributes\":{},\"id\":\"5661\",\"type\":\"UnionRenderers\"},{\"attributes\":{},\"id\":\"5640\",\"type\":\"AllLabels\"},{\"attributes\":{\"source\":{\"id\":\"5713\"}},\"id\":\"5720\",\"type\":\"CDSView\"},{\"attributes\":{\"line_color\":\"#98df8a\",\"line_width\":2,\"x\":{\"field\":\"month\"},\"y\":{\"field\":\"estimated_riders\"}},\"id\":\"5796\",\"type\":\"Line\"},{\"attributes\":{\"line_color\":\"#2ca02c\",\"line_width\":2,\"x\":{\"field\":\"month\"},\"y\":{\"field\":\"estimated_riders\"}},\"id\":\"5742\",\"type\":\"Line\"},{\"attributes\":{\"children\":[{\"id\":\"5596\"},{\"id\":\"5599\"}],\"margin\":[0,0,0,0],\"name\":\"Row31051\",\"sizing_mode\":\"stretch_width\"},\"id\":\"5595\",\"type\":\"Row\"},{\"attributes\":{\"data\":{\"estimated_riders\":{\"__ndarray__\":\"AAAAAAAAAAAAAAAAAAAAAAAAAAAAAAAAAAAAAAAAAAAAAAAAAAAAAAAAAAAAAAAA\",\"dtype\":\"int32\",\"order\":\"little\",\"shape\":[12]},\"month\":[1,2,3,4,5,6,7,8,9,10,11,12],\"region\":[\"Xcel Energy\",\"Xcel Energy\",\"Xcel Energy\",\"Xcel Energy\",\"Xcel Energy\",\"Xcel Energy\",\"Xcel Energy\",\"Xcel Energy\",\"Xcel Energy\",\"Xcel Energy\",\"Xcel Energy\",\"Xcel Energy\"]},\"selected\":{\"id\":\"5768\"},\"selection_policy\":{\"id\":\"5792\"}},\"id\":\"5767\",\"type\":\"ColumnDataSource\"},{\"attributes\":{\"label\":{\"value\":\"Theodore Wirth\"},\"renderers\":[{\"id\":\"5719\"}]},\"id\":\"5737\",\"type\":\"LegendItem\"},{\"attributes\":{\"children\":[{\"id\":\"5597\"},{\"id\":\"5598\"}],\"margin\":[0,0,0,0],\"name\":\"Column31046\",\"sizing_mode\":\"stretch_width\"},\"id\":\"5596\",\"type\":\"Column\"},{\"attributes\":{\"line_alpha\":0.2,\"line_color\":\"#2ca02c\",\"line_width\":2,\"x\":{\"field\":\"month\"},\"y\":{\"field\":\"estimated_riders\"}},\"id\":\"5744\",\"type\":\"Line\"},{\"attributes\":{},\"id\":\"5792\",\"type\":\"UnionRenderers\"},{\"attributes\":{\"label\":{\"value\":\"Lebanon Hills\"},\"renderers\":[{\"id\":\"5673\"}]},\"id\":\"5687\",\"type\":\"LegendItem\"},{\"attributes\":{\"end\":2022,\"margin\":[5,10,5,10],\"sizing_mode\":\"stretch_width\",\"start\":2015,\"title\":\"Year-Month slider\",\"value\":2015},\"id\":\"5597\",\"type\":\"Slider\"},{\"attributes\":{},\"id\":\"5734\",\"type\":\"UnionRenderers\"},{\"attributes\":{\"margin\":[5,5,5,5],\"name\":\"HSpacer31050\",\"sizing_mode\":\"stretch_width\"},\"id\":\"5599\",\"type\":\"Spacer\"},{\"attributes\":{\"tools\":[{\"id\":\"5602\"},{\"id\":\"5625\"},{\"id\":\"5626\"},{\"id\":\"5627\"},{\"id\":\"5628\"},{\"id\":\"5629\"}]},\"id\":\"5631\",\"type\":\"Toolbar\"},{\"attributes\":{\"margin\":[5,10,5,10],\"options\":[\"West Lake Marion\",\"Lebanon Hills\",\"Murphy-Hanrehan\",\"Battle Creek\",\"Theodore Wirth\",\"Xcel Energy\"],\"placeholder\":\"\",\"sizing_mode\":\"stretch_width\",\"title\":\"Region Selection\",\"value\":[\"West Lake Marion\",\"Lebanon Hills\",\"Murphy-Hanrehan\",\"Battle Creek\",\"Theodore Wirth\",\"Xcel Energy\"]},\"id\":\"5598\",\"type\":\"MultiChoice\"},{\"attributes\":{\"line_color\":\"#aec7e8\",\"line_width\":2,\"x\":{\"field\":\"month\"},\"y\":{\"field\":\"estimated_riders\"}},\"id\":\"5688\",\"type\":\"Line\"},{\"attributes\":{\"line_alpha\":0.2,\"line_color\":\"#ff7f0e\",\"line_width\":2,\"x\":{\"field\":\"month\"},\"y\":{\"field\":\"estimated_riders\"}},\"id\":\"5694\",\"type\":\"Line\"},{\"attributes\":{},\"id\":\"5643\",\"type\":\"AllLabels\"},{\"attributes\":{\"line_color\":\"#ff7f0e\",\"line_width\":2,\"x\":{\"field\":\"month\"},\"y\":{\"field\":\"estimated_riders\"}},\"id\":\"5692\",\"type\":\"Line\"},{\"attributes\":{\"data\":{\"estimated_riders\":{\"__ndarray__\":\"AwAAAAAAAAAAAAAACQAAAAMAAAADAAAAAwAAAAYAAAADAAAACAAAAAAAAAAAAAAA\",\"dtype\":\"int32\",\"order\":\"little\",\"shape\":[12]},\"month\":[1,2,3,4,5,6,7,8,9,10,11,12],\"region\":[\"Battle Creek\",\"Battle Creek\",\"Battle Creek\",\"Battle Creek\",\"Battle Creek\",\"Battle Creek\",\"Battle Creek\",\"Battle Creek\",\"Battle Creek\",\"Battle Creek\",\"Battle Creek\",\"Battle Creek\"]},\"selected\":{\"id\":\"5647\"},\"selection_policy\":{\"id\":\"5661\"}},\"id\":\"5646\",\"type\":\"ColumnDataSource\"},{\"attributes\":{\"data\":{\"estimated_riders\":{\"__ndarray__\":\"BQAAAAAAAAABAAAADgAAAA8AAAAfAAAAJgAAAD8AAABEAAAAKQAAABMAAAAGAAAA\",\"dtype\":\"int32\",\"order\":\"little\",\"shape\":[12]},\"month\":[1,2,3,4,5,6,7,8,9,10,11,12],\"region\":[\"Theodore Wirth\",\"Theodore Wirth\",\"Theodore Wirth\",\"Theodore Wirth\",\"Theodore Wirth\",\"Theodore Wirth\",\"Theodore Wirth\",\"Theodore Wirth\",\"Theodore Wirth\",\"Theodore Wirth\",\"Theodore Wirth\",\"Theodore Wirth\"]},\"selected\":{\"id\":\"5714\"},\"selection_policy\":{\"id\":\"5734\"}},\"id\":\"5713\",\"type\":\"ColumnDataSource\"},{\"attributes\":{\"coordinates\":null,\"data_source\":{\"id\":\"5689\"},\"glyph\":{\"id\":\"5692\"},\"group\":null,\"hover_glyph\":null,\"muted_glyph\":{\"id\":\"5694\"},\"nonselection_glyph\":{\"id\":\"5693\"},\"selection_glyph\":{\"id\":\"5712\"},\"view\":{\"id\":\"5696\"}},\"id\":\"5695\",\"type\":\"GlyphRenderer\"},{\"attributes\":{\"data\":{\"estimated_riders\":{\"__ndarray__\":\"AAAAAAAAAAAAAAAAAwAAAAAAAAAAAAAAAAAAAAAAAAAAAAAAAAAAAAAAAAAAAAAA\",\"dtype\":\"int32\",\"order\":\"little\",\"shape\":[12]},\"month\":[1,2,3,4,5,6,7,8,9,10,11,12],\"region\":[\"West Lake Marion\",\"West Lake Marion\",\"West Lake Marion\",\"West Lake Marion\",\"West Lake Marion\",\"West Lake Marion\",\"West Lake Marion\",\"West Lake Marion\",\"West Lake Marion\",\"West Lake Marion\",\"West Lake Marion\",\"West Lake Marion\"]},\"selected\":{\"id\":\"5740\"},\"selection_policy\":{\"id\":\"5762\"}},\"id\":\"5739\",\"type\":\"ColumnDataSource\"},{\"attributes\":{\"line_alpha\":0.1,\"line_color\":\"#2ca02c\",\"line_width\":2,\"x\":{\"field\":\"month\"},\"y\":{\"field\":\"estimated_riders\"}},\"id\":\"5743\",\"type\":\"Line\"},{\"attributes\":{},\"id\":\"5690\",\"type\":\"Selection\"},{\"attributes\":{\"end\":12.0,\"reset_end\":12.0,\"reset_start\":1.0,\"start\":1.0,\"tags\":[[[\"month\",\"month\",null]]]},\"id\":\"5600\",\"type\":\"Range1d\"},{\"attributes\":{\"line_alpha\":0.1,\"line_color\":\"#ff7f0e\",\"line_width\":2,\"x\":{\"field\":\"month\"},\"y\":{\"field\":\"estimated_riders\"}},\"id\":\"5693\",\"type\":\"Line\"},{\"attributes\":{\"source\":{\"id\":\"5689\"}},\"id\":\"5696\",\"type\":\"CDSView\"},{\"attributes\":{\"line_color\":\"#ffbb78\",\"line_width\":2,\"x\":{\"field\":\"month\"},\"y\":{\"field\":\"estimated_riders\"}},\"id\":\"5738\",\"type\":\"Line\"},{\"attributes\":{\"label\":{\"value\":\"Murphy-Hanrehan\"},\"renderers\":[{\"id\":\"5695\"}]},\"id\":\"5711\",\"type\":\"LegendItem\"},{\"attributes\":{\"end\":74.8,\"reset_end\":74.8,\"reset_start\":-6.800000000000001,\"start\":-6.800000000000001,\"tags\":[[[\"estimated_riders\",\"estimated_riders\",null]]]},\"id\":\"5601\",\"type\":\"Range1d\"},{\"attributes\":{},\"id\":\"5708\",\"type\":\"UnionRenderers\"},{\"attributes\":{},\"id\":\"5613\",\"type\":\"LinearScale\"},{\"attributes\":{\"callback\":null,\"renderers\":[{\"id\":\"5652\"},{\"id\":\"5673\"},{\"id\":\"5695\"},{\"id\":\"5719\"},{\"id\":\"5745\"},{\"id\":\"5773\"}],\"tags\":[\"hv_created\"],\"tooltips\":[[\"region\",\"@{region}\"],[\"month\",\"@{month}\"],[\"estimated_riders\",\"@{estimated_riders}\"]]},\"id\":\"5602\",\"type\":\"HoverTool\"},{\"attributes\":{\"data\":{\"estimated_riders\":{\"__ndarray__\":\"BQAAAAgAAAABAAAABgAAAAcAAAAPAAAAIwAAAC4AAAAZAAAAIQAAABQAAAAJAAAA\",\"dtype\":\"int32\",\"order\":\"little\",\"shape\":[12]},\"month\":[1,2,3,4,5,6,7,8,9,10,11,12],\"region\":[\"Lebanon Hills\",\"Lebanon Hills\",\"Lebanon Hills\",\"Lebanon Hills\",\"Lebanon Hills\",\"Lebanon Hills\",\"Lebanon Hills\",\"Lebanon Hills\",\"Lebanon Hills\",\"Lebanon Hills\",\"Lebanon Hills\",\"Lebanon Hills\"]},\"selected\":{\"id\":\"5668\"},\"selection_policy\":{\"id\":\"5684\"}},\"id\":\"5667\",\"type\":\"ColumnDataSource\"},{\"attributes\":{\"source\":{\"id\":\"5646\"}},\"id\":\"5653\",\"type\":\"CDSView\"},{\"attributes\":{\"below\":[{\"id\":\"5617\"}],\"center\":[{\"id\":\"5620\"},{\"id\":\"5624\"}],\"height\":300,\"left\":[{\"id\":\"5621\"},{\"id\":\"5664\"}],\"margin\":[5,5,5,5],\"min_border_bottom\":10,\"min_border_left\":10,\"min_border_right\":10,\"min_border_top\":10,\"renderers\":[{\"id\":\"5652\"},{\"id\":\"5673\"},{\"id\":\"5695\"},{\"id\":\"5719\"},{\"id\":\"5745\"},{\"id\":\"5773\"}],\"sizing_mode\":\"stretch_width\",\"title\":{\"id\":\"5609\"},\"toolbar\":{\"id\":\"5631\"},\"width\":700,\"x_range\":{\"id\":\"5600\"},\"x_scale\":{\"id\":\"5613\"},\"y_range\":{\"id\":\"5601\"},\"y_scale\":{\"id\":\"5615\"}},\"id\":\"5608\",\"subtype\":\"Figure\",\"type\":\"Plot\"},{\"attributes\":{\"coordinates\":null,\"data_source\":{\"id\":\"5739\"},\"glyph\":{\"id\":\"5742\"},\"group\":null,\"hover_glyph\":null,\"muted_glyph\":{\"id\":\"5744\"},\"nonselection_glyph\":{\"id\":\"5743\"},\"selection_glyph\":{\"id\":\"5766\"},\"view\":{\"id\":\"5746\"}},\"id\":\"5745\",\"type\":\"GlyphRenderer\"},{\"attributes\":{\"line_alpha\":0.1,\"line_color\":\"#1f77b4\",\"line_width\":2,\"x\":{\"field\":\"month\"},\"y\":{\"field\":\"estimated_riders\"}},\"id\":\"5650\",\"type\":\"Line\"},{\"attributes\":{\"line_alpha\":0.2,\"line_color\":\"#aec7e8\",\"line_width\":2,\"x\":{\"field\":\"month\"},\"y\":{\"field\":\"estimated_riders\"}},\"id\":\"5672\",\"type\":\"Line\"},{\"attributes\":{\"line_color\":\"#1f77b4\",\"line_width\":2,\"x\":{\"field\":\"month\"},\"y\":{\"field\":\"estimated_riders\"}},\"id\":\"5649\",\"type\":\"Line\"},{\"attributes\":{\"line_alpha\":0.1,\"line_color\":\"#aec7e8\",\"line_width\":2,\"x\":{\"field\":\"month\"},\"y\":{\"field\":\"estimated_riders\"}},\"id\":\"5671\",\"type\":\"Line\"},{\"attributes\":{},\"id\":\"5740\",\"type\":\"Selection\"},{\"attributes\":{\"line_color\":\"#1f77b4\",\"line_width\":2,\"x\":{\"field\":\"month\"},\"y\":{\"field\":\"estimated_riders\"}},\"id\":\"5666\",\"type\":\"Line\"},{\"attributes\":{\"line_alpha\":0.2,\"line_color\":\"#1f77b4\",\"line_width\":2,\"x\":{\"field\":\"month\"},\"y\":{\"field\":\"estimated_riders\"}},\"id\":\"5651\",\"type\":\"Line\"},{\"attributes\":{\"source\":{\"id\":\"5739\"}},\"id\":\"5746\",\"type\":\"CDSView\"},{\"attributes\":{\"label\":{\"value\":\"Battle Creek\"},\"renderers\":[{\"id\":\"5652\"}]},\"id\":\"5665\",\"type\":\"LegendItem\"},{\"attributes\":{\"label\":{\"value\":\"West Lake Marion\"},\"renderers\":[{\"id\":\"5745\"}]},\"id\":\"5765\",\"type\":\"LegendItem\"},{\"attributes\":{\"data\":{\"estimated_riders\":{\"__ndarray__\":\"AQAAAAEAAAAAAAAAAwAAAAkAAAAFAAAACwAAAAoAAAAJAAAACgAAAAYAAAADAAAA\",\"dtype\":\"int32\",\"order\":\"little\",\"shape\":[12]},\"month\":[1,2,3,4,5,6,7,8,9,10,11,12],\"region\":[\"Murphy-Hanrehan\",\"Murphy-Hanrehan\",\"Murphy-Hanrehan\",\"Murphy-Hanrehan\",\"Murphy-Hanrehan\",\"Murphy-Hanrehan\",\"Murphy-Hanrehan\",\"Murphy-Hanrehan\",\"Murphy-Hanrehan\",\"Murphy-Hanrehan\",\"Murphy-Hanrehan\",\"Murphy-Hanrehan\"]},\"selected\":{\"id\":\"5690\"},\"selection_policy\":{\"id\":\"5708\"}},\"id\":\"5689\",\"type\":\"ColumnDataSource\"},{\"attributes\":{\"line_color\":\"#2ca02c\",\"line_width\":2,\"x\":{\"field\":\"month\"},\"y\":{\"field\":\"estimated_riders\"}},\"id\":\"5766\",\"type\":\"Line\"},{\"attributes\":{},\"id\":\"5762\",\"type\":\"UnionRenderers\"},{\"attributes\":{\"line_color\":\"#aec7e8\",\"line_width\":2,\"x\":{\"field\":\"month\"},\"y\":{\"field\":\"estimated_riders\"}},\"id\":\"5670\",\"type\":\"Line\"},{\"attributes\":{\"client_comm_id\":\"71d2dab9ad4e4aa48edecb8842c97b27\",\"comm_id\":\"836097e113e541c18f4ba9e1edae2b72\",\"plot_id\":\"5593\"},\"id\":\"5877\",\"type\":\"panel.models.comm_manager.CommManager\"},{\"attributes\":{\"click_policy\":\"mute\",\"coordinates\":null,\"group\":null,\"items\":[{\"id\":\"5665\"},{\"id\":\"5687\"},{\"id\":\"5711\"},{\"id\":\"5737\"},{\"id\":\"5765\"},{\"id\":\"5795\"}],\"location\":[0,0],\"title\":\"region\"},\"id\":\"5664\",\"type\":\"Legend\"},{\"attributes\":{\"coordinates\":null,\"data_source\":{\"id\":\"5667\"},\"glyph\":{\"id\":\"5670\"},\"group\":null,\"hover_glyph\":null,\"muted_glyph\":{\"id\":\"5672\"},\"nonselection_glyph\":{\"id\":\"5671\"},\"selection_glyph\":{\"id\":\"5688\"},\"view\":{\"id\":\"5674\"}},\"id\":\"5673\",\"type\":\"GlyphRenderer\"},{\"attributes\":{\"coordinates\":null,\"group\":null,\"text\":\"Count of Visitors by Region\",\"text_color\":\"black\",\"text_font_size\":\"12pt\"},\"id\":\"5609\",\"type\":\"Title\"},{\"attributes\":{\"axis_label\":\"Visitors\",\"coordinates\":null,\"formatter\":{\"id\":\"5642\"},\"group\":null,\"major_label_policy\":{\"id\":\"5643\"},\"ticker\":{\"id\":\"5622\"}},\"id\":\"5621\",\"type\":\"LinearAxis\"},{\"attributes\":{\"axis\":{\"id\":\"5617\"},\"coordinates\":null,\"group\":null,\"ticker\":{\"id\":\"5618\"}},\"id\":\"5620\",\"type\":\"Grid\"},{\"attributes\":{},\"id\":\"5647\",\"type\":\"Selection\"},{\"attributes\":{},\"id\":\"5668\",\"type\":\"Selection\"},{\"attributes\":{\"axis_label\":\"Month\",\"coordinates\":null,\"formatter\":{\"id\":\"5639\"},\"group\":null,\"major_label_policy\":{\"id\":\"5640\"},\"ticker\":{\"id\":\"5618\"}},\"id\":\"5617\",\"type\":\"LinearAxis\"},{\"attributes\":{},\"id\":\"5615\",\"type\":\"LinearScale\"},{\"attributes\":{\"coordinates\":null,\"data_source\":{\"id\":\"5646\"},\"glyph\":{\"id\":\"5649\"},\"group\":null,\"hover_glyph\":null,\"muted_glyph\":{\"id\":\"5651\"},\"nonselection_glyph\":{\"id\":\"5650\"},\"selection_glyph\":{\"id\":\"5666\"},\"view\":{\"id\":\"5653\"}},\"id\":\"5652\",\"type\":\"GlyphRenderer\"},{\"attributes\":{\"line_color\":\"#ff7f0e\",\"line_width\":2,\"x\":{\"field\":\"month\"},\"y\":{\"field\":\"estimated_riders\"}},\"id\":\"5712\",\"type\":\"Line\"},{\"attributes\":{},\"id\":\"5642\",\"type\":\"BasicTickFormatter\"},{\"attributes\":{\"source\":{\"id\":\"5667\"}},\"id\":\"5674\",\"type\":\"CDSView\"},{\"attributes\":{},\"id\":\"5618\",\"type\":\"BasicTicker\"},{\"attributes\":{},\"id\":\"5622\",\"type\":\"BasicTicker\"},{\"attributes\":{\"axis\":{\"id\":\"5621\"},\"coordinates\":null,\"dimension\":1,\"group\":null,\"ticker\":{\"id\":\"5622\"}},\"id\":\"5624\",\"type\":\"Grid\"}],\"root_ids\":[\"5593\",\"5877\"]},\"title\":\"Bokeh Application\",\"version\":\"2.4.2\"}};\n",
       "    var render_items = [{\"docid\":\"19fdae53-113d-4685-ae5e-0384a23b63ea\",\"root_ids\":[\"5593\"],\"roots\":{\"5593\":\"a94ecd97-a406-4daa-9078-95ae61bacd11\"}}];\n",
       "    root.Bokeh.embed.embed_items_notebook(docs_json, render_items);\n",
       "  }\n",
       "  if (root.Bokeh !== undefined && root.Bokeh.Panel !== undefined) {\n",
       "    embed_document(root);\n",
       "  } else {\n",
       "    var attempts = 0;\n",
       "    var timer = setInterval(function(root) {\n",
       "      if (root.Bokeh !== undefined && root.Bokeh.Panel !== undefined) {\n",
       "        clearInterval(timer);\n",
       "        embed_document(root);\n",
       "      } else if (document.readyState == \"complete\") {\n",
       "        attempts++;\n",
       "        if (attempts > 200) {\n",
       "          clearInterval(timer);\n",
       "          console.log(\"Bokeh: ERROR: Unable to run BokehJS code because BokehJS library is missing\");\n",
       "        }\n",
       "      }\n",
       "    }, 25, root)\n",
       "  }\n",
       "})(window);</script>"
      ],
      "text/plain": [
       "<hvplot.interactive.Interactive at 0x24d6ab74e80>"
      ]
     },
     "execution_count": 68,
     "metadata": {
      "application/vnd.holoviews_exec.v0+json": {
       "id": "5593"
      }
     },
     "output_type": "execute_result"
    }
   ],
   "source": [
    "year_slider_2 = pn.widgets.IntSlider(name='Year-Month slider', start=2015, end=2022, step=1, value=2015)\n",
    "year_slider_2\n",
    "multi_choice_2 = pn.widgets.MultiChoice(name='Region Selection', value=regions_list,\n",
    "    options=regions_list)\n",
    "\n",
    "df_g_ym = (\n",
    "    idf[\n",
    "        (idf.year == year_slider_2) &\n",
    "        (idf.region.isin(multi_choice_2))\n",
    "        ]\n",
    "    .groupby(['month', 'region'])['estimated_riders'].sum()\n",
    "    .to_frame()\n",
    "    .reset_index()\n",
    "    .sort_values(by='month')  \n",
    "    .reset_index(drop=True)\n",
    ")\n",
    "\n",
    "region_plot_by_ym = df_g_ym.hvplot(\n",
    "    kind='line', \n",
    "    x='month', \n",
    "    by='region', \n",
    "    title='Count of Visitors by Region', \n",
    "    xlabel=\"Month\", \n",
    "    ylabel=\"Visitors\", \n",
    "    grid=True, \n",
    "    color=hv.Cycle(values=color_sequence),\n",
    "    legend=\"left\",\n",
    ")\n",
    "region_plot_by_ym"
   ]
  },
  {
   "cell_type": "code",
   "execution_count": 69,
   "id": "bd6845f6-d869-4ba7-a4fc-9e33124a199f",
   "metadata": {},
   "outputs": [
    {
     "data": {},
     "metadata": {},
     "output_type": "display_data"
    },
    {
     "data": {},
     "metadata": {},
     "output_type": "display_data"
    },
    {
     "data": {
      "application/vnd.holoviews_exec.v0+json": "",
      "text/html": [
       "<div id='5978'>\n",
       "\n",
       "\n",
       "\n",
       "\n",
       "\n",
       "  <div class=\"bk-root\" id=\"5bde94fe-ddb4-4e4d-a3e5-31efacfeaa79\" data-root-id=\"5978\"></div>\n",
       "</div>\n",
       "<script type=\"application/javascript\">(function(root) {\n",
       "  function embed_document(root) {\n",
       "    var docs_json = {\"c834b84b-9264-40de-a38a-3a8a53922c1b\":{\"defs\":[{\"extends\":null,\"module\":null,\"name\":\"ReactiveHTML1\",\"overrides\":[],\"properties\":[]},{\"extends\":null,\"module\":null,\"name\":\"FlexBox1\",\"overrides\":[],\"properties\":[{\"default\":\"flex-start\",\"kind\":null,\"name\":\"align_content\"},{\"default\":\"flex-start\",\"kind\":null,\"name\":\"align_items\"},{\"default\":\"row\",\"kind\":null,\"name\":\"flex_direction\"},{\"default\":\"wrap\",\"kind\":null,\"name\":\"flex_wrap\"},{\"default\":\"flex-start\",\"kind\":null,\"name\":\"justify_content\"}]},{\"extends\":null,\"module\":null,\"name\":\"GridStack1\",\"overrides\":[],\"properties\":[{\"default\":\"warn\",\"kind\":null,\"name\":\"mode\"},{\"default\":null,\"kind\":null,\"name\":\"ncols\"},{\"default\":null,\"kind\":null,\"name\":\"nrows\"},{\"default\":true,\"kind\":null,\"name\":\"allow_resize\"},{\"default\":true,\"kind\":null,\"name\":\"allow_drag\"},{\"default\":[],\"kind\":null,\"name\":\"state\"}]},{\"extends\":null,\"module\":null,\"name\":\"click1\",\"overrides\":[],\"properties\":[{\"default\":\"\",\"kind\":null,\"name\":\"terminal_output\"},{\"default\":\"\",\"kind\":null,\"name\":\"debug_name\"},{\"default\":0,\"kind\":null,\"name\":\"clears\"}]},{\"extends\":null,\"module\":null,\"name\":\"NotificationAreaBase1\",\"overrides\":[],\"properties\":[{\"default\":\"bottom-right\",\"kind\":null,\"name\":\"position\"},{\"default\":0,\"kind\":null,\"name\":\"_clear\"}]},{\"extends\":null,\"module\":null,\"name\":\"NotificationArea1\",\"overrides\":[],\"properties\":[{\"default\":[],\"kind\":null,\"name\":\"notifications\"},{\"default\":\"bottom-right\",\"kind\":null,\"name\":\"position\"},{\"default\":0,\"kind\":null,\"name\":\"_clear\"},{\"default\":[{\"background\":\"#ffc107\",\"icon\":{\"className\":\"fas fa-exclamation-triangle\",\"color\":\"white\",\"tagName\":\"i\"},\"type\":\"warning\"},{\"background\":\"#007bff\",\"icon\":{\"className\":\"fas fa-info-circle\",\"color\":\"white\",\"tagName\":\"i\"},\"type\":\"info\"}],\"kind\":null,\"name\":\"types\"}]},{\"extends\":null,\"module\":null,\"name\":\"Notification\",\"overrides\":[],\"properties\":[{\"default\":null,\"kind\":null,\"name\":\"background\"},{\"default\":3000,\"kind\":null,\"name\":\"duration\"},{\"default\":null,\"kind\":null,\"name\":\"icon\"},{\"default\":\"\",\"kind\":null,\"name\":\"message\"},{\"default\":null,\"kind\":null,\"name\":\"notification_type\"},{\"default\":false,\"kind\":null,\"name\":\"_destroyed\"}]},{\"extends\":null,\"module\":null,\"name\":\"TemplateActions1\",\"overrides\":[],\"properties\":[{\"default\":0,\"kind\":null,\"name\":\"open_modal\"},{\"default\":0,\"kind\":null,\"name\":\"close_modal\"}]},{\"extends\":null,\"module\":null,\"name\":\"MaterialTemplateActions1\",\"overrides\":[],\"properties\":[{\"default\":0,\"kind\":null,\"name\":\"open_modal\"},{\"default\":0,\"kind\":null,\"name\":\"close_modal\"}]}],\"roots\":{\"references\":[{\"attributes\":{},\"id\":\"6031\",\"type\":\"UnionRenderers\"},{\"attributes\":{\"bottom\":{\"field\":\"bottom\"},\"fill_alpha\":{\"value\":1.0},\"fill_color\":{\"field\":\"region\",\"transform\":{\"id\":\"6015\"}},\"hatch_alpha\":{\"value\":1.0},\"hatch_color\":{\"field\":\"region\",\"transform\":{\"id\":\"6015\"}},\"hatch_scale\":{\"value\":12.0},\"hatch_weight\":{\"value\":1.0},\"line_alpha\":{\"value\":1.0},\"line_cap\":{\"value\":\"butt\"},\"line_color\":{\"value\":\"black\"},\"line_dash\":{\"value\":[]},\"line_dash_offset\":{\"value\":0},\"line_join\":{\"value\":\"bevel\"},\"line_width\":{\"value\":1},\"top\":{\"field\":\"top\"},\"width\":{\"value\":0.8},\"x\":{\"field\":\"year\"}},\"id\":\"6036\",\"type\":\"VBar\"},{\"attributes\":{\"coordinates\":null,\"data_source\":{\"id\":\"6016\"},\"glyph\":{\"id\":\"6019\"},\"group\":null,\"hover_glyph\":null,\"muted_glyph\":{\"id\":\"6021\"},\"nonselection_glyph\":{\"id\":\"6020\"},\"selection_glyph\":{\"id\":\"6036\"},\"view\":{\"id\":\"6023\"}},\"id\":\"6022\",\"type\":\"GlyphRenderer\"},{\"attributes\":{\"margin\":[5,5,5,5],\"name\":\"HSpacer31831\",\"sizing_mode\":\"stretch_width\"},\"id\":\"5982\",\"type\":\"Spacer\"},{\"attributes\":{\"bottom_units\":\"screen\",\"coordinates\":null,\"fill_alpha\":0.5,\"fill_color\":\"lightgrey\",\"group\":null,\"left_units\":\"screen\",\"level\":\"overlay\",\"line_alpha\":1.0,\"line_color\":\"black\",\"line_dash\":[4,4],\"line_width\":2,\"right_units\":\"screen\",\"syncable\":false,\"top_units\":\"screen\"},\"id\":\"6007\",\"type\":\"BoxAnnotation\"},{\"attributes\":{\"coordinates\":null,\"group\":null,\"items\":[{\"id\":\"6035\"}],\"location\":[0,0]},\"id\":\"6034\",\"type\":\"Legend\"},{\"attributes\":{\"data\":{\"bottom\":{\"__ndarray__\":\"AAAAAAAAAAAAAAAAAAAAAAAAAAAAAAAAAAAAAAAAAAAAAAAAAAAAAAAAAAAAAAAAAAAAAAAAAAAAAAAAAAAAAAAAAAAA4IZAAAAAAAA0pEAAAAAAAMBaQAAAAAAAgEVAAAAAAADqoUAAAAAAAOibQAAAAAAAAENAAAAAAACgc0AAAAAAABS9QAAAAAAAGKtAAAAAAACauEAAAAAAADe/QAAAAAAACJ1AAAAAAACweEAAAAAAACBwQAAAAAAA4IlAAAAAAACQdEAAAAAAgHXCQAAAAAAAWIJAAAAAAICoxEAAAAAAAIqjQAAAAAAAl7FAAAAAAADEkkAAAAAAABC/QAAAAAAA/7JAAAAAAEBz0kAAAAAAACSgQAAAAAAA/JBAAAAAAABohEAAAAAAAGfDQAAAAAAAx8pAAAAAAACnzUAAAAAAgLDDQAAAAAAAgIRAAAAAAAAqoEAAAAAAAPyQQAAAAAAAQLNAAAAAAMD80kAAAAAAgLbOQAAAAAAAm8tA\",\"dtype\":\"float64\",\"order\":\"little\",\"shape\":[48]},\"estimated_annual_revenue\":{\"__ndarray__\":\"JgAAANwCAAD6BgAAawAAAPUIAAAaCgAAOgEAACsAAACwCgAAHRUAANECAABgAQAAHxQAAKARAADcAAAACAYAANcHAAALBAAAdgYAABoKAACDAgAAwAAAAEcAAAB1AQAARAEAAGMWAAD0AQAAfCAAADoJAAA3FQAAYQMAAH4WAABBAAAAJgIAAAMAAAAAAAAAAwAAAJMAAACoAQAAHwIAAAAAAAAAAAAAAAAAAAAAAAAAAAAAAAAAAAYAAABIAgAA\",\"dtype\":\"int32\",\"order\":\"little\",\"shape\":[48]},\"region\":[\"Battle Creek\",\"Battle Creek\",\"Battle Creek\",\"Battle Creek\",\"Battle Creek\",\"Battle Creek\",\"Battle Creek\",\"Battle Creek\",\"Lebanon Hills\",\"Lebanon Hills\",\"Lebanon Hills\",\"Lebanon Hills\",\"Lebanon Hills\",\"Lebanon Hills\",\"Lebanon Hills\",\"Lebanon Hills\",\"Murphy-Hanrehan\",\"Murphy-Hanrehan\",\"Murphy-Hanrehan\",\"Murphy-Hanrehan\",\"Murphy-Hanrehan\",\"Murphy-Hanrehan\",\"Murphy-Hanrehan\",\"Murphy-Hanrehan\",\"Theodore Wirth\",\"Theodore Wirth\",\"Theodore Wirth\",\"Theodore Wirth\",\"Theodore Wirth\",\"Theodore Wirth\",\"Theodore Wirth\",\"Theodore Wirth\",\"West Lake Marion\",\"West Lake Marion\",\"West Lake Marion\",\"West Lake Marion\",\"West Lake Marion\",\"West Lake Marion\",\"West Lake Marion\",\"West Lake Marion\",\"Xcel Energy\",\"Xcel Energy\",\"Xcel Energy\",\"Xcel Energy\",\"Xcel Energy\",\"Xcel Energy\",\"Xcel Energy\",\"Xcel Energy\"],\"top\":{\"__ndarray__\":\"AAAAAAAAQ0AAAAAAAOCGQAAAAAAA6JtAAAAAAADAWkAAAAAAAOqhQAAAAAAANKRAAAAAAACgc0AAAAAAAIBFQAAAAAAAGKtAAAAAAAA3v0AAAAAAAOCJQAAAAAAAsHhAAAAAAAAUvUAAAAAAAJq4QAAAAAAAIHBAAAAAAAAInUAAAAAAgHXCQAAAAAAAl7FAAAAAAAAQv0AAAAAAgKjEQAAAAAAAiqNAAAAAAABYgkAAAAAAAJB0QAAAAAAAxJJAAAAAAABohEAAAAAAAKfNQAAAAAAA/JBAAAAAAEBz0kAAAAAAAP+yQAAAAAAAZ8NAAAAAAAAkoEAAAAAAAMfKQAAAAAAAQLNAAAAAAMD80kAAAAAAACqgQAAAAAAA/JBAAAAAAACAhEAAAAAAgLDDQAAAAAAAm8tAAAAAAIC2zkAAAAAAgLDDQAAAAAAAgIRAAAAAAAAqoEAAAAAAAPyQQAAAAAAAQLNAAAAAAMD80kAAAAAAgLnOQAAAAAAAv8xA\",\"dtype\":\"float64\",\"order\":\"little\",\"shape\":[48]},\"year\":[\"2015\",\"2019\",\"2022\",\"2017\",\"2021\",\"2020\",\"2018\",\"2016\",\"2019\",\"2020\",\"2017\",\"2016\",\"2021\",\"2022\",\"2015\",\"2018\",\"2021\",\"2019\",\"2022\",\"2020\",\"2018\",\"2016\",\"2015\",\"2017\",\"2015\",\"2021\",\"2016\",\"2020\",\"2018\",\"2019\",\"2017\",\"2022\",\"2018\",\"2020\",\"2017\",\"2016\",\"2015\",\"2019\",\"2022\",\"2021\",\"2019\",\"2015\",\"2017\",\"2016\",\"2018\",\"2020\",\"2021\",\"2022\"]},\"selected\":{\"id\":\"6017\"},\"selection_policy\":{\"id\":\"6031\"}},\"id\":\"6016\",\"type\":\"ColumnDataSource\"},{\"attributes\":{\"children\":[{\"id\":\"5980\"},{\"id\":\"5986\"}],\"margin\":[0,0,0,0],\"name\":\"Column31838\",\"sizing_mode\":\"stretch_width\"},\"id\":\"5979\",\"type\":\"Column\"},{\"attributes\":{\"source\":{\"id\":\"6016\"}},\"id\":\"6023\",\"type\":\"CDSView\"},{\"attributes\":{},\"id\":\"5999\",\"type\":\"BasicTicker\"},{\"attributes\":{\"factors\":[\"2015\",\"2016\",\"2017\",\"2018\",\"2019\",\"2020\",\"2021\",\"2022\"],\"tags\":[[[\"year\",\"year\",null]]]},\"id\":\"5983\",\"type\":\"FactorRange\"},{\"attributes\":{},\"id\":\"6006\",\"type\":\"ResetTool\"},{\"attributes\":{},\"id\":\"6004\",\"type\":\"WheelZoomTool\"},{\"attributes\":{\"axis\":{\"id\":\"5998\"},\"coordinates\":null,\"dimension\":1,\"group\":null,\"ticker\":{\"id\":\"5999\"}},\"id\":\"6001\",\"type\":\"Grid\"},{\"attributes\":{\"children\":[{\"id\":\"5979\"}],\"margin\":[0,0,0,0],\"name\":\"Row31839\",\"sizing_mode\":\"stretch_width\"},\"id\":\"5978\",\"type\":\"Row\"},{\"attributes\":{},\"id\":\"5996\",\"type\":\"CategoricalTicker\"},{\"attributes\":{\"client_comm_id\":\"b040d27f55224343932edac21e104b58\",\"comm_id\":\"a511807afd57472b9ddd4cf4993c6907\",\"plot_id\":\"5978\"},\"id\":\"6084\",\"type\":\"panel.models.comm_manager.CommManager\"},{\"attributes\":{\"bottom\":{\"field\":\"bottom\"},\"fill_color\":{\"field\":\"region\",\"transform\":{\"id\":\"6015\"}},\"hatch_color\":{\"field\":\"region\",\"transform\":{\"id\":\"6015\"}},\"top\":{\"field\":\"top\"},\"width\":{\"value\":0.8},\"x\":{\"field\":\"year\"}},\"id\":\"6019\",\"type\":\"VBar\"},{\"attributes\":{},\"id\":\"6002\",\"type\":\"SaveTool\"},{\"attributes\":{\"children\":[{\"id\":\"5981\"},{\"id\":\"5982\"}],\"margin\":[0,0,0,0],\"name\":\"Row31832\",\"sizing_mode\":\"stretch_width\"},\"id\":\"5980\",\"type\":\"Row\"},{\"attributes\":{\"axis\":{\"id\":\"5995\"},\"coordinates\":null,\"group\":null,\"ticker\":{\"id\":\"5996\"}},\"id\":\"5997\",\"type\":\"Grid\"},{\"attributes\":{},\"id\":\"6029\",\"type\":\"CategoricalTickFormatter\"},{\"attributes\":{},\"id\":\"5993\",\"type\":\"LinearScale\"},{\"attributes\":{\"axis_label\":\"Year\",\"coordinates\":null,\"formatter\":{\"id\":\"6029\"},\"group\":null,\"major_label_policy\":{\"id\":\"6030\"},\"ticker\":{\"id\":\"5996\"}},\"id\":\"5995\",\"type\":\"CategoricalAxis\"},{\"attributes\":{},\"id\":\"6003\",\"type\":\"PanTool\"},{\"attributes\":{\"bottom\":{\"field\":\"bottom\"},\"fill_alpha\":{\"value\":0.2},\"fill_color\":{\"field\":\"region\",\"transform\":{\"id\":\"6015\"}},\"hatch_alpha\":{\"value\":0.2},\"hatch_color\":{\"field\":\"region\",\"transform\":{\"id\":\"6015\"}},\"line_alpha\":{\"value\":0.2},\"top\":{\"field\":\"top\"},\"width\":{\"value\":0.8},\"x\":{\"field\":\"year\"}},\"id\":\"6021\",\"type\":\"VBar\"},{\"attributes\":{\"tools\":[{\"id\":\"5985\"},{\"id\":\"6002\"},{\"id\":\"6003\"},{\"id\":\"6004\"},{\"id\":\"6005\"},{\"id\":\"6006\"}]},\"id\":\"6008\",\"type\":\"Toolbar\"},{\"attributes\":{},\"id\":\"6017\",\"type\":\"Selection\"},{\"attributes\":{\"bottom\":{\"field\":\"bottom\"},\"fill_alpha\":{\"value\":0.1},\"fill_color\":{\"field\":\"region\",\"transform\":{\"id\":\"6015\"}},\"hatch_alpha\":{\"value\":0.1},\"hatch_color\":{\"field\":\"region\",\"transform\":{\"id\":\"6015\"}},\"line_alpha\":{\"value\":0.1},\"top\":{\"field\":\"top\"},\"width\":{\"value\":0.8},\"x\":{\"field\":\"year\"}},\"id\":\"6020\",\"type\":\"VBar\"},{\"attributes\":{\"axis_label\":\"Estimated Annual Revenue\",\"coordinates\":null,\"formatter\":{\"id\":\"6037\"},\"group\":null,\"major_label_policy\":{\"id\":\"6027\"},\"ticker\":{\"id\":\"5999\"}},\"id\":\"5998\",\"type\":\"LinearAxis\"},{\"attributes\":{\"callback\":null,\"renderers\":[{\"id\":\"6022\"}],\"tags\":[\"hv_created\"],\"tooltips\":[[\"year\",\"@{year}\"],[\"region\",\"@{region}\"],[\"estimated_annual_revenue\",\"@{estimated_annual_revenue}\"]]},\"id\":\"5985\",\"type\":\"HoverTool\"},{\"attributes\":{},\"id\":\"6027\",\"type\":\"AllLabels\"},{\"attributes\":{\"end\":21321.7,\"reset_end\":21321.7,\"reset_start\":0.0,\"tags\":[[[\"estimated_annual_revenue\",\"estimated_annual_revenue\",null]]]},\"id\":\"5984\",\"type\":\"Range1d\"},{\"attributes\":{\"overlay\":{\"id\":\"6007\"}},\"id\":\"6005\",\"type\":\"BoxZoomTool\"},{\"attributes\":{\"factors\":[\"Battle Creek\",\"Lebanon Hills\",\"Murphy-Hanrehan\",\"Theodore Wirth\",\"West Lake Marion\",\"Xcel Energy\"],\"palette\":[\"#1f77b4\",\"#aec7e8\",\"#ff7f0e\",\"#ffbb78\",\"#2ca02c\",\"#98df8a\"]},\"id\":\"6015\",\"type\":\"CategoricalColorMapper\"},{\"attributes\":{},\"id\":\"6030\",\"type\":\"AllLabels\"},{\"attributes\":{\"coordinates\":null,\"group\":null,\"text\":\"Estimated Revenue by Year\",\"text_color\":\"black\",\"text_font_size\":\"12pt\"},\"id\":\"5987\",\"type\":\"Title\"},{\"attributes\":{\"format\":\"$%.2f\"},\"id\":\"6037\",\"type\":\"PrintfTickFormatter\"},{\"attributes\":{\"margin\":[0,0,0,0],\"name\":\"Column31828\",\"sizing_mode\":\"stretch_width\"},\"id\":\"5981\",\"type\":\"Column\"},{\"attributes\":{\"below\":[{\"id\":\"5995\"}],\"center\":[{\"id\":\"5997\"},{\"id\":\"6001\"},{\"id\":\"6034\"}],\"height\":300,\"left\":[{\"id\":\"5998\"},{\"id\":\"6034\"}],\"margin\":[5,5,5,5],\"min_border_bottom\":10,\"min_border_left\":10,\"min_border_right\":10,\"min_border_top\":10,\"renderers\":[{\"id\":\"6022\"}],\"sizing_mode\":\"stretch_width\",\"title\":{\"id\":\"5987\"},\"toolbar\":{\"id\":\"6008\"},\"width\":700,\"x_range\":{\"id\":\"5983\"},\"x_scale\":{\"id\":\"5991\"},\"y_range\":{\"id\":\"5984\"},\"y_scale\":{\"id\":\"5993\"}},\"id\":\"5986\",\"subtype\":\"Figure\",\"type\":\"Plot\"},{\"attributes\":{\"label\":{\"field\":\"region\"},\"renderers\":[{\"id\":\"6022\"}]},\"id\":\"6035\",\"type\":\"LegendItem\"},{\"attributes\":{},\"id\":\"5991\",\"type\":\"CategoricalScale\"}],\"root_ids\":[\"5978\",\"6084\"]},\"title\":\"Bokeh Application\",\"version\":\"2.4.2\"}};\n",
       "    var render_items = [{\"docid\":\"c834b84b-9264-40de-a38a-3a8a53922c1b\",\"root_ids\":[\"5978\"],\"roots\":{\"5978\":\"5bde94fe-ddb4-4e4d-a3e5-31efacfeaa79\"}}];\n",
       "    root.Bokeh.embed.embed_items_notebook(docs_json, render_items);\n",
       "  }\n",
       "  if (root.Bokeh !== undefined && root.Bokeh.Panel !== undefined) {\n",
       "    embed_document(root);\n",
       "  } else {\n",
       "    var attempts = 0;\n",
       "    var timer = setInterval(function(root) {\n",
       "      if (root.Bokeh !== undefined && root.Bokeh.Panel !== undefined) {\n",
       "        clearInterval(timer);\n",
       "        embed_document(root);\n",
       "      } else if (document.readyState == \"complete\") {\n",
       "        attempts++;\n",
       "        if (attempts > 200) {\n",
       "          clearInterval(timer);\n",
       "          console.log(\"Bokeh: ERROR: Unable to run BokehJS code because BokehJS library is missing\");\n",
       "        }\n",
       "      }\n",
       "    }, 25, root)\n",
       "  }\n",
       "})(window);</script>"
      ],
      "text/plain": [
       "<hvplot.interactive.Interactive at 0x24d6ac65670>"
      ]
     },
     "execution_count": 69,
     "metadata": {
      "application/vnd.holoviews_exec.v0+json": {
       "id": "5978"
      }
     },
     "output_type": "execute_result"
    }
   ],
   "source": [
    "# Let's play with potential Revenue and dollars into Lakeville\n",
    "## For hypothetical purposes, let's say 1/4 of the riders spend on average $5/visit to WLMT on local businesses\n",
    "dollars_g = (\n",
    "    idf\n",
    "    .groupby(['year', 'region'])['estimated_annual_revenue'].sum()\n",
    "    .to_frame()\n",
    "    .reset_index()\n",
    "    .sort_values(by='year')  \n",
    "    .reset_index(drop=True)\n",
    ")\n",
    "\n",
    "annual_revenue = dollars_g.hvplot(\n",
    "    kind='bar', \n",
    "    x='year', \n",
    "    by='region', \n",
    "    stacked=True, \n",
    "    grid=True,  \n",
    "    title=\"Estimated Revenue by Year\", \n",
    "    color=hv.Cycle(values=color_sequence), \n",
    "    xlabel=\"Year\", \n",
    "    ylabel=\"Estimated Annual Revenue\", \n",
    "    yformatter='$%.2f',\n",
    "    legend=\"left\",\n",
    ")\n",
    "annual_revenue"
   ]
  },
  {
   "cell_type": "code",
   "execution_count": 70,
   "id": "de9c83bb-b97e-42ad-9e3a-b2d089f3ec36",
   "metadata": {},
   "outputs": [
    {
     "data": {},
     "metadata": {},
     "output_type": "display_data"
    },
    {
     "data": {},
     "metadata": {},
     "output_type": "display_data"
    },
    {
     "data": {
      "application/vnd.holoviews_exec.v0+json": "",
      "text/html": [
       "<div id='6130'>\n",
       "\n",
       "\n",
       "\n",
       "\n",
       "\n",
       "  <div class=\"bk-root\" id=\"a58c2ac4-20f8-47f5-8414-13e07502faa3\" data-root-id=\"6130\"></div>\n",
       "</div>\n",
       "<script type=\"application/javascript\">(function(root) {\n",
       "  function embed_document(root) {\n",
       "    var docs_json = {\"08c6ac26-9d16-4734-876e-64369a243ec2\":{\"defs\":[{\"extends\":null,\"module\":null,\"name\":\"ReactiveHTML1\",\"overrides\":[],\"properties\":[]},{\"extends\":null,\"module\":null,\"name\":\"FlexBox1\",\"overrides\":[],\"properties\":[{\"default\":\"flex-start\",\"kind\":null,\"name\":\"align_content\"},{\"default\":\"flex-start\",\"kind\":null,\"name\":\"align_items\"},{\"default\":\"row\",\"kind\":null,\"name\":\"flex_direction\"},{\"default\":\"wrap\",\"kind\":null,\"name\":\"flex_wrap\"},{\"default\":\"flex-start\",\"kind\":null,\"name\":\"justify_content\"}]},{\"extends\":null,\"module\":null,\"name\":\"GridStack1\",\"overrides\":[],\"properties\":[{\"default\":\"warn\",\"kind\":null,\"name\":\"mode\"},{\"default\":null,\"kind\":null,\"name\":\"ncols\"},{\"default\":null,\"kind\":null,\"name\":\"nrows\"},{\"default\":true,\"kind\":null,\"name\":\"allow_resize\"},{\"default\":true,\"kind\":null,\"name\":\"allow_drag\"},{\"default\":[],\"kind\":null,\"name\":\"state\"}]},{\"extends\":null,\"module\":null,\"name\":\"click1\",\"overrides\":[],\"properties\":[{\"default\":\"\",\"kind\":null,\"name\":\"terminal_output\"},{\"default\":\"\",\"kind\":null,\"name\":\"debug_name\"},{\"default\":0,\"kind\":null,\"name\":\"clears\"}]},{\"extends\":null,\"module\":null,\"name\":\"NotificationAreaBase1\",\"overrides\":[],\"properties\":[{\"default\":\"bottom-right\",\"kind\":null,\"name\":\"position\"},{\"default\":0,\"kind\":null,\"name\":\"_clear\"}]},{\"extends\":null,\"module\":null,\"name\":\"NotificationArea1\",\"overrides\":[],\"properties\":[{\"default\":[],\"kind\":null,\"name\":\"notifications\"},{\"default\":\"bottom-right\",\"kind\":null,\"name\":\"position\"},{\"default\":0,\"kind\":null,\"name\":\"_clear\"},{\"default\":[{\"background\":\"#ffc107\",\"icon\":{\"className\":\"fas fa-exclamation-triangle\",\"color\":\"white\",\"tagName\":\"i\"},\"type\":\"warning\"},{\"background\":\"#007bff\",\"icon\":{\"className\":\"fas fa-info-circle\",\"color\":\"white\",\"tagName\":\"i\"},\"type\":\"info\"}],\"kind\":null,\"name\":\"types\"}]},{\"extends\":null,\"module\":null,\"name\":\"Notification\",\"overrides\":[],\"properties\":[{\"default\":null,\"kind\":null,\"name\":\"background\"},{\"default\":3000,\"kind\":null,\"name\":\"duration\"},{\"default\":null,\"kind\":null,\"name\":\"icon\"},{\"default\":\"\",\"kind\":null,\"name\":\"message\"},{\"default\":null,\"kind\":null,\"name\":\"notification_type\"},{\"default\":false,\"kind\":null,\"name\":\"_destroyed\"}]},{\"extends\":null,\"module\":null,\"name\":\"TemplateActions1\",\"overrides\":[],\"properties\":[{\"default\":0,\"kind\":null,\"name\":\"open_modal\"},{\"default\":0,\"kind\":null,\"name\":\"close_modal\"}]},{\"extends\":null,\"module\":null,\"name\":\"MaterialTemplateActions1\",\"overrides\":[],\"properties\":[{\"default\":0,\"kind\":null,\"name\":\"open_modal\"},{\"default\":0,\"kind\":null,\"name\":\"close_modal\"}]}],\"roots\":{\"references\":[{\"attributes\":{\"margin\":[5,5,5,5],\"name\":\"HSpacer32267\",\"sizing_mode\":\"stretch_width\"},\"id\":\"6134\",\"type\":\"Spacer\"},{\"attributes\":{\"callback\":null,\"renderers\":[{\"id\":\"6188\"},{\"id\":\"6208\"},{\"id\":\"6229\"},{\"id\":\"6252\"}],\"tags\":[\"hv_created\"],\"tooltips\":[[\"Variable\",\"@{Variable}\"],[\"year\",\"@{year}\"],[\"value\",\"@{value}\"]]},\"id\":\"6137\",\"type\":\"HoverTool\"},{\"attributes\":{},\"id\":\"6241\",\"type\":\"UnionRenderers\"},{\"attributes\":{\"below\":[{\"id\":\"6150\"}],\"center\":[{\"id\":\"6153\"},{\"id\":\"6157\"}],\"height\":300,\"left\":[{\"id\":\"6154\"}],\"margin\":[5,5,5,5],\"min_border_bottom\":10,\"min_border_left\":10,\"min_border_right\":10,\"min_border_top\":10,\"renderers\":[{\"id\":\"6188\"},{\"id\":\"6208\"},{\"id\":\"6229\"},{\"id\":\"6252\"}],\"right\":[{\"id\":\"6199\"}],\"sizing_mode\":\"stretch_width\",\"title\":{\"id\":\"6142\"},\"toolbar\":{\"id\":\"6164\"},\"width\":700,\"x_range\":{\"id\":\"6135\"},\"x_scale\":{\"id\":\"6146\"},\"y_range\":{\"id\":\"6136\"},\"y_scale\":{\"id\":\"6148\"}},\"id\":\"6141\",\"subtype\":\"Figure\",\"type\":\"Plot\"},{\"attributes\":{\"line_color\":\"#fc4f30\",\"line_width\":2,\"x\":{\"field\":\"year\"},\"y\":{\"field\":\"value\"}},\"id\":\"6205\",\"type\":\"Line\"},{\"attributes\":{\"coordinates\":null,\"data_source\":{\"id\":\"6223\"},\"glyph\":{\"id\":\"6226\"},\"group\":null,\"hover_glyph\":null,\"muted_glyph\":{\"id\":\"6228\"},\"nonselection_glyph\":{\"id\":\"6227\"},\"selection_glyph\":{\"id\":\"6245\"},\"view\":{\"id\":\"6230\"}},\"id\":\"6229\",\"type\":\"GlyphRenderer\"},{\"attributes\":{\"data\":{\"Variable\":[\"$5_per_rider\",\"$5_per_rider\",\"$5_per_rider\",\"$5_per_rider\",\"$5_per_rider\",\"$5_per_rider\"],\"value\":{\"__ndarray__\":\"AwAAAE4AAACoAAAAYAIAAFoCAADcAQAA\",\"dtype\":\"int32\",\"order\":\"little\",\"shape\":[6]},\"year\":[2017,2018,2019,2020,2021,2022]},\"selected\":{\"id\":\"6183\"},\"selection_policy\":{\"id\":\"6196\"}},\"id\":\"6182\",\"type\":\"ColumnDataSource\"},{\"attributes\":{\"label\":{\"value\":\"$5_per_rider\"},\"renderers\":[{\"id\":\"6188\"}]},\"id\":\"6200\",\"type\":\"LegendItem\"},{\"attributes\":{\"line_color\":\"#6d904f\",\"line_width\":2,\"x\":{\"field\":\"year\"},\"y\":{\"field\":\"value\"}},\"id\":\"6249\",\"type\":\"Line\"},{\"attributes\":{},\"id\":\"6218\",\"type\":\"UnionRenderers\"},{\"attributes\":{\"click_policy\":\"mute\",\"coordinates\":null,\"group\":null,\"items\":[{\"id\":\"6200\"},{\"id\":\"6221\"},{\"id\":\"6244\"},{\"id\":\"6269\"}],\"location\":[0,0],\"title\":\"Variable\"},\"id\":\"6199\",\"type\":\"Legend\"},{\"attributes\":{\"line_alpha\":0.2,\"line_color\":\"#e5ae38\",\"line_width\":2,\"x\":{\"field\":\"year\"},\"y\":{\"field\":\"value\"}},\"id\":\"6228\",\"type\":\"Line\"},{\"attributes\":{},\"id\":\"6224\",\"type\":\"Selection\"},{\"attributes\":{\"client_comm_id\":\"583047a842b2445ca88f08af1badc30e\",\"comm_id\":\"cd3573d7ee45405a9f254b26b67df502\",\"plot_id\":\"6130\"},\"id\":\"6331\",\"type\":\"panel.models.comm_manager.CommManager\"},{\"attributes\":{\"line_alpha\":0.1,\"line_color\":\"#fc4f30\",\"line_width\":2,\"x\":{\"field\":\"year\"},\"y\":{\"field\":\"value\"}},\"id\":\"6206\",\"type\":\"Line\"},{\"attributes\":{\"source\":{\"id\":\"6223\"}},\"id\":\"6230\",\"type\":\"CDSView\"},{\"attributes\":{\"label\":{\"value\":\"$15_per_rider\"},\"renderers\":[{\"id\":\"6229\"}]},\"id\":\"6244\",\"type\":\"LegendItem\"},{\"attributes\":{\"line_alpha\":0.2,\"line_color\":\"#30a2da\",\"line_width\":2,\"x\":{\"field\":\"year\"},\"y\":{\"field\":\"value\"}},\"id\":\"6187\",\"type\":\"Line\"},{\"attributes\":{\"line_alpha\":0.1,\"line_color\":\"#e5ae38\",\"line_width\":2,\"x\":{\"field\":\"year\"},\"y\":{\"field\":\"value\"}},\"id\":\"6227\",\"type\":\"Line\"},{\"attributes\":{},\"id\":\"6177\",\"type\":\"AllLabels\"},{\"attributes\":{\"line_alpha\":0.1,\"line_color\":\"#30a2da\",\"line_width\":2,\"x\":{\"field\":\"year\"},\"y\":{\"field\":\"value\"}},\"id\":\"6186\",\"type\":\"Line\"},{\"attributes\":{},\"id\":\"6247\",\"type\":\"Selection\"},{\"attributes\":{\"line_color\":\"#30a2da\",\"line_width\":2,\"x\":{\"field\":\"year\"},\"y\":{\"field\":\"value\"}},\"id\":\"6201\",\"type\":\"Line\"},{\"attributes\":{},\"id\":\"6159\",\"type\":\"PanTool\"},{\"attributes\":{},\"id\":\"6146\",\"type\":\"LinearScale\"},{\"attributes\":{\"line_color\":\"#6d904f\",\"line_width\":2,\"x\":{\"field\":\"year\"},\"y\":{\"field\":\"value\"}},\"id\":\"6270\",\"type\":\"Line\"},{\"attributes\":{\"axis_label\":\"Year\",\"coordinates\":null,\"formatter\":{\"id\":\"6173\"},\"group\":null,\"major_label_policy\":{\"id\":\"6174\"},\"ticker\":{\"id\":\"6151\"}},\"id\":\"6150\",\"type\":\"LinearAxis\"},{\"attributes\":{\"end\":2022.0,\"reset_end\":2022.0,\"reset_start\":2017.0,\"start\":2017.0,\"tags\":[[[\"year\",\"year\",null]]]},\"id\":\"6135\",\"type\":\"Range1d\"},{\"attributes\":{\"line_color\":\"#e5ae38\",\"line_width\":2,\"x\":{\"field\":\"year\"},\"y\":{\"field\":\"value\"}},\"id\":\"6226\",\"type\":\"Line\"},{\"attributes\":{\"axis\":{\"id\":\"6150\"},\"coordinates\":null,\"group\":null,\"ticker\":{\"id\":\"6151\"}},\"id\":\"6153\",\"type\":\"Grid\"},{\"attributes\":{\"coordinates\":null,\"group\":null,\"text\":\"Estimate of Current Revenue by Rider Count & Amount Spent -- ((sum_of_riders_year * .25) * $_spent_estimate)\",\"text_color\":\"black\",\"text_font_size\":\"12pt\"},\"id\":\"6142\",\"type\":\"Title\"},{\"attributes\":{},\"id\":\"6151\",\"type\":\"BasicTicker\"},{\"attributes\":{\"axis_label\":\"Estimated Annual Revenue\",\"coordinates\":null,\"formatter\":{\"id\":\"6171\"},\"group\":null,\"major_label_policy\":{\"id\":\"6177\"},\"ticker\":{\"id\":\"6155\"}},\"id\":\"6154\",\"type\":\"LinearAxis\"},{\"attributes\":{\"axis\":{\"id\":\"6154\"},\"coordinates\":null,\"dimension\":1,\"group\":null,\"ticker\":{\"id\":\"6155\"}},\"id\":\"6157\",\"type\":\"Grid\"},{\"attributes\":{\"children\":[{\"id\":\"6132\"},{\"id\":\"6141\"}],\"margin\":[0,0,0,0],\"name\":\"Column32274\",\"sizing_mode\":\"stretch_width\"},\"id\":\"6131\",\"type\":\"Column\"},{\"attributes\":{},\"id\":\"6155\",\"type\":\"BasicTicker\"},{\"attributes\":{\"format\":\"$%.2f\"},\"id\":\"6171\",\"type\":\"PrintfTickFormatter\"},{\"attributes\":{\"line_color\":\"#e5ae38\",\"line_width\":2,\"x\":{\"field\":\"year\"},\"y\":{\"field\":\"value\"}},\"id\":\"6245\",\"type\":\"Line\"},{\"attributes\":{},\"id\":\"6160\",\"type\":\"WheelZoomTool\"},{\"attributes\":{},\"id\":\"6173\",\"type\":\"BasicTickFormatter\"},{\"attributes\":{\"label\":{\"value\":\"$20_per_rider\"},\"renderers\":[{\"id\":\"6252\"}]},\"id\":\"6269\",\"type\":\"LegendItem\"},{\"attributes\":{},\"id\":\"6158\",\"type\":\"SaveTool\"},{\"attributes\":{\"data\":{\"Variable\":[\"$20_per_rider\",\"$20_per_rider\",\"$20_per_rider\",\"$20_per_rider\",\"$20_per_rider\",\"$20_per_rider\"],\"value\":{\"__ndarray__\":\"DwAAADsBAACjAgAAgwkAAGoJAABxBwAA\",\"dtype\":\"int32\",\"order\":\"little\",\"shape\":[6]},\"year\":[2017,2018,2019,2020,2021,2022]},\"selected\":{\"id\":\"6247\"},\"selection_policy\":{\"id\":\"6266\"}},\"id\":\"6246\",\"type\":\"ColumnDataSource\"},{\"attributes\":{\"overlay\":{\"id\":\"6163\"}},\"id\":\"6161\",\"type\":\"BoxZoomTool\"},{\"attributes\":{\"line_color\":\"#30a2da\",\"line_width\":2,\"x\":{\"field\":\"year\"},\"y\":{\"field\":\"value\"}},\"id\":\"6185\",\"type\":\"Line\"},{\"attributes\":{},\"id\":\"6162\",\"type\":\"ResetTool\"},{\"attributes\":{\"children\":[{\"id\":\"6133\"},{\"id\":\"6134\"}],\"margin\":[0,0,0,0],\"name\":\"Row32268\",\"sizing_mode\":\"stretch_width\"},\"id\":\"6132\",\"type\":\"Row\"},{\"attributes\":{\"coordinates\":null,\"data_source\":{\"id\":\"6246\"},\"glyph\":{\"id\":\"6249\"},\"group\":null,\"hover_glyph\":null,\"muted_glyph\":{\"id\":\"6251\"},\"nonselection_glyph\":{\"id\":\"6250\"},\"selection_glyph\":{\"id\":\"6270\"},\"view\":{\"id\":\"6253\"}},\"id\":\"6252\",\"type\":\"GlyphRenderer\"},{\"attributes\":{\"bottom_units\":\"screen\",\"coordinates\":null,\"fill_alpha\":0.5,\"fill_color\":\"lightgrey\",\"group\":null,\"left_units\":\"screen\",\"level\":\"overlay\",\"line_alpha\":1.0,\"line_color\":\"black\",\"line_dash\":[4,4],\"line_width\":2,\"right_units\":\"screen\",\"syncable\":false,\"top_units\":\"screen\"},\"id\":\"6163\",\"type\":\"BoxAnnotation\"},{\"attributes\":{\"source\":{\"id\":\"6202\"}},\"id\":\"6209\",\"type\":\"CDSView\"},{\"attributes\":{\"line_alpha\":0.2,\"line_color\":\"#6d904f\",\"line_width\":2,\"x\":{\"field\":\"year\"},\"y\":{\"field\":\"value\"}},\"id\":\"6251\",\"type\":\"Line\"},{\"attributes\":{\"line_alpha\":0.1,\"line_color\":\"#6d904f\",\"line_width\":2,\"x\":{\"field\":\"year\"},\"y\":{\"field\":\"value\"}},\"id\":\"6250\",\"type\":\"Line\"},{\"attributes\":{\"children\":[{\"id\":\"6131\"}],\"margin\":[0,0,0,0],\"name\":\"Row32275\",\"sizing_mode\":\"stretch_width\"},\"id\":\"6130\",\"type\":\"Row\"},{\"attributes\":{},\"id\":\"6183\",\"type\":\"Selection\"},{\"attributes\":{\"tools\":[{\"id\":\"6137\"},{\"id\":\"6158\"},{\"id\":\"6159\"},{\"id\":\"6160\"},{\"id\":\"6161\"},{\"id\":\"6162\"}]},\"id\":\"6164\",\"type\":\"Toolbar\"},{\"attributes\":{\"source\":{\"id\":\"6246\"}},\"id\":\"6253\",\"type\":\"CDSView\"},{\"attributes\":{},\"id\":\"6148\",\"type\":\"LinearScale\"},{\"attributes\":{\"label\":{\"value\":\"$10_per_rider\"},\"renderers\":[{\"id\":\"6208\"}]},\"id\":\"6221\",\"type\":\"LegendItem\"},{\"attributes\":{},\"id\":\"6266\",\"type\":\"UnionRenderers\"},{\"attributes\":{\"margin\":[0,0,0,0],\"name\":\"Column32264\",\"sizing_mode\":\"stretch_width\"},\"id\":\"6133\",\"type\":\"Column\"},{\"attributes\":{\"coordinates\":null,\"data_source\":{\"id\":\"6202\"},\"glyph\":{\"id\":\"6205\"},\"group\":null,\"hover_glyph\":null,\"muted_glyph\":{\"id\":\"6207\"},\"nonselection_glyph\":{\"id\":\"6206\"},\"selection_glyph\":{\"id\":\"6222\"},\"view\":{\"id\":\"6209\"}},\"id\":\"6208\",\"type\":\"GlyphRenderer\"},{\"attributes\":{},\"id\":\"6174\",\"type\":\"AllLabels\"},{\"attributes\":{\"coordinates\":null,\"data_source\":{\"id\":\"6182\"},\"glyph\":{\"id\":\"6185\"},\"group\":null,\"hover_glyph\":null,\"muted_glyph\":{\"id\":\"6187\"},\"nonselection_glyph\":{\"id\":\"6186\"},\"selection_glyph\":{\"id\":\"6201\"},\"view\":{\"id\":\"6189\"}},\"id\":\"6188\",\"type\":\"GlyphRenderer\"},{\"attributes\":{\"end\":2678.2,\"reset_end\":2678.2,\"reset_start\":-240.20000000000002,\"start\":-240.20000000000002,\"tags\":[[[\"value\",\"value\",null]]]},\"id\":\"6136\",\"type\":\"Range1d\"},{\"attributes\":{\"data\":{\"Variable\":[\"$10_per_rider\",\"$10_per_rider\",\"$10_per_rider\",\"$10_per_rider\",\"$10_per_rider\",\"$10_per_rider\"],\"value\":{\"__ndarray__\":\"BwAAAJ0AAABRAQAAwQQAALUEAAC4AwAA\",\"dtype\":\"int32\",\"order\":\"little\",\"shape\":[6]},\"year\":[2017,2018,2019,2020,2021,2022]},\"selected\":{\"id\":\"6203\"},\"selection_policy\":{\"id\":\"6218\"}},\"id\":\"6202\",\"type\":\"ColumnDataSource\"},{\"attributes\":{\"line_alpha\":0.2,\"line_color\":\"#fc4f30\",\"line_width\":2,\"x\":{\"field\":\"year\"},\"y\":{\"field\":\"value\"}},\"id\":\"6207\",\"type\":\"Line\"},{\"attributes\":{\"line_color\":\"#fc4f30\",\"line_width\":2,\"x\":{\"field\":\"year\"},\"y\":{\"field\":\"value\"}},\"id\":\"6222\",\"type\":\"Line\"},{\"attributes\":{\"data\":{\"Variable\":[\"$15_per_rider\",\"$15_per_rider\",\"$15_per_rider\",\"$15_per_rider\",\"$15_per_rider\",\"$15_per_rider\"],\"value\":{\"__ndarray__\":\"CwAAAOwAAAD6AQAAIgcAAA8HAACUBQAA\",\"dtype\":\"int32\",\"order\":\"little\",\"shape\":[6]},\"year\":[2017,2018,2019,2020,2021,2022]},\"selected\":{\"id\":\"6224\"},\"selection_policy\":{\"id\":\"6241\"}},\"id\":\"6223\",\"type\":\"ColumnDataSource\"},{\"attributes\":{},\"id\":\"6196\",\"type\":\"UnionRenderers\"},{\"attributes\":{},\"id\":\"6203\",\"type\":\"Selection\"},{\"attributes\":{\"source\":{\"id\":\"6182\"}},\"id\":\"6189\",\"type\":\"CDSView\"}],\"root_ids\":[\"6130\",\"6331\"]},\"title\":\"Bokeh Application\",\"version\":\"2.4.2\"}};\n",
       "    var render_items = [{\"docid\":\"08c6ac26-9d16-4734-876e-64369a243ec2\",\"root_ids\":[\"6130\"],\"roots\":{\"6130\":\"a58c2ac4-20f8-47f5-8414-13e07502faa3\"}}];\n",
       "    root.Bokeh.embed.embed_items_notebook(docs_json, render_items);\n",
       "  }\n",
       "  if (root.Bokeh !== undefined && root.Bokeh.Panel !== undefined) {\n",
       "    embed_document(root);\n",
       "  } else {\n",
       "    var attempts = 0;\n",
       "    var timer = setInterval(function(root) {\n",
       "      if (root.Bokeh !== undefined && root.Bokeh.Panel !== undefined) {\n",
       "        clearInterval(timer);\n",
       "        embed_document(root);\n",
       "      } else if (document.readyState == \"complete\") {\n",
       "        attempts++;\n",
       "        if (attempts > 200) {\n",
       "          clearInterval(timer);\n",
       "          console.log(\"Bokeh: ERROR: Unable to run BokehJS code because BokehJS library is missing\");\n",
       "        }\n",
       "      }\n",
       "    }, 25, root)\n",
       "  }\n",
       "})(window);</script>"
      ],
      "text/plain": [
       "<hvplot.interactive.Interactive at 0x24d6acda820>"
      ]
     },
     "execution_count": 70,
     "metadata": {
      "application/vnd.holoviews_exec.v0+json": {
       "id": "6130"
      }
     },
     "output_type": "execute_result"
    }
   ],
   "source": [
    "tmp_df_0 = all_region_df[all_region_df['region']== \"West Lake Marion\"]\n",
    "plain_df = (tmp_df_0.groupby(['year', 'region'])['estimated_riders'].sum() / 4).reset_index()\n",
    "plain_df[\"$5_per_rider\"] = (plain_df[\"estimated_riders\"] * 5).astype(int)\n",
    "plain_df[\"$10_per_rider\"] = (plain_df[\"estimated_riders\"] * 10).astype(int)\n",
    "plain_df[\"$15_per_rider\"] = (plain_df[\"estimated_riders\"] * 15).astype(int)\n",
    "plain_df[\"$20_per_rider\"] = (plain_df[\"estimated_riders\"] * 20).astype(int)\n",
    "plain_df.reset_index()\n",
    "plain_df = plain_df.drop('estimated_riders', axis=1)\n",
    "plain_df = plain_df[plain_df['year'] >= 2017]\n",
    "\n",
    "plain_idf = (\n",
    "    plain_df\n",
    "    .sort_values(by='year')\n",
    ").interactive()\n",
    "plain_idf\n",
    "\n",
    "dollars_marion = plain_idf.hvplot(\n",
    "    kind='line', \n",
    "    x='year', \n",
    "    grid=True, \n",
    "    ylabel=\"Estimated Annual Revenue\", \n",
    "    xlabel=\"Year\",\n",
    "    yformatter='$%.2f',\n",
    "    title=\"Estimate of Current Revenue by Rider Count & Amount Spent -- ((sum_of_riders_year * .25) * $_spent_estimate)\",\n",
    ")\n",
    "\n",
    "dollars_marion"
   ]
  },
  {
   "cell_type": "code",
   "execution_count": 71,
   "id": "e8508407-f9d3-4992-ade9-d7c57a9b7252",
   "metadata": {},
   "outputs": [],
   "source": [
    "# Narrow down to Marion into an interactive DF\n",
    "tmp_df_1 = all_region_df[all_region_df['region']== \"West Lake Marion\"]\n",
    "wlmt_idf = tmp_df_1.interactive()"
   ]
  },
  {
   "cell_type": "code",
   "execution_count": 72,
   "id": "63587491-65ce-44c4-8fa3-abb71372efa8",
   "metadata": {},
   "outputs": [
    {
     "data": {},
     "metadata": {},
     "output_type": "display_data"
    },
    {
     "data": {},
     "metadata": {},
     "output_type": "display_data"
    },
    {
     "data": {
      "application/vnd.holoviews_exec.v0+json": "",
      "text/html": [
       "<div id='6407'>\n",
       "\n",
       "\n",
       "\n",
       "\n",
       "\n",
       "  <div class=\"bk-root\" id=\"f471b397-399a-4cce-8eab-f6ec6d868597\" data-root-id=\"6407\"></div>\n",
       "</div>\n",
       "<script type=\"application/javascript\">(function(root) {\n",
       "  function embed_document(root) {\n",
       "    var docs_json = {\"ec2efb3a-ffcf-4554-b96a-65626476874b\":{\"defs\":[{\"extends\":null,\"module\":null,\"name\":\"ReactiveHTML1\",\"overrides\":[],\"properties\":[]},{\"extends\":null,\"module\":null,\"name\":\"FlexBox1\",\"overrides\":[],\"properties\":[{\"default\":\"flex-start\",\"kind\":null,\"name\":\"align_content\"},{\"default\":\"flex-start\",\"kind\":null,\"name\":\"align_items\"},{\"default\":\"row\",\"kind\":null,\"name\":\"flex_direction\"},{\"default\":\"wrap\",\"kind\":null,\"name\":\"flex_wrap\"},{\"default\":\"flex-start\",\"kind\":null,\"name\":\"justify_content\"}]},{\"extends\":null,\"module\":null,\"name\":\"GridStack1\",\"overrides\":[],\"properties\":[{\"default\":\"warn\",\"kind\":null,\"name\":\"mode\"},{\"default\":null,\"kind\":null,\"name\":\"ncols\"},{\"default\":null,\"kind\":null,\"name\":\"nrows\"},{\"default\":true,\"kind\":null,\"name\":\"allow_resize\"},{\"default\":true,\"kind\":null,\"name\":\"allow_drag\"},{\"default\":[],\"kind\":null,\"name\":\"state\"}]},{\"extends\":null,\"module\":null,\"name\":\"click1\",\"overrides\":[],\"properties\":[{\"default\":\"\",\"kind\":null,\"name\":\"terminal_output\"},{\"default\":\"\",\"kind\":null,\"name\":\"debug_name\"},{\"default\":0,\"kind\":null,\"name\":\"clears\"}]},{\"extends\":null,\"module\":null,\"name\":\"NotificationAreaBase1\",\"overrides\":[],\"properties\":[{\"default\":\"bottom-right\",\"kind\":null,\"name\":\"position\"},{\"default\":0,\"kind\":null,\"name\":\"_clear\"}]},{\"extends\":null,\"module\":null,\"name\":\"NotificationArea1\",\"overrides\":[],\"properties\":[{\"default\":[],\"kind\":null,\"name\":\"notifications\"},{\"default\":\"bottom-right\",\"kind\":null,\"name\":\"position\"},{\"default\":0,\"kind\":null,\"name\":\"_clear\"},{\"default\":[{\"background\":\"#ffc107\",\"icon\":{\"className\":\"fas fa-exclamation-triangle\",\"color\":\"white\",\"tagName\":\"i\"},\"type\":\"warning\"},{\"background\":\"#007bff\",\"icon\":{\"className\":\"fas fa-info-circle\",\"color\":\"white\",\"tagName\":\"i\"},\"type\":\"info\"}],\"kind\":null,\"name\":\"types\"}]},{\"extends\":null,\"module\":null,\"name\":\"Notification\",\"overrides\":[],\"properties\":[{\"default\":null,\"kind\":null,\"name\":\"background\"},{\"default\":3000,\"kind\":null,\"name\":\"duration\"},{\"default\":null,\"kind\":null,\"name\":\"icon\"},{\"default\":\"\",\"kind\":null,\"name\":\"message\"},{\"default\":null,\"kind\":null,\"name\":\"notification_type\"},{\"default\":false,\"kind\":null,\"name\":\"_destroyed\"}]},{\"extends\":null,\"module\":null,\"name\":\"TemplateActions1\",\"overrides\":[],\"properties\":[{\"default\":0,\"kind\":null,\"name\":\"open_modal\"},{\"default\":0,\"kind\":null,\"name\":\"close_modal\"}]},{\"extends\":null,\"module\":null,\"name\":\"MaterialTemplateActions1\",\"overrides\":[],\"properties\":[{\"default\":0,\"kind\":null,\"name\":\"open_modal\"},{\"default\":0,\"kind\":null,\"name\":\"close_modal\"}]}],\"roots\":{\"references\":[{\"attributes\":{},\"id\":\"6435\",\"type\":\"ResetTool\"},{\"attributes\":{},\"id\":\"6422\",\"type\":\"LinearScale\"},{\"attributes\":{\"margin\":[0,0,0,0],\"name\":\"Column32803\",\"sizing_mode\":\"stretch_width\"},\"id\":\"6410\",\"type\":\"Column\"},{\"attributes\":{\"overlay\":{\"id\":\"6436\"}},\"id\":\"6434\",\"type\":\"BoxZoomTool\"},{\"attributes\":{\"bottom_units\":\"screen\",\"coordinates\":null,\"fill_alpha\":0.5,\"fill_color\":\"lightgrey\",\"group\":null,\"left_units\":\"screen\",\"level\":\"overlay\",\"line_alpha\":1.0,\"line_color\":\"black\",\"line_dash\":[4,4],\"line_width\":2,\"right_units\":\"screen\",\"syncable\":false,\"top_units\":\"screen\"},\"id\":\"6436\",\"type\":\"BoxAnnotation\"},{\"attributes\":{},\"id\":\"6431\",\"type\":\"SaveTool\"},{\"attributes\":{},\"id\":\"6445\",\"type\":\"Selection\"},{\"attributes\":{\"fill_alpha\":{\"value\":0.1},\"fill_color\":{\"value\":\"#1f77b4\"},\"hatch_alpha\":{\"value\":0.1},\"hatch_color\":{\"value\":\"#1f77b4\"},\"line_alpha\":{\"value\":0.1},\"top\":{\"field\":\"estimated_riders\"},\"width\":{\"value\":0.8},\"x\":{\"field\":\"year\"}},\"id\":\"6448\",\"type\":\"VBar\"},{\"attributes\":{\"axis\":{\"id\":\"6424\"},\"coordinates\":null,\"group\":null,\"ticker\":{\"id\":\"6425\"}},\"id\":\"6426\",\"type\":\"Grid\"},{\"attributes\":{\"axis_label\":\"Number of Visitors\",\"coordinates\":null,\"formatter\":{\"id\":\"6457\"},\"group\":null,\"major_label_policy\":{\"id\":\"6458\"},\"ticker\":{\"id\":\"6428\"}},\"id\":\"6427\",\"type\":\"LinearAxis\"},{\"attributes\":{\"source\":{\"id\":\"6444\"}},\"id\":\"6451\",\"type\":\"CDSView\"},{\"attributes\":{\"coordinates\":null,\"group\":null,\"text\":\"Visitors to WLMT by Year\",\"text_color\":\"black\",\"text_font_size\":\"12pt\"},\"id\":\"6416\",\"type\":\"Title\"},{\"attributes\":{\"bottom\":{\"value\":0},\"fill_alpha\":{\"value\":1.0},\"fill_color\":{\"value\":\"#1f77b4\"},\"hatch_alpha\":{\"value\":1.0},\"hatch_color\":{\"value\":\"#1f77b4\"},\"hatch_scale\":{\"value\":12.0},\"hatch_weight\":{\"value\":1.0},\"line_alpha\":{\"value\":1.0},\"line_cap\":{\"value\":\"butt\"},\"line_color\":{\"value\":\"black\"},\"line_dash\":{\"value\":[]},\"line_dash_offset\":{\"value\":0},\"line_join\":{\"value\":\"bevel\"},\"line_width\":{\"value\":1},\"top\":{\"field\":\"estimated_riders\"},\"width\":{\"value\":0.8},\"x\":{\"field\":\"year\"}},\"id\":\"6452\",\"type\":\"VBar\"},{\"attributes\":{\"children\":[{\"id\":\"6409\"},{\"id\":\"6415\"}],\"margin\":[0,0,0,0],\"name\":\"Column32813\",\"sizing_mode\":\"stretch_width\"},\"id\":\"6408\",\"type\":\"Column\"},{\"attributes\":{\"end\":535.7,\"reset_end\":535.7,\"reset_start\":0.0,\"tags\":[[[\"estimated_riders\",\"estimated_riders\",null]]]},\"id\":\"6413\",\"type\":\"Range1d\"},{\"attributes\":{},\"id\":\"6420\",\"type\":\"CategoricalScale\"},{\"attributes\":{},\"id\":\"6425\",\"type\":\"CategoricalTicker\"},{\"attributes\":{\"margin\":[5,5,5,5],\"name\":\"HSpacer32806\",\"sizing_mode\":\"stretch_width\"},\"id\":\"6411\",\"type\":\"Spacer\"},{\"attributes\":{\"children\":[{\"id\":\"6410\"},{\"id\":\"6411\"}],\"margin\":[0,0,0,0],\"name\":\"Row32807\",\"sizing_mode\":\"stretch_width\"},\"id\":\"6409\",\"type\":\"Row\"},{\"attributes\":{\"below\":[{\"id\":\"6424\"}],\"center\":[{\"id\":\"6426\"},{\"id\":\"6430\"}],\"height\":300,\"left\":[{\"id\":\"6427\"}],\"margin\":[5,5,5,5],\"min_border_bottom\":10,\"min_border_left\":10,\"min_border_right\":10,\"min_border_top\":10,\"renderers\":[{\"id\":\"6450\"}],\"sizing_mode\":\"stretch_width\",\"title\":{\"id\":\"6416\"},\"toolbar\":{\"id\":\"6437\"},\"width\":700,\"x_range\":{\"id\":\"6412\"},\"x_scale\":{\"id\":\"6420\"},\"y_range\":{\"id\":\"6413\"},\"y_scale\":{\"id\":\"6422\"}},\"id\":\"6415\",\"subtype\":\"Figure\",\"type\":\"Plot\"},{\"attributes\":{\"factors\":[\"2015\",\"2016\",\"2017\",\"2018\",\"2019\",\"2020\",\"2021\",\"2022\"],\"tags\":[[[\"year\",\"year\",null]]]},\"id\":\"6412\",\"type\":\"FactorRange\"},{\"attributes\":{\"axis\":{\"id\":\"6427\"},\"coordinates\":null,\"dimension\":1,\"group\":null,\"ticker\":{\"id\":\"6428\"}},\"id\":\"6430\",\"type\":\"Grid\"},{\"attributes\":{\"fill_color\":{\"value\":\"#1f77b4\"},\"hatch_color\":{\"value\":\"#1f77b4\"},\"top\":{\"field\":\"estimated_riders\"},\"width\":{\"value\":0.8},\"x\":{\"field\":\"year\"}},\"id\":\"6447\",\"type\":\"VBar\"},{\"attributes\":{},\"id\":\"6455\",\"type\":\"AllLabels\"},{\"attributes\":{},\"id\":\"6428\",\"type\":\"BasicTicker\"},{\"attributes\":{},\"id\":\"6432\",\"type\":\"PanTool\"},{\"attributes\":{},\"id\":\"6433\",\"type\":\"WheelZoomTool\"},{\"attributes\":{\"children\":[{\"id\":\"6408\"}],\"margin\":[0,0,0,0],\"name\":\"Row32814\",\"sizing_mode\":\"stretch_width\"},\"id\":\"6407\",\"type\":\"Row\"},{\"attributes\":{},\"id\":\"6457\",\"type\":\"BasicTickFormatter\"},{\"attributes\":{},\"id\":\"6458\",\"type\":\"AllLabels\"},{\"attributes\":{},\"id\":\"6454\",\"type\":\"CategoricalTickFormatter\"},{\"attributes\":{\"client_comm_id\":\"4cc40b9ff2b34ee2b0fc50639cf56d22\",\"comm_id\":\"15cfeecc99e34504899a33ec75a38fe3\",\"plot_id\":\"6407\"},\"id\":\"6501\",\"type\":\"panel.models.comm_manager.CommManager\"},{\"attributes\":{\"axis_label\":\"Year\",\"coordinates\":null,\"formatter\":{\"id\":\"6454\"},\"group\":null,\"major_label_policy\":{\"id\":\"6455\"},\"ticker\":{\"id\":\"6425\"}},\"id\":\"6424\",\"type\":\"CategoricalAxis\"},{\"attributes\":{\"tools\":[{\"id\":\"6414\"},{\"id\":\"6431\"},{\"id\":\"6432\"},{\"id\":\"6433\"},{\"id\":\"6434\"},{\"id\":\"6435\"}]},\"id\":\"6437\",\"type\":\"Toolbar\"},{\"attributes\":{\"coordinates\":null,\"data_source\":{\"id\":\"6444\"},\"glyph\":{\"id\":\"6447\"},\"group\":null,\"hover_glyph\":null,\"muted_glyph\":{\"id\":\"6449\"},\"nonselection_glyph\":{\"id\":\"6448\"},\"selection_glyph\":{\"id\":\"6452\"},\"view\":{\"id\":\"6451\"}},\"id\":\"6450\",\"type\":\"GlyphRenderer\"},{\"attributes\":{\"data\":{\"estimated_riders\":{\"__ndarray__\":\"AwAAAAAAAAADAAAAPwAAAIcAAADnAQAA4gEAAH0BAAA=\",\"dtype\":\"int32\",\"order\":\"little\",\"shape\":[8]},\"year\":[\"2015\",\"2016\",\"2017\",\"2018\",\"2019\",\"2020\",\"2021\",\"2022\"]},\"selected\":{\"id\":\"6445\"},\"selection_policy\":{\"id\":\"6468\"}},\"id\":\"6444\",\"type\":\"ColumnDataSource\"},{\"attributes\":{\"callback\":null,\"renderers\":[{\"id\":\"6450\"}],\"tags\":[\"hv_created\"],\"tooltips\":[[\"year\",\"@{year}\"],[\"estimated_riders\",\"@{estimated_riders}\"]]},\"id\":\"6414\",\"type\":\"HoverTool\"},{\"attributes\":{},\"id\":\"6468\",\"type\":\"UnionRenderers\"},{\"attributes\":{\"fill_alpha\":{\"value\":0.2},\"fill_color\":{\"value\":\"#1f77b4\"},\"hatch_alpha\":{\"value\":0.2},\"hatch_color\":{\"value\":\"#1f77b4\"},\"line_alpha\":{\"value\":0.2},\"top\":{\"field\":\"estimated_riders\"},\"width\":{\"value\":0.8},\"x\":{\"field\":\"year\"}},\"id\":\"6449\",\"type\":\"VBar\"}],\"root_ids\":[\"6407\",\"6501\"]},\"title\":\"Bokeh Application\",\"version\":\"2.4.2\"}};\n",
       "    var render_items = [{\"docid\":\"ec2efb3a-ffcf-4554-b96a-65626476874b\",\"root_ids\":[\"6407\"],\"roots\":{\"6407\":\"f471b397-399a-4cce-8eab-f6ec6d868597\"}}];\n",
       "    root.Bokeh.embed.embed_items_notebook(docs_json, render_items);\n",
       "  }\n",
       "  if (root.Bokeh !== undefined && root.Bokeh.Panel !== undefined) {\n",
       "    embed_document(root);\n",
       "  } else {\n",
       "    var attempts = 0;\n",
       "    var timer = setInterval(function(root) {\n",
       "      if (root.Bokeh !== undefined && root.Bokeh.Panel !== undefined) {\n",
       "        clearInterval(timer);\n",
       "        embed_document(root);\n",
       "      } else if (document.readyState == \"complete\") {\n",
       "        attempts++;\n",
       "        if (attempts > 200) {\n",
       "          clearInterval(timer);\n",
       "          console.log(\"Bokeh: ERROR: Unable to run BokehJS code because BokehJS library is missing\");\n",
       "        }\n",
       "      }\n",
       "    }, 25, root)\n",
       "  }\n",
       "})(window);</script>"
      ],
      "text/plain": [
       "<hvplot.interactive.Interactive at 0x24d6acc5d30>"
      ]
     },
     "execution_count": 72,
     "metadata": {
      "application/vnd.holoviews_exec.v0+json": {
       "id": "6407"
      }
     },
     "output_type": "execute_result"
    }
   ],
   "source": [
    "# Populatiry of West Lake Marion by Year\n",
    "df_g_1 = wlmt_idf.groupby(tmp_df_1['year'], as_index=False)['estimated_riders'].sum()\n",
    "\n",
    "marion_populatiry_by_year = df_g_1.hvplot(\n",
    "    kind='bar', \n",
    "    x='year', \n",
    "    title='Visitors to WLMT by Year', \n",
    "    ylabel='Number of Visitors', \n",
    "    xlabel=\"Year\", \n",
    "    grid=True, \n",
    "    color=hv.Cycle(values=color_sequence)\n",
    ")\n",
    "marion_populatiry_by_year"
   ]
  },
  {
   "cell_type": "code",
   "execution_count": 73,
   "id": "31c40f18-b4c3-45e5-996b-edc71b85a190",
   "metadata": {},
   "outputs": [
    {
     "data": {},
     "metadata": {},
     "output_type": "display_data"
    },
    {
     "data": {},
     "metadata": {},
     "output_type": "display_data"
    },
    {
     "data": {
      "application/vnd.holoviews_exec.v0+json": "",
      "text/html": [
       "<div id='6552'>\n",
       "\n",
       "\n",
       "\n",
       "\n",
       "\n",
       "  <div class=\"bk-root\" id=\"3d8332fd-072a-486f-ba01-efcc04518473\" data-root-id=\"6552\"></div>\n",
       "</div>\n",
       "<script type=\"application/javascript\">(function(root) {\n",
       "  function embed_document(root) {\n",
       "    var docs_json = {\"015a897a-ffcd-4ccc-916a-0e6a56c97e31\":{\"defs\":[{\"extends\":null,\"module\":null,\"name\":\"ReactiveHTML1\",\"overrides\":[],\"properties\":[]},{\"extends\":null,\"module\":null,\"name\":\"FlexBox1\",\"overrides\":[],\"properties\":[{\"default\":\"flex-start\",\"kind\":null,\"name\":\"align_content\"},{\"default\":\"flex-start\",\"kind\":null,\"name\":\"align_items\"},{\"default\":\"row\",\"kind\":null,\"name\":\"flex_direction\"},{\"default\":\"wrap\",\"kind\":null,\"name\":\"flex_wrap\"},{\"default\":\"flex-start\",\"kind\":null,\"name\":\"justify_content\"}]},{\"extends\":null,\"module\":null,\"name\":\"GridStack1\",\"overrides\":[],\"properties\":[{\"default\":\"warn\",\"kind\":null,\"name\":\"mode\"},{\"default\":null,\"kind\":null,\"name\":\"ncols\"},{\"default\":null,\"kind\":null,\"name\":\"nrows\"},{\"default\":true,\"kind\":null,\"name\":\"allow_resize\"},{\"default\":true,\"kind\":null,\"name\":\"allow_drag\"},{\"default\":[],\"kind\":null,\"name\":\"state\"}]},{\"extends\":null,\"module\":null,\"name\":\"click1\",\"overrides\":[],\"properties\":[{\"default\":\"\",\"kind\":null,\"name\":\"terminal_output\"},{\"default\":\"\",\"kind\":null,\"name\":\"debug_name\"},{\"default\":0,\"kind\":null,\"name\":\"clears\"}]},{\"extends\":null,\"module\":null,\"name\":\"NotificationAreaBase1\",\"overrides\":[],\"properties\":[{\"default\":\"bottom-right\",\"kind\":null,\"name\":\"position\"},{\"default\":0,\"kind\":null,\"name\":\"_clear\"}]},{\"extends\":null,\"module\":null,\"name\":\"NotificationArea1\",\"overrides\":[],\"properties\":[{\"default\":[],\"kind\":null,\"name\":\"notifications\"},{\"default\":\"bottom-right\",\"kind\":null,\"name\":\"position\"},{\"default\":0,\"kind\":null,\"name\":\"_clear\"},{\"default\":[{\"background\":\"#ffc107\",\"icon\":{\"className\":\"fas fa-exclamation-triangle\",\"color\":\"white\",\"tagName\":\"i\"},\"type\":\"warning\"},{\"background\":\"#007bff\",\"icon\":{\"className\":\"fas fa-info-circle\",\"color\":\"white\",\"tagName\":\"i\"},\"type\":\"info\"}],\"kind\":null,\"name\":\"types\"}]},{\"extends\":null,\"module\":null,\"name\":\"Notification\",\"overrides\":[],\"properties\":[{\"default\":null,\"kind\":null,\"name\":\"background\"},{\"default\":3000,\"kind\":null,\"name\":\"duration\"},{\"default\":null,\"kind\":null,\"name\":\"icon\"},{\"default\":\"\",\"kind\":null,\"name\":\"message\"},{\"default\":null,\"kind\":null,\"name\":\"notification_type\"},{\"default\":false,\"kind\":null,\"name\":\"_destroyed\"}]},{\"extends\":null,\"module\":null,\"name\":\"TemplateActions1\",\"overrides\":[],\"properties\":[{\"default\":0,\"kind\":null,\"name\":\"open_modal\"},{\"default\":0,\"kind\":null,\"name\":\"close_modal\"}]},{\"extends\":null,\"module\":null,\"name\":\"MaterialTemplateActions1\",\"overrides\":[],\"properties\":[{\"default\":0,\"kind\":null,\"name\":\"open_modal\"},{\"default\":0,\"kind\":null,\"name\":\"close_modal\"}]}],\"roots\":{\"references\":[{\"attributes\":{\"axis\":{\"id\":\"6572\"},\"coordinates\":null,\"dimension\":1,\"group\":null,\"ticker\":{\"id\":\"6573\"}},\"id\":\"6575\",\"type\":\"Grid\"},{\"attributes\":{\"children\":[{\"id\":\"6555\"},{\"id\":\"6556\"}],\"margin\":[0,0,0,0],\"name\":\"Row33188\",\"sizing_mode\":\"stretch_width\"},\"id\":\"6554\",\"type\":\"Row\"},{\"attributes\":{},\"id\":\"6577\",\"type\":\"PanTool\"},{\"attributes\":{},\"id\":\"6573\",\"type\":\"BasicTicker\"},{\"attributes\":{\"axis_label\":\"Month\",\"coordinates\":null,\"formatter\":{\"id\":\"6599\"},\"group\":null,\"major_label_policy\":{\"id\":\"6600\"},\"ticker\":{\"id\":\"6570\"}},\"id\":\"6569\",\"type\":\"CategoricalAxis\"},{\"attributes\":{\"client_comm_id\":\"4ccfd4b9d7e24368b1ba2de0d67632d1\",\"comm_id\":\"591f9d9003994ae2af523b5eb1c87004\",\"plot_id\":\"6552\"},\"id\":\"6646\",\"type\":\"panel.models.comm_manager.CommManager\"},{\"attributes\":{\"axis\":{\"id\":\"6569\"},\"coordinates\":null,\"group\":null,\"ticker\":{\"id\":\"6570\"}},\"id\":\"6571\",\"type\":\"Grid\"},{\"attributes\":{\"source\":{\"id\":\"6589\"}},\"id\":\"6596\",\"type\":\"CDSView\"},{\"attributes\":{\"margin\":[0,0,0,0],\"name\":\"Column33184\",\"sizing_mode\":\"stretch_width\"},\"id\":\"6555\",\"type\":\"Column\"},{\"attributes\":{\"children\":[{\"id\":\"6554\"},{\"id\":\"6560\"}],\"margin\":[0,0,0,0],\"name\":\"Column33194\",\"sizing_mode\":\"stretch_width\"},\"id\":\"6553\",\"type\":\"Column\"},{\"attributes\":{\"coordinates\":null,\"group\":null,\"text\":\"Visitors to WLMT by Month\",\"text_color\":\"black\",\"text_font_size\":\"12pt\"},\"id\":\"6561\",\"type\":\"Title\"},{\"attributes\":{},\"id\":\"6602\",\"type\":\"BasicTickFormatter\"},{\"attributes\":{\"data\":{\"estimated_riders\":{\"__ndarray__\":\"HwAAABIAAAAIAAAAbgAAAAcBAADNAAAA1gAAAO4AAADxAAAAmQAAADEAAAAYAAAA\",\"dtype\":\"int32\",\"order\":\"little\",\"shape\":[12]},\"month_name\":[\"Jan\",\"Feb\",\"Mar\",\"Apr\",\"May\",\"Jun\",\"Jul\",\"Aug\",\"Sep\",\"Oct\",\"Nov\",\"Dec\"]},\"selected\":{\"id\":\"6590\"},\"selection_policy\":{\"id\":\"6613\"}},\"id\":\"6589\",\"type\":\"ColumnDataSource\"},{\"attributes\":{},\"id\":\"6565\",\"type\":\"CategoricalScale\"},{\"attributes\":{},\"id\":\"6570\",\"type\":\"CategoricalTicker\"},{\"attributes\":{},\"id\":\"6590\",\"type\":\"Selection\"},{\"attributes\":{\"below\":[{\"id\":\"6569\"}],\"center\":[{\"id\":\"6571\"},{\"id\":\"6575\"}],\"height\":300,\"left\":[{\"id\":\"6572\"}],\"margin\":[5,5,5,5],\"min_border_bottom\":10,\"min_border_left\":10,\"min_border_right\":10,\"min_border_top\":10,\"renderers\":[{\"id\":\"6595\"}],\"sizing_mode\":\"stretch_width\",\"title\":{\"id\":\"6561\"},\"toolbar\":{\"id\":\"6582\"},\"width\":700,\"x_range\":{\"id\":\"6557\"},\"x_scale\":{\"id\":\"6565\"},\"y_range\":{\"id\":\"6558\"},\"y_scale\":{\"id\":\"6567\"}},\"id\":\"6560\",\"subtype\":\"Figure\",\"type\":\"Plot\"},{\"attributes\":{\"callback\":null,\"renderers\":[{\"id\":\"6595\"}],\"tags\":[\"hv_created\"],\"tooltips\":[[\"month_name\",\"@{month_name}\"],[\"estimated_riders\",\"@{estimated_riders}\"]]},\"id\":\"6559\",\"type\":\"HoverTool\"},{\"attributes\":{},\"id\":\"6576\",\"type\":\"SaveTool\"},{\"attributes\":{},\"id\":\"6599\",\"type\":\"CategoricalTickFormatter\"},{\"attributes\":{\"fill_alpha\":{\"value\":0.1},\"fill_color\":{\"value\":\"#1f77b4\"},\"hatch_alpha\":{\"value\":0.1},\"hatch_color\":{\"value\":\"#1f77b4\"},\"line_alpha\":{\"value\":0.1},\"top\":{\"field\":\"estimated_riders\"},\"width\":{\"value\":0.8},\"x\":{\"field\":\"month_name\"}},\"id\":\"6593\",\"type\":\"VBar\"},{\"attributes\":{\"bottom_units\":\"screen\",\"coordinates\":null,\"fill_alpha\":0.5,\"fill_color\":\"lightgrey\",\"group\":null,\"left_units\":\"screen\",\"level\":\"overlay\",\"line_alpha\":1.0,\"line_color\":\"black\",\"line_dash\":[4,4],\"line_width\":2,\"right_units\":\"screen\",\"syncable\":false,\"top_units\":\"screen\"},\"id\":\"6581\",\"type\":\"BoxAnnotation\"},{\"attributes\":{\"tools\":[{\"id\":\"6559\"},{\"id\":\"6576\"},{\"id\":\"6577\"},{\"id\":\"6578\"},{\"id\":\"6579\"},{\"id\":\"6580\"}]},\"id\":\"6582\",\"type\":\"Toolbar\"},{\"attributes\":{\"end\":288.5,\"reset_end\":288.5,\"reset_start\":0.0,\"tags\":[[[\"estimated_riders\",\"estimated_riders\",null]]]},\"id\":\"6558\",\"type\":\"Range1d\"},{\"attributes\":{\"children\":[{\"id\":\"6553\"}],\"margin\":[0,0,0,0],\"name\":\"Row33195\",\"sizing_mode\":\"stretch_width\"},\"id\":\"6552\",\"type\":\"Row\"},{\"attributes\":{},\"id\":\"6613\",\"type\":\"UnionRenderers\"},{\"attributes\":{\"fill_alpha\":{\"value\":0.2},\"fill_color\":{\"value\":\"#1f77b4\"},\"hatch_alpha\":{\"value\":0.2},\"hatch_color\":{\"value\":\"#1f77b4\"},\"line_alpha\":{\"value\":0.2},\"top\":{\"field\":\"estimated_riders\"},\"width\":{\"value\":0.8},\"x\":{\"field\":\"month_name\"}},\"id\":\"6594\",\"type\":\"VBar\"},{\"attributes\":{\"coordinates\":null,\"data_source\":{\"id\":\"6589\"},\"glyph\":{\"id\":\"6592\"},\"group\":null,\"hover_glyph\":null,\"muted_glyph\":{\"id\":\"6594\"},\"nonselection_glyph\":{\"id\":\"6593\"},\"selection_glyph\":{\"id\":\"6597\"},\"view\":{\"id\":\"6596\"}},\"id\":\"6595\",\"type\":\"GlyphRenderer\"},{\"attributes\":{\"axis_label\":\"Number of Visitors\",\"coordinates\":null,\"formatter\":{\"id\":\"6602\"},\"group\":null,\"major_label_policy\":{\"id\":\"6603\"},\"ticker\":{\"id\":\"6573\"}},\"id\":\"6572\",\"type\":\"LinearAxis\"},{\"attributes\":{\"margin\":[5,5,5,5],\"name\":\"HSpacer33187\",\"sizing_mode\":\"stretch_width\"},\"id\":\"6556\",\"type\":\"Spacer\"},{\"attributes\":{\"overlay\":{\"id\":\"6581\"}},\"id\":\"6579\",\"type\":\"BoxZoomTool\"},{\"attributes\":{\"bottom\":{\"value\":0},\"fill_alpha\":{\"value\":1.0},\"fill_color\":{\"value\":\"#1f77b4\"},\"hatch_alpha\":{\"value\":1.0},\"hatch_color\":{\"value\":\"#1f77b4\"},\"hatch_scale\":{\"value\":12.0},\"hatch_weight\":{\"value\":1.0},\"line_alpha\":{\"value\":1.0},\"line_cap\":{\"value\":\"butt\"},\"line_color\":{\"value\":\"black\"},\"line_dash\":{\"value\":[]},\"line_dash_offset\":{\"value\":0},\"line_join\":{\"value\":\"bevel\"},\"line_width\":{\"value\":1},\"top\":{\"field\":\"estimated_riders\"},\"width\":{\"value\":0.8},\"x\":{\"field\":\"month_name\"}},\"id\":\"6597\",\"type\":\"VBar\"},{\"attributes\":{},\"id\":\"6567\",\"type\":\"LinearScale\"},{\"attributes\":{\"factors\":[\"Jan\",\"Feb\",\"Mar\",\"Apr\",\"May\",\"Jun\",\"Jul\",\"Aug\",\"Sep\",\"Oct\",\"Nov\",\"Dec\"],\"tags\":[[[\"month_name\",\"month_name\",null]]]},\"id\":\"6557\",\"type\":\"FactorRange\"},{\"attributes\":{},\"id\":\"6600\",\"type\":\"AllLabels\"},{\"attributes\":{},\"id\":\"6580\",\"type\":\"ResetTool\"},{\"attributes\":{\"fill_color\":{\"value\":\"#1f77b4\"},\"hatch_color\":{\"value\":\"#1f77b4\"},\"top\":{\"field\":\"estimated_riders\"},\"width\":{\"value\":0.8},\"x\":{\"field\":\"month_name\"}},\"id\":\"6592\",\"type\":\"VBar\"},{\"attributes\":{},\"id\":\"6578\",\"type\":\"WheelZoomTool\"},{\"attributes\":{},\"id\":\"6603\",\"type\":\"AllLabels\"}],\"root_ids\":[\"6552\",\"6646\"]},\"title\":\"Bokeh Application\",\"version\":\"2.4.2\"}};\n",
       "    var render_items = [{\"docid\":\"015a897a-ffcd-4ccc-916a-0e6a56c97e31\",\"root_ids\":[\"6552\"],\"roots\":{\"6552\":\"3d8332fd-072a-486f-ba01-efcc04518473\"}}];\n",
       "    root.Bokeh.embed.embed_items_notebook(docs_json, render_items);\n",
       "  }\n",
       "  if (root.Bokeh !== undefined && root.Bokeh.Panel !== undefined) {\n",
       "    embed_document(root);\n",
       "  } else {\n",
       "    var attempts = 0;\n",
       "    var timer = setInterval(function(root) {\n",
       "      if (root.Bokeh !== undefined && root.Bokeh.Panel !== undefined) {\n",
       "        clearInterval(timer);\n",
       "        embed_document(root);\n",
       "      } else if (document.readyState == \"complete\") {\n",
       "        attempts++;\n",
       "        if (attempts > 200) {\n",
       "          clearInterval(timer);\n",
       "          console.log(\"Bokeh: ERROR: Unable to run BokehJS code because BokehJS library is missing\");\n",
       "        }\n",
       "      }\n",
       "    }, 25, root)\n",
       "  }\n",
       "})(window);</script>"
      ],
      "text/plain": [
       "<hvplot.interactive.Interactive at 0x24d6ad21d60>"
      ]
     },
     "execution_count": 73,
     "metadata": {
      "application/vnd.holoviews_exec.v0+json": {
       "id": "6552"
      }
     },
     "output_type": "execute_result"
    }
   ],
   "source": [
    "# Populatiry of West Lake Marion by Month\n",
    "df_g_2 = wlmt_idf.groupby(['month','month_name'])['estimated_riders'].sum()\n",
    "marion_populatiry_by_month = df_g_2.hvplot(\n",
    "    kind='bar', \n",
    "    x='month_name', \n",
    "    title='Visitors to WLMT by Month', \n",
    "    ylabel='Number of Visitors', \n",
    "    xlabel=\"Month\", \n",
    "    grid=True, \n",
    "    color=hv.Cycle(values=color_sequence)\n",
    ")\n",
    "marion_populatiry_by_month"
   ]
  },
  {
   "cell_type": "code",
   "execution_count": 74,
   "id": "3e24bfe0-609a-4655-b626-1ae58a3020c3",
   "metadata": {},
   "outputs": [],
   "source": [
    "# start simply by just brining in the user/rider data to play with\n",
    "riders_df = pd.read_csv(\"./data/wlmt_riders.csv\")\n",
    "\n",
    "# Narrow down to riders who've ridding WLMT\n",
    "region = \"West Lake Marion\"\n",
    "marion_mask = riders_df.recent_ride_locations.apply(lambda x: region in x)\n",
    "region_df = riders_df[marion_mask]\n",
    "region_df = region_df[region_df['state'] != \"unknown\"]\n",
    "region_df = region_df[region_df['city'] != \"unknown\"]\n",
    "\n",
    "# Load the dataframe into cache\n",
    "pn.state.cache['data'] = region_df.copy()"
   ]
  },
  {
   "cell_type": "code",
   "execution_count": 75,
   "id": "9f5bdc94-f8a8-443c-8ddc-22dc4ff498c3",
   "metadata": {},
   "outputs": [],
   "source": [
    "region_idf = region_df.interactive()"
   ]
  },
  {
   "cell_type": "code",
   "execution_count": 76,
   "id": "25ba80ea-0eff-4f81-a0e3-032397d225cc",
   "metadata": {},
   "outputs": [
    {
     "data": {},
     "metadata": {},
     "output_type": "display_data"
    },
    {
     "data": {},
     "metadata": {},
     "output_type": "display_data"
    },
    {
     "data": {
      "application/vnd.holoviews_exec.v0+json": "",
      "text/html": [
       "<div id='6697'>\n",
       "\n",
       "\n",
       "\n",
       "\n",
       "\n",
       "  <div class=\"bk-root\" id=\"2677e287-1010-423f-a833-26fa1cf72e1b\" data-root-id=\"6697\"></div>\n",
       "</div>\n",
       "<script type=\"application/javascript\">(function(root) {\n",
       "  function embed_document(root) {\n",
       "    var docs_json = {\"f32c6d94-0504-4410-87ec-920d839eb200\":{\"defs\":[{\"extends\":null,\"module\":null,\"name\":\"ReactiveHTML1\",\"overrides\":[],\"properties\":[]},{\"extends\":null,\"module\":null,\"name\":\"FlexBox1\",\"overrides\":[],\"properties\":[{\"default\":\"flex-start\",\"kind\":null,\"name\":\"align_content\"},{\"default\":\"flex-start\",\"kind\":null,\"name\":\"align_items\"},{\"default\":\"row\",\"kind\":null,\"name\":\"flex_direction\"},{\"default\":\"wrap\",\"kind\":null,\"name\":\"flex_wrap\"},{\"default\":\"flex-start\",\"kind\":null,\"name\":\"justify_content\"}]},{\"extends\":null,\"module\":null,\"name\":\"GridStack1\",\"overrides\":[],\"properties\":[{\"default\":\"warn\",\"kind\":null,\"name\":\"mode\"},{\"default\":null,\"kind\":null,\"name\":\"ncols\"},{\"default\":null,\"kind\":null,\"name\":\"nrows\"},{\"default\":true,\"kind\":null,\"name\":\"allow_resize\"},{\"default\":true,\"kind\":null,\"name\":\"allow_drag\"},{\"default\":[],\"kind\":null,\"name\":\"state\"}]},{\"extends\":null,\"module\":null,\"name\":\"click1\",\"overrides\":[],\"properties\":[{\"default\":\"\",\"kind\":null,\"name\":\"terminal_output\"},{\"default\":\"\",\"kind\":null,\"name\":\"debug_name\"},{\"default\":0,\"kind\":null,\"name\":\"clears\"}]},{\"extends\":null,\"module\":null,\"name\":\"NotificationAreaBase1\",\"overrides\":[],\"properties\":[{\"default\":\"bottom-right\",\"kind\":null,\"name\":\"position\"},{\"default\":0,\"kind\":null,\"name\":\"_clear\"}]},{\"extends\":null,\"module\":null,\"name\":\"NotificationArea1\",\"overrides\":[],\"properties\":[{\"default\":[],\"kind\":null,\"name\":\"notifications\"},{\"default\":\"bottom-right\",\"kind\":null,\"name\":\"position\"},{\"default\":0,\"kind\":null,\"name\":\"_clear\"},{\"default\":[{\"background\":\"#ffc107\",\"icon\":{\"className\":\"fas fa-exclamation-triangle\",\"color\":\"white\",\"tagName\":\"i\"},\"type\":\"warning\"},{\"background\":\"#007bff\",\"icon\":{\"className\":\"fas fa-info-circle\",\"color\":\"white\",\"tagName\":\"i\"},\"type\":\"info\"}],\"kind\":null,\"name\":\"types\"}]},{\"extends\":null,\"module\":null,\"name\":\"Notification\",\"overrides\":[],\"properties\":[{\"default\":null,\"kind\":null,\"name\":\"background\"},{\"default\":3000,\"kind\":null,\"name\":\"duration\"},{\"default\":null,\"kind\":null,\"name\":\"icon\"},{\"default\":\"\",\"kind\":null,\"name\":\"message\"},{\"default\":null,\"kind\":null,\"name\":\"notification_type\"},{\"default\":false,\"kind\":null,\"name\":\"_destroyed\"}]},{\"extends\":null,\"module\":null,\"name\":\"TemplateActions1\",\"overrides\":[],\"properties\":[{\"default\":0,\"kind\":null,\"name\":\"open_modal\"},{\"default\":0,\"kind\":null,\"name\":\"close_modal\"}]},{\"extends\":null,\"module\":null,\"name\":\"MaterialTemplateActions1\",\"overrides\":[],\"properties\":[{\"default\":0,\"kind\":null,\"name\":\"open_modal\"},{\"default\":0,\"kind\":null,\"name\":\"close_modal\"}]}],\"roots\":{\"references\":[{\"attributes\":{\"callback\":null,\"renderers\":[{\"id\":\"6740\"}],\"tags\":[\"hv_created\"],\"tooltips\":[[\"state\",\"@{state}\"],[\"0\",\"@{A_0}\"]]},\"id\":\"6704\",\"type\":\"HoverTool\"},{\"attributes\":{\"below\":[{\"id\":\"6714\"}],\"center\":[{\"id\":\"6716\"},{\"id\":\"6720\"}],\"height\":300,\"left\":[{\"id\":\"6717\"}],\"margin\":[5,5,5,5],\"min_border_bottom\":10,\"min_border_left\":10,\"min_border_right\":10,\"min_border_top\":10,\"renderers\":[{\"id\":\"6740\"}],\"sizing_mode\":\"stretch_width\",\"title\":{\"id\":\"6706\"},\"toolbar\":{\"id\":\"6727\"},\"width\":700,\"x_range\":{\"id\":\"6702\"},\"x_scale\":{\"id\":\"6710\"},\"y_range\":{\"id\":\"6703\"},\"y_scale\":{\"id\":\"6712\"}},\"id\":\"6705\",\"subtype\":\"Figure\",\"type\":\"Plot\"},{\"attributes\":{},\"id\":\"6721\",\"type\":\"SaveTool\"},{\"attributes\":{},\"id\":\"6710\",\"type\":\"CategoricalScale\"},{\"attributes\":{},\"id\":\"6747\",\"type\":\"BasicTickFormatter\"},{\"attributes\":{\"margin\":[5,5,5,5],\"name\":\"HSpacer34047\",\"sizing_mode\":\"stretch_width\"},\"id\":\"6701\",\"type\":\"Spacer\"},{\"attributes\":{\"children\":[{\"id\":\"6699\"},{\"id\":\"6705\"}],\"margin\":[0,0,0,0],\"name\":\"Column34054\",\"sizing_mode\":\"stretch_width\"},\"id\":\"6698\",\"type\":\"Column\"},{\"attributes\":{},\"id\":\"6735\",\"type\":\"Selection\"},{\"attributes\":{\"margin\":[0,0,0,0],\"name\":\"Column34044\",\"sizing_mode\":\"stretch_width\"},\"id\":\"6700\",\"type\":\"Column\"},{\"attributes\":{\"fill_alpha\":{\"value\":0.2},\"fill_color\":{\"value\":\"#1f77b4\"},\"hatch_alpha\":{\"value\":0.2},\"hatch_color\":{\"value\":\"#1f77b4\"},\"line_alpha\":{\"value\":0.2},\"top\":{\"field\":\"A_0\"},\"width\":{\"value\":0.8},\"x\":{\"field\":\"state\"}},\"id\":\"6739\",\"type\":\"VBar\"},{\"attributes\":{\"children\":[{\"id\":\"6698\"}],\"margin\":[0,0,0,0],\"name\":\"Row34055\",\"sizing_mode\":\"stretch_width\"},\"id\":\"6697\",\"type\":\"Row\"},{\"attributes\":{},\"id\":\"6715\",\"type\":\"CategoricalTicker\"},{\"attributes\":{\"axis_label\":\"% of Riders\",\"coordinates\":null,\"formatter\":{\"id\":\"6747\"},\"group\":null,\"major_label_policy\":{\"id\":\"6748\"},\"ticker\":{\"id\":\"6718\"}},\"id\":\"6717\",\"type\":\"LinearAxis\"},{\"attributes\":{\"axis\":{\"id\":\"6714\"},\"coordinates\":null,\"group\":null,\"ticker\":{\"id\":\"6715\"}},\"id\":\"6716\",\"type\":\"Grid\"},{\"attributes\":{\"client_comm_id\":\"e624c5a8a0da49a697fbf9114897f981\",\"comm_id\":\"04c8e7afc21b4ffdacd86f73d86ccd92\",\"plot_id\":\"6697\"},\"id\":\"6791\",\"type\":\"panel.models.comm_manager.CommManager\"},{\"attributes\":{\"data\":{\"A_0\":{\"__ndarray__\":\"qqqqqqqqVkBWVVVVVVUFQFZVVVVVVQVAVlVVVVVV9T9WVVVVVVX1P1ZVVVVVVfU/\",\"dtype\":\"float64\",\"order\":\"little\",\"shape\":[6]},\"state\":[\"Minnesota\",\"Arizona\",\"Oregon\",\"California\",\"Montana\",\"Utah\"]},\"selected\":{\"id\":\"6735\"},\"selection_policy\":{\"id\":\"6758\"}},\"id\":\"6734\",\"type\":\"ColumnDataSource\"},{\"attributes\":{\"fill_alpha\":{\"value\":0.1},\"fill_color\":{\"value\":\"#1f77b4\"},\"hatch_alpha\":{\"value\":0.1},\"hatch_color\":{\"value\":\"#1f77b4\"},\"line_alpha\":{\"value\":0.1},\"top\":{\"field\":\"A_0\"},\"width\":{\"value\":0.8},\"x\":{\"field\":\"state\"}},\"id\":\"6738\",\"type\":\"VBar\"},{\"attributes\":{},\"id\":\"6725\",\"type\":\"ResetTool\"},{\"attributes\":{\"overlay\":{\"id\":\"6726\"}},\"id\":\"6724\",\"type\":\"BoxZoomTool\"},{\"attributes\":{\"bottom\":{\"value\":0},\"fill_alpha\":{\"value\":1.0},\"fill_color\":{\"value\":\"#1f77b4\"},\"hatch_alpha\":{\"value\":1.0},\"hatch_color\":{\"value\":\"#1f77b4\"},\"hatch_scale\":{\"value\":12.0},\"hatch_weight\":{\"value\":1.0},\"line_alpha\":{\"value\":1.0},\"line_cap\":{\"value\":\"butt\"},\"line_color\":{\"value\":\"black\"},\"line_dash\":{\"value\":[]},\"line_dash_offset\":{\"value\":0},\"line_join\":{\"value\":\"bevel\"},\"line_width\":{\"value\":1},\"top\":{\"field\":\"A_0\"},\"width\":{\"value\":0.8},\"x\":{\"field\":\"state\"}},\"id\":\"6742\",\"type\":\"VBar\"},{\"attributes\":{\"coordinates\":null,\"group\":null,\"text\":\"% of WLMT Visitors by State\",\"text_color\":\"black\",\"text_font_size\":\"12pt\"},\"id\":\"6706\",\"type\":\"Title\"},{\"attributes\":{},\"id\":\"6745\",\"type\":\"AllLabels\"},{\"attributes\":{\"fill_color\":{\"value\":\"#1f77b4\"},\"hatch_color\":{\"value\":\"#1f77b4\"},\"top\":{\"field\":\"A_0\"},\"width\":{\"value\":0.8},\"x\":{\"field\":\"state\"}},\"id\":\"6737\",\"type\":\"VBar\"},{\"attributes\":{\"bottom_units\":\"screen\",\"coordinates\":null,\"fill_alpha\":0.5,\"fill_color\":\"lightgrey\",\"group\":null,\"left_units\":\"screen\",\"level\":\"overlay\",\"line_alpha\":1.0,\"line_color\":\"black\",\"line_dash\":[4,4],\"line_width\":2,\"right_units\":\"screen\",\"syncable\":false,\"top_units\":\"screen\"},\"id\":\"6726\",\"type\":\"BoxAnnotation\"},{\"attributes\":{},\"id\":\"6723\",\"type\":\"WheelZoomTool\"},{\"attributes\":{},\"id\":\"6744\",\"type\":\"CategoricalTickFormatter\"},{\"attributes\":{},\"id\":\"6758\",\"type\":\"UnionRenderers\"},{\"attributes\":{},\"id\":\"6712\",\"type\":\"LinearScale\"},{\"attributes\":{\"coordinates\":null,\"data_source\":{\"id\":\"6734\"},\"glyph\":{\"id\":\"6737\"},\"group\":null,\"hover_glyph\":null,\"muted_glyph\":{\"id\":\"6739\"},\"nonselection_glyph\":{\"id\":\"6738\"},\"selection_glyph\":{\"id\":\"6742\"},\"view\":{\"id\":\"6741\"}},\"id\":\"6740\",\"type\":\"GlyphRenderer\"},{\"attributes\":{},\"id\":\"6722\",\"type\":\"PanTool\"},{\"attributes\":{\"tools\":[{\"id\":\"6704\"},{\"id\":\"6721\"},{\"id\":\"6722\"},{\"id\":\"6723\"},{\"id\":\"6724\"},{\"id\":\"6725\"}]},\"id\":\"6727\",\"type\":\"Toolbar\"},{\"attributes\":{\"source\":{\"id\":\"6734\"}},\"id\":\"6741\",\"type\":\"CDSView\"},{\"attributes\":{\"axis\":{\"id\":\"6717\"},\"coordinates\":null,\"dimension\":1,\"group\":null,\"ticker\":{\"id\":\"6718\"}},\"id\":\"6720\",\"type\":\"Grid\"},{\"attributes\":{\"factors\":[\"Minnesota\",\"Arizona\",\"Oregon\",\"California\",\"Montana\",\"Utah\"],\"tags\":[[[\"state\",\"state\",null]]]},\"id\":\"6702\",\"type\":\"FactorRange\"},{\"attributes\":{},\"id\":\"6748\",\"type\":\"AllLabels\"},{\"attributes\":{\"axis_label\":\"State\",\"coordinates\":null,\"formatter\":{\"id\":\"6744\"},\"group\":null,\"major_label_policy\":{\"id\":\"6745\"},\"ticker\":{\"id\":\"6715\"}},\"id\":\"6714\",\"type\":\"CategoricalAxis\"},{\"attributes\":{},\"id\":\"6718\",\"type\":\"BasicTicker\"},{\"attributes\":{\"end\":99.6,\"reset_end\":99.6,\"reset_start\":0.0,\"tags\":[[[\"0\",\"0\",null]]]},\"id\":\"6703\",\"type\":\"Range1d\"},{\"attributes\":{\"children\":[{\"id\":\"6700\"},{\"id\":\"6701\"}],\"margin\":[0,0,0,0],\"name\":\"Row34048\",\"sizing_mode\":\"stretch_width\"},\"id\":\"6699\",\"type\":\"Row\"}],\"root_ids\":[\"6697\",\"6791\"]},\"title\":\"Bokeh Application\",\"version\":\"2.4.2\"}};\n",
       "    var render_items = [{\"docid\":\"f32c6d94-0504-4410-87ec-920d839eb200\",\"root_ids\":[\"6697\"],\"roots\":{\"6697\":\"2677e287-1010-423f-a833-26fa1cf72e1b\"}}];\n",
       "    root.Bokeh.embed.embed_items_notebook(docs_json, render_items);\n",
       "  }\n",
       "  if (root.Bokeh !== undefined && root.Bokeh.Panel !== undefined) {\n",
       "    embed_document(root);\n",
       "  } else {\n",
       "    var attempts = 0;\n",
       "    var timer = setInterval(function(root) {\n",
       "      if (root.Bokeh !== undefined && root.Bokeh.Panel !== undefined) {\n",
       "        clearInterval(timer);\n",
       "        embed_document(root);\n",
       "      } else if (document.readyState == \"complete\") {\n",
       "        attempts++;\n",
       "        if (attempts > 200) {\n",
       "          clearInterval(timer);\n",
       "          console.log(\"Bokeh: ERROR: Unable to run BokehJS code because BokehJS library is missing\");\n",
       "        }\n",
       "      }\n",
       "    }, 25, root)\n",
       "  }\n",
       "})(window);</script>"
      ],
      "text/plain": [
       "<hvplot.interactive.Interactive at 0x24d67091f10>"
      ]
     },
     "execution_count": 76,
     "metadata": {
      "application/vnd.holoviews_exec.v0+json": {
       "id": "6697"
      }
     },
     "output_type": "execute_result"
    }
   ],
   "source": [
    "# Graph Riders of WLMT by all states in the USA\n",
    "# Measure visitors of trails by all states\n",
    "\n",
    "visit_by_state = (\n",
    "    ((region_idf.groupby('state').size().sort_values(ascending=False) / region_idf.groupby('state').size().sort_values(ascending=False).sum()) * 100)\n",
    "    .to_frame()\n",
    "    .reset_index()\n",
    ")\n",
    "\n",
    "visitors_plot_by_state = visit_by_state.hvplot(\n",
    "    kind='bar', \n",
    "    x='state',\n",
    "    title='% of WLMT Visitors by State', \n",
    "    ylabel='% of Riders', \n",
    "    xlabel=\"State\", \n",
    "    grid=True, \n",
    "    color=hv.Cycle(values=color_sequence)\n",
    ")\n",
    "visitors_plot_by_state"
   ]
  },
  {
   "cell_type": "code",
   "execution_count": 77,
   "id": "3e171fae-fca8-4c13-9d98-326d7daa399d",
   "metadata": {},
   "outputs": [
    {
     "data": {},
     "metadata": {},
     "output_type": "display_data"
    },
    {
     "data": {},
     "metadata": {},
     "output_type": "display_data"
    },
    {
     "data": {
      "application/vnd.holoviews_exec.v0+json": "",
      "text/html": [
       "<div id='6842'>\n",
       "\n",
       "\n",
       "\n",
       "\n",
       "\n",
       "  <div class=\"bk-root\" id=\"030865b0-fc24-4bca-84d9-e140c2a30719\" data-root-id=\"6842\"></div>\n",
       "</div>\n",
       "<script type=\"application/javascript\">(function(root) {\n",
       "  function embed_document(root) {\n",
       "    var docs_json = {\"959af09a-be17-409f-87f1-f21da6947464\":{\"defs\":[{\"extends\":null,\"module\":null,\"name\":\"ReactiveHTML1\",\"overrides\":[],\"properties\":[]},{\"extends\":null,\"module\":null,\"name\":\"FlexBox1\",\"overrides\":[],\"properties\":[{\"default\":\"flex-start\",\"kind\":null,\"name\":\"align_content\"},{\"default\":\"flex-start\",\"kind\":null,\"name\":\"align_items\"},{\"default\":\"row\",\"kind\":null,\"name\":\"flex_direction\"},{\"default\":\"wrap\",\"kind\":null,\"name\":\"flex_wrap\"},{\"default\":\"flex-start\",\"kind\":null,\"name\":\"justify_content\"}]},{\"extends\":null,\"module\":null,\"name\":\"GridStack1\",\"overrides\":[],\"properties\":[{\"default\":\"warn\",\"kind\":null,\"name\":\"mode\"},{\"default\":null,\"kind\":null,\"name\":\"ncols\"},{\"default\":null,\"kind\":null,\"name\":\"nrows\"},{\"default\":true,\"kind\":null,\"name\":\"allow_resize\"},{\"default\":true,\"kind\":null,\"name\":\"allow_drag\"},{\"default\":[],\"kind\":null,\"name\":\"state\"}]},{\"extends\":null,\"module\":null,\"name\":\"click1\",\"overrides\":[],\"properties\":[{\"default\":\"\",\"kind\":null,\"name\":\"terminal_output\"},{\"default\":\"\",\"kind\":null,\"name\":\"debug_name\"},{\"default\":0,\"kind\":null,\"name\":\"clears\"}]},{\"extends\":null,\"module\":null,\"name\":\"NotificationAreaBase1\",\"overrides\":[],\"properties\":[{\"default\":\"bottom-right\",\"kind\":null,\"name\":\"position\"},{\"default\":0,\"kind\":null,\"name\":\"_clear\"}]},{\"extends\":null,\"module\":null,\"name\":\"NotificationArea1\",\"overrides\":[],\"properties\":[{\"default\":[],\"kind\":null,\"name\":\"notifications\"},{\"default\":\"bottom-right\",\"kind\":null,\"name\":\"position\"},{\"default\":0,\"kind\":null,\"name\":\"_clear\"},{\"default\":[{\"background\":\"#ffc107\",\"icon\":{\"className\":\"fas fa-exclamation-triangle\",\"color\":\"white\",\"tagName\":\"i\"},\"type\":\"warning\"},{\"background\":\"#007bff\",\"icon\":{\"className\":\"fas fa-info-circle\",\"color\":\"white\",\"tagName\":\"i\"},\"type\":\"info\"}],\"kind\":null,\"name\":\"types\"}]},{\"extends\":null,\"module\":null,\"name\":\"Notification\",\"overrides\":[],\"properties\":[{\"default\":null,\"kind\":null,\"name\":\"background\"},{\"default\":3000,\"kind\":null,\"name\":\"duration\"},{\"default\":null,\"kind\":null,\"name\":\"icon\"},{\"default\":\"\",\"kind\":null,\"name\":\"message\"},{\"default\":null,\"kind\":null,\"name\":\"notification_type\"},{\"default\":false,\"kind\":null,\"name\":\"_destroyed\"}]},{\"extends\":null,\"module\":null,\"name\":\"TemplateActions1\",\"overrides\":[],\"properties\":[{\"default\":0,\"kind\":null,\"name\":\"open_modal\"},{\"default\":0,\"kind\":null,\"name\":\"close_modal\"}]},{\"extends\":null,\"module\":null,\"name\":\"MaterialTemplateActions1\",\"overrides\":[],\"properties\":[{\"default\":0,\"kind\":null,\"name\":\"open_modal\"},{\"default\":0,\"kind\":null,\"name\":\"close_modal\"}]}],\"roots\":{\"references\":[{\"attributes\":{},\"id\":\"6866\",\"type\":\"SaveTool\"},{\"attributes\":{\"children\":[{\"id\":\"6844\"},{\"id\":\"6850\"}],\"margin\":[0,0,0,0],\"name\":\"Column34875\",\"sizing_mode\":\"stretch_width\"},\"id\":\"6843\",\"type\":\"Column\"},{\"attributes\":{},\"id\":\"6860\",\"type\":\"CategoricalTicker\"},{\"attributes\":{\"bottom_units\":\"screen\",\"coordinates\":null,\"fill_alpha\":0.5,\"fill_color\":\"lightgrey\",\"group\":null,\"left_units\":\"screen\",\"level\":\"overlay\",\"line_alpha\":1.0,\"line_color\":\"black\",\"line_dash\":[4,4],\"line_width\":2,\"right_units\":\"screen\",\"syncable\":false,\"top_units\":\"screen\"},\"id\":\"6871\",\"type\":\"BoxAnnotation\"},{\"attributes\":{\"fill_color\":{\"value\":\"#1f77b4\"},\"hatch_color\":{\"value\":\"#1f77b4\"},\"top\":{\"field\":\"A_0\"},\"width\":{\"value\":0.8},\"x\":{\"field\":\"city\"}},\"id\":\"6882\",\"type\":\"VBar\"},{\"attributes\":{},\"id\":\"6868\",\"type\":\"WheelZoomTool\"},{\"attributes\":{},\"id\":\"6893\",\"type\":\"AllLabels\"},{\"attributes\":{\"axis_label\":\"City\",\"coordinates\":null,\"formatter\":{\"id\":\"6889\"},\"group\":null,\"major_label_orientation\":1.5707963267948966,\"major_label_policy\":{\"id\":\"6890\"},\"ticker\":{\"id\":\"6860\"}},\"id\":\"6859\",\"type\":\"CategoricalAxis\"},{\"attributes\":{},\"id\":\"6863\",\"type\":\"BasicTicker\"},{\"attributes\":{},\"id\":\"6890\",\"type\":\"AllLabels\"},{\"attributes\":{},\"id\":\"6880\",\"type\":\"Selection\"},{\"attributes\":{},\"id\":\"6870\",\"type\":\"ResetTool\"},{\"attributes\":{\"tools\":[{\"id\":\"6849\"},{\"id\":\"6866\"},{\"id\":\"6867\"},{\"id\":\"6868\"},{\"id\":\"6869\"},{\"id\":\"6870\"}]},\"id\":\"6872\",\"type\":\"Toolbar\"},{\"attributes\":{\"fill_alpha\":{\"value\":0.2},\"fill_color\":{\"value\":\"#1f77b4\"},\"hatch_alpha\":{\"value\":0.2},\"hatch_color\":{\"value\":\"#1f77b4\"},\"line_alpha\":{\"value\":0.2},\"top\":{\"field\":\"A_0\"},\"width\":{\"value\":0.8},\"x\":{\"field\":\"city\"}},\"id\":\"6884\",\"type\":\"VBar\"},{\"attributes\":{\"children\":[{\"id\":\"6843\"}],\"margin\":[0,0,0,0],\"name\":\"Row34876\",\"sizing_mode\":\"stretch_width\"},\"id\":\"6842\",\"type\":\"Row\"},{\"attributes\":{},\"id\":\"6855\",\"type\":\"CategoricalScale\"},{\"attributes\":{},\"id\":\"6867\",\"type\":\"PanTool\"},{\"attributes\":{\"axis\":{\"id\":\"6862\"},\"coordinates\":null,\"dimension\":1,\"group\":null,\"ticker\":{\"id\":\"6863\"}},\"id\":\"6865\",\"type\":\"Grid\"},{\"attributes\":{},\"id\":\"6857\",\"type\":\"LinearScale\"},{\"attributes\":{\"fill_alpha\":{\"value\":0.1},\"fill_color\":{\"value\":\"#1f77b4\"},\"hatch_alpha\":{\"value\":0.1},\"hatch_color\":{\"value\":\"#1f77b4\"},\"line_alpha\":{\"value\":0.1},\"top\":{\"field\":\"A_0\"},\"width\":{\"value\":0.8},\"x\":{\"field\":\"city\"}},\"id\":\"6883\",\"type\":\"VBar\"},{\"attributes\":{\"below\":[{\"id\":\"6859\"}],\"center\":[{\"id\":\"6861\"},{\"id\":\"6865\"}],\"height\":300,\"left\":[{\"id\":\"6862\"}],\"margin\":[5,5,5,5],\"min_border_bottom\":10,\"min_border_left\":10,\"min_border_right\":10,\"min_border_top\":10,\"renderers\":[{\"id\":\"6885\"}],\"sizing_mode\":\"stretch_width\",\"title\":{\"id\":\"6851\"},\"toolbar\":{\"id\":\"6872\"},\"width\":700,\"x_range\":{\"id\":\"6847\"},\"x_scale\":{\"id\":\"6855\"},\"y_range\":{\"id\":\"6848\"},\"y_scale\":{\"id\":\"6857\"}},\"id\":\"6850\",\"subtype\":\"Figure\",\"type\":\"Plot\"},{\"attributes\":{\"factors\":[\"Minneapolis\",\"Lakeville\",\"St. Paul\",\"Burnsville\",\"Savage\",\"Bloomington\",\"Eagan\",\"St. Louis Park\",\"Northfield\",\"Gilbert\",\"Pleasant Grove\",\"Faribault\",\"Rochester\",\"Richfield\",\"Redmond\",\"Prior Lake\",\"Prescott\",\"Portland\",\"Pemberton\",\"Hastings\",\"Owatonna\",\"Buffalo\",\"Mendota\",\"Mankato\",\"Le Sueur\",\"Folsom\",\"Hugo\",\"Helena\",\"Winona\"],\"tags\":[[[\"city\",\"city\",null]]]},\"id\":\"6847\",\"type\":\"FactorRange\"},{\"attributes\":{\"coordinates\":null,\"data_source\":{\"id\":\"6879\"},\"glyph\":{\"id\":\"6882\"},\"group\":null,\"hover_glyph\":null,\"muted_glyph\":{\"id\":\"6884\"},\"nonselection_glyph\":{\"id\":\"6883\"},\"selection_glyph\":{\"id\":\"6887\"},\"view\":{\"id\":\"6886\"}},\"id\":\"6885\",\"type\":\"GlyphRenderer\"},{\"attributes\":{\"margin\":[5,5,5,5],\"name\":\"HSpacer34868\",\"sizing_mode\":\"stretch_width\"},\"id\":\"6846\",\"type\":\"Spacer\"},{\"attributes\":{\"coordinates\":null,\"group\":null,\"text\":\"% of WLMT Visitors by City\",\"text_color\":\"black\",\"text_font_size\":\"12pt\"},\"id\":\"6851\",\"type\":\"Title\"},{\"attributes\":{\"end\":29.200000000000003,\"reset_end\":29.200000000000003,\"reset_start\":0.0,\"tags\":[[[\"0\",\"0\",null]]]},\"id\":\"6848\",\"type\":\"Range1d\"},{\"attributes\":{\"axis_label\":\"% of Riders\",\"coordinates\":null,\"formatter\":{\"id\":\"6892\"},\"group\":null,\"major_label_policy\":{\"id\":\"6893\"},\"ticker\":{\"id\":\"6863\"}},\"id\":\"6862\",\"type\":\"LinearAxis\"},{\"attributes\":{},\"id\":\"6892\",\"type\":\"BasicTickFormatter\"},{\"attributes\":{\"margin\":[0,0,0,0],\"name\":\"Column34865\",\"sizing_mode\":\"stretch_width\"},\"id\":\"6845\",\"type\":\"Column\"},{\"attributes\":{\"data\":{\"A_0\":{\"__ndarray__\":\"q6qqqqqqOkBVVVVVVVUtQAAAAAAAACBAVlVVVVVVFUBWVVVVVVUVQAAAAAAAABBAAAAAAAAAEEBWVVVVVVUFQFZVVVVVVQVAVlVVVVVV9T9WVVVVVVX1P1ZVVVVVVfU/VlVVVVVV9T9WVVVVVVX1P1ZVVVVVVfU/VlVVVVVV9T9WVVVVVVX1P1ZVVVVVVfU/VlVVVVVV9T9WVVVVVVX1P1ZVVVVVVfU/VlVVVVVV9T9WVVVVVVX1P1ZVVVVVVfU/VlVVVVVV9T9WVVVVVVX1P1ZVVVVVVfU/VlVVVVVV9T9WVVVVVVX1Pw==\",\"dtype\":\"float64\",\"order\":\"little\",\"shape\":[29]},\"city\":[\"Minneapolis\",\"Lakeville\",\"St. Paul\",\"Burnsville\",\"Savage\",\"Bloomington\",\"Eagan\",\"St. Louis Park\",\"Northfield\",\"Gilbert\",\"Pleasant Grove\",\"Faribault\",\"Rochester\",\"Richfield\",\"Redmond\",\"Prior Lake\",\"Prescott\",\"Portland\",\"Pemberton\",\"Hastings\",\"Owatonna\",\"Buffalo\",\"Mendota\",\"Mankato\",\"Le Sueur\",\"Folsom\",\"Hugo\",\"Helena\",\"Winona\"]},\"selected\":{\"id\":\"6880\"},\"selection_policy\":{\"id\":\"6903\"}},\"id\":\"6879\",\"type\":\"ColumnDataSource\"},{\"attributes\":{\"children\":[{\"id\":\"6845\"},{\"id\":\"6846\"}],\"margin\":[0,0,0,0],\"name\":\"Row34869\",\"sizing_mode\":\"stretch_width\"},\"id\":\"6844\",\"type\":\"Row\"},{\"attributes\":{\"axis\":{\"id\":\"6859\"},\"coordinates\":null,\"group\":null,\"ticker\":{\"id\":\"6860\"}},\"id\":\"6861\",\"type\":\"Grid\"},{\"attributes\":{\"bottom\":{\"value\":0},\"fill_alpha\":{\"value\":1.0},\"fill_color\":{\"value\":\"#1f77b4\"},\"hatch_alpha\":{\"value\":1.0},\"hatch_color\":{\"value\":\"#1f77b4\"},\"hatch_scale\":{\"value\":12.0},\"hatch_weight\":{\"value\":1.0},\"line_alpha\":{\"value\":1.0},\"line_cap\":{\"value\":\"butt\"},\"line_color\":{\"value\":\"black\"},\"line_dash\":{\"value\":[]},\"line_dash_offset\":{\"value\":0},\"line_join\":{\"value\":\"bevel\"},\"line_width\":{\"value\":1},\"top\":{\"field\":\"A_0\"},\"width\":{\"value\":0.8},\"x\":{\"field\":\"city\"}},\"id\":\"6887\",\"type\":\"VBar\"},{\"attributes\":{},\"id\":\"6889\",\"type\":\"CategoricalTickFormatter\"},{\"attributes\":{\"source\":{\"id\":\"6879\"}},\"id\":\"6886\",\"type\":\"CDSView\"},{\"attributes\":{},\"id\":\"6903\",\"type\":\"UnionRenderers\"},{\"attributes\":{\"callback\":null,\"renderers\":[{\"id\":\"6885\"}],\"tags\":[\"hv_created\"],\"tooltips\":[[\"city\",\"@{city}\"],[\"0\",\"@{A_0}\"]]},\"id\":\"6849\",\"type\":\"HoverTool\"},{\"attributes\":{\"overlay\":{\"id\":\"6871\"}},\"id\":\"6869\",\"type\":\"BoxZoomTool\"},{\"attributes\":{\"client_comm_id\":\"3a1f307a8b4242b2b92eadbdcecf440f\",\"comm_id\":\"11954be2cea640fcb54be5a3b0714b0f\",\"plot_id\":\"6842\"},\"id\":\"6936\",\"type\":\"panel.models.comm_manager.CommManager\"}],\"root_ids\":[\"6842\",\"6936\"]},\"title\":\"Bokeh Application\",\"version\":\"2.4.2\"}};\n",
       "    var render_items = [{\"docid\":\"959af09a-be17-409f-87f1-f21da6947464\",\"root_ids\":[\"6842\"],\"roots\":{\"6842\":\"030865b0-fc24-4bca-84d9-e140c2a30719\"}}];\n",
       "    root.Bokeh.embed.embed_items_notebook(docs_json, render_items);\n",
       "  }\n",
       "  if (root.Bokeh !== undefined && root.Bokeh.Panel !== undefined) {\n",
       "    embed_document(root);\n",
       "  } else {\n",
       "    var attempts = 0;\n",
       "    var timer = setInterval(function(root) {\n",
       "      if (root.Bokeh !== undefined && root.Bokeh.Panel !== undefined) {\n",
       "        clearInterval(timer);\n",
       "        embed_document(root);\n",
       "      } else if (document.readyState == \"complete\") {\n",
       "        attempts++;\n",
       "        if (attempts > 200) {\n",
       "          clearInterval(timer);\n",
       "          console.log(\"Bokeh: ERROR: Unable to run BokehJS code because BokehJS library is missing\");\n",
       "        }\n",
       "      }\n",
       "    }, 25, root)\n",
       "  }\n",
       "})(window);</script>"
      ],
      "text/plain": [
       "<hvplot.interactive.Interactive at 0x24d676ad7f0>"
      ]
     },
     "execution_count": 77,
     "metadata": {
      "application/vnd.holoviews_exec.v0+json": {
       "id": "6842"
      }
     },
     "output_type": "execute_result"
    }
   ],
   "source": [
    "# Graph Riders of WLMT By City\n",
    "#g_2 = (region_df.groupby('city').size().sort_values(ascending=False) / region_df.groupby('city').size().sort_values(ascending=False).sum())*100\n",
    "\n",
    "visit_by_city = (\n",
    "    ((region_idf.groupby('city').size().sort_values(ascending=False) / region_idf.groupby('city').size().sort_values(ascending=False).sum()) * 100)\n",
    "    .to_frame()\n",
    "    .reset_index()\n",
    ")\n",
    "\n",
    "\n",
    "visitors_plot_by_city = visit_by_city.hvplot(\n",
    "    kind='bar', \n",
    "    x='city', \n",
    "    title='% of WLMT Visitors by City', \n",
    "    ylabel='% of Riders', \n",
    "    xlabel=\"City\",\n",
    "    rot=90, \n",
    "    grid=True, \n",
    "    color=hv.Cycle(values=color_sequence),\n",
    "    \n",
    ")\n",
    "\n",
    "visitors_plot_by_city"
   ]
  },
  {
   "cell_type": "code",
   "execution_count": 78,
   "id": "eca44d48-4f37-47e3-8580-84f416219c37",
   "metadata": {},
   "outputs": [],
   "source": [
    "# Let's play with the Region Trail Data\n",
    "# Build a Pandas Data Frame with all region data\n",
    "\n",
    "region_trails_df = pd.read_csv(\"data/region_trails.csv\")\n",
    "region_trails_df['region_title'] = region_trails_df['region_title'].replace({\"Xcel Energy Mountain Bike Park\": \"Xcel Energy\", \"West Lake Marion Park\":\"West Lake Marion\"})\n",
    "region_trails_df['region_name'] = region_trails_df['region_title']\n",
    "region_trails_df['trail_type_count'] = region_trails_df['difficulty']\n",
    "\n",
    "region_trails_df.to_csv(\"test.csv\")"
   ]
  },
  {
   "cell_type": "code",
   "execution_count": 79,
   "id": "66a44992-a7c8-41f6-83ca-2a2330328d43",
   "metadata": {},
   "outputs": [],
   "source": [
    "trail_idf = region_trails_df.interactive()"
   ]
  },
  {
   "cell_type": "code",
   "execution_count": 80,
   "id": "0f0f8605-53cd-4c88-b1ce-c7ad6dab2296",
   "metadata": {},
   "outputs": [
    {
     "data": {},
     "metadata": {},
     "output_type": "display_data"
    },
    {
     "data": {},
     "metadata": {},
     "output_type": "display_data"
    },
    {
     "data": {
      "application/vnd.holoviews_exec.v0+json": "",
      "text/html": [
       "<div id='6987'>\n",
       "\n",
       "\n",
       "\n",
       "\n",
       "\n",
       "  <div class=\"bk-root\" id=\"ee0bd71f-2fe7-472c-b403-32b20f518051\" data-root-id=\"6987\"></div>\n",
       "</div>\n",
       "<script type=\"application/javascript\">(function(root) {\n",
       "  function embed_document(root) {\n",
       "    var docs_json = {\"6c954a4a-989d-4c6e-8fe4-514a6c7b8035\":{\"defs\":[{\"extends\":null,\"module\":null,\"name\":\"ReactiveHTML1\",\"overrides\":[],\"properties\":[]},{\"extends\":null,\"module\":null,\"name\":\"FlexBox1\",\"overrides\":[],\"properties\":[{\"default\":\"flex-start\",\"kind\":null,\"name\":\"align_content\"},{\"default\":\"flex-start\",\"kind\":null,\"name\":\"align_items\"},{\"default\":\"row\",\"kind\":null,\"name\":\"flex_direction\"},{\"default\":\"wrap\",\"kind\":null,\"name\":\"flex_wrap\"},{\"default\":\"flex-start\",\"kind\":null,\"name\":\"justify_content\"}]},{\"extends\":null,\"module\":null,\"name\":\"GridStack1\",\"overrides\":[],\"properties\":[{\"default\":\"warn\",\"kind\":null,\"name\":\"mode\"},{\"default\":null,\"kind\":null,\"name\":\"ncols\"},{\"default\":null,\"kind\":null,\"name\":\"nrows\"},{\"default\":true,\"kind\":null,\"name\":\"allow_resize\"},{\"default\":true,\"kind\":null,\"name\":\"allow_drag\"},{\"default\":[],\"kind\":null,\"name\":\"state\"}]},{\"extends\":null,\"module\":null,\"name\":\"click1\",\"overrides\":[],\"properties\":[{\"default\":\"\",\"kind\":null,\"name\":\"terminal_output\"},{\"default\":\"\",\"kind\":null,\"name\":\"debug_name\"},{\"default\":0,\"kind\":null,\"name\":\"clears\"}]},{\"extends\":null,\"module\":null,\"name\":\"NotificationAreaBase1\",\"overrides\":[],\"properties\":[{\"default\":\"bottom-right\",\"kind\":null,\"name\":\"position\"},{\"default\":0,\"kind\":null,\"name\":\"_clear\"}]},{\"extends\":null,\"module\":null,\"name\":\"NotificationArea1\",\"overrides\":[],\"properties\":[{\"default\":[],\"kind\":null,\"name\":\"notifications\"},{\"default\":\"bottom-right\",\"kind\":null,\"name\":\"position\"},{\"default\":0,\"kind\":null,\"name\":\"_clear\"},{\"default\":[{\"background\":\"#ffc107\",\"icon\":{\"className\":\"fas fa-exclamation-triangle\",\"color\":\"white\",\"tagName\":\"i\"},\"type\":\"warning\"},{\"background\":\"#007bff\",\"icon\":{\"className\":\"fas fa-info-circle\",\"color\":\"white\",\"tagName\":\"i\"},\"type\":\"info\"}],\"kind\":null,\"name\":\"types\"}]},{\"extends\":null,\"module\":null,\"name\":\"Notification\",\"overrides\":[],\"properties\":[{\"default\":null,\"kind\":null,\"name\":\"background\"},{\"default\":3000,\"kind\":null,\"name\":\"duration\"},{\"default\":null,\"kind\":null,\"name\":\"icon\"},{\"default\":\"\",\"kind\":null,\"name\":\"message\"},{\"default\":null,\"kind\":null,\"name\":\"notification_type\"},{\"default\":false,\"kind\":null,\"name\":\"_destroyed\"}]},{\"extends\":null,\"module\":null,\"name\":\"TemplateActions1\",\"overrides\":[],\"properties\":[{\"default\":0,\"kind\":null,\"name\":\"open_modal\"},{\"default\":0,\"kind\":null,\"name\":\"close_modal\"}]},{\"extends\":null,\"module\":null,\"name\":\"MaterialTemplateActions1\",\"overrides\":[],\"properties\":[{\"default\":0,\"kind\":null,\"name\":\"open_modal\"},{\"default\":0,\"kind\":null,\"name\":\"close_modal\"}]}],\"roots\":{\"references\":[{\"attributes\":{\"coordinates\":null,\"group\":null,\"items\":[{\"id\":\"7044\"}],\"location\":[0,0]},\"id\":\"7043\",\"type\":\"Legend\"},{\"attributes\":{\"margin\":[0,0,0,0],\"name\":\"Column35654\",\"sizing_mode\":\"stretch_width\"},\"id\":\"6990\",\"type\":\"Column\"},{\"attributes\":{\"margin\":[5,5,5,5],\"name\":\"HSpacer35657\",\"sizing_mode\":\"stretch_width\"},\"id\":\"6991\",\"type\":\"Spacer\"},{\"attributes\":{\"source\":{\"id\":\"7025\"}},\"id\":\"7032\",\"type\":\"CDSView\"},{\"attributes\":{},\"id\":\"7015\",\"type\":\"ResetTool\"},{\"attributes\":{\"children\":[{\"id\":\"6990\"},{\"id\":\"6991\"}],\"margin\":[0,0,0,0],\"name\":\"Row35658\",\"sizing_mode\":\"stretch_width\"},\"id\":\"6989\",\"type\":\"Row\"},{\"attributes\":{},\"id\":\"7008\",\"type\":\"BasicTicker\"},{\"attributes\":{},\"id\":\"7040\",\"type\":\"UnionRenderers\"},{\"attributes\":{},\"id\":\"7002\",\"type\":\"LinearScale\"},{\"attributes\":{\"data\":{\"bottom\":{\"__ndarray__\":\"AAAAAAAAAAAAAAAAAAAAAAAAAAAAAAAAAAAAAAAAAAAAAAAAAAAoQAAAAAAAABBAAAAAAAAAGEAAAAAAAAAAAAAAAAAAAAAAAAAAAAAACEAAAAAAAAAsQAAAAAAAADBAAAAAAAAACEAAAAAAAAAmQAAAAAAAADhAAAAAAAAAFEAAAAAAAAAyQAAAAAAAACBA\",\"dtype\":\"float64\",\"order\":\"little\",\"shape\":[18]},\"difficulty\":[\"Black Diamond\",\"Black Diamond\",\"Black Diamond\",\"Black Diamond\",\"Blue\",\"Blue\",\"Blue\",\"Blue\",\"Blue\",\"Blue\",\"Green\",\"Green\",\"Green\",\"Green\",\"Green\",\"Green\",\"Double Black Diamond\",\"Double Black Diamond\"],\"region_title\":[\"Battle Creek\",\"Lebanon Hills\",\"West Lake Marion\",\"Theodore Wirth Park\",\"Battle Creek\",\"Lebanon Hills\",\"West Lake Marion\",\"Xcel Energy\",\"Murphy-Hanrehan Park\",\"Theodore Wirth Park\",\"West Lake Marion\",\"Theodore Wirth Park\",\"Xcel Energy\",\"Lebanon Hills\",\"Battle Creek\",\"Murphy-Hanrehan Park\",\"Lebanon Hills\",\"Murphy-Hanrehan Park\"],\"top\":{\"__ndarray__\":\"AAAAAAAAKEAAAAAAAAAQQAAAAAAAABhAAAAAAAAACEAAAAAAAAA4QAAAAAAAACZAAAAAAAAALEAAAAAAAAAIQAAAAAAAABRAAAAAAAAAMEAAAAAAAAAyQAAAAAAAADVAAAAAAAAAHEAAAAAAAAAyQAAAAAAAAD1AAAAAAAAAIEAAAAAAAAA0QAAAAAAAACRA\",\"dtype\":\"float64\",\"order\":\"little\",\"shape\":[18]},\"trail_type_count\":[12,4,6,3,12,7,8,3,5,13,4,5,4,7,5,3,2,2]},\"selected\":{\"id\":\"7026\"},\"selection_policy\":{\"id\":\"7040\"}},\"id\":\"7025\",\"type\":\"ColumnDataSource\"},{\"attributes\":{\"factors\":[\"Battle Creek\",\"Lebanon Hills\",\"Murphy-Hanrehan Park\",\"Theodore Wirth Park\",\"West Lake Marion\",\"Xcel Energy\"],\"tags\":[[[\"region_title\",\"region_title\",null]]]},\"id\":\"6992\",\"type\":\"FactorRange\"},{\"attributes\":{},\"id\":\"7013\",\"type\":\"WheelZoomTool\"},{\"attributes\":{},\"id\":\"7039\",\"type\":\"AllLabels\"},{\"attributes\":{\"factors\":[\"Black Diamond\",\"Blue\",\"Green\",\"Double Black Diamond\"],\"palette\":[\"#454844\",\"blue\",\"green\",\"black\"]},\"id\":\"7024\",\"type\":\"CategoricalColorMapper\"},{\"attributes\":{},\"id\":\"7038\",\"type\":\"CategoricalTickFormatter\"},{\"attributes\":{},\"id\":\"7000\",\"type\":\"CategoricalScale\"},{\"attributes\":{},\"id\":\"7026\",\"type\":\"Selection\"},{\"attributes\":{\"client_comm_id\":\"fc65a4ce531d4851802ac496e63eba47\",\"comm_id\":\"1aea0f2019254446b44e3e4d9db2aae8\",\"plot_id\":\"6987\"},\"id\":\"7094\",\"type\":\"panel.models.comm_manager.CommManager\"},{\"attributes\":{},\"id\":\"7005\",\"type\":\"CategoricalTicker\"},{\"attributes\":{\"overlay\":{\"id\":\"7016\"}},\"id\":\"7014\",\"type\":\"BoxZoomTool\"},{\"attributes\":{\"axis\":{\"id\":\"7004\"},\"coordinates\":null,\"group\":null,\"ticker\":{\"id\":\"7005\"}},\"id\":\"7006\",\"type\":\"Grid\"},{\"attributes\":{\"below\":[{\"id\":\"7004\"}],\"center\":[{\"id\":\"7006\"},{\"id\":\"7010\"},{\"id\":\"7043\"}],\"height\":410,\"left\":[{\"id\":\"7007\"}],\"margin\":[5,5,5,5],\"min_border_bottom\":10,\"min_border_left\":10,\"min_border_right\":10,\"min_border_top\":10,\"renderers\":[{\"id\":\"7031\"}],\"right\":[{\"id\":\"7043\"}],\"sizing_mode\":\"stretch_width\",\"title\":{\"id\":\"6996\"},\"toolbar\":{\"id\":\"7017\"},\"width\":700,\"x_range\":{\"id\":\"6992\"},\"x_scale\":{\"id\":\"7000\"},\"y_range\":{\"id\":\"6993\"},\"y_scale\":{\"id\":\"7002\"}},\"id\":\"6995\",\"subtype\":\"Figure\",\"type\":\"Plot\"},{\"attributes\":{},\"id\":\"7011\",\"type\":\"SaveTool\"},{\"attributes\":{\"callback\":null,\"renderers\":[{\"id\":\"7031\"}],\"tags\":[\"hv_created\"],\"tooltips\":[[\"region_title\",\"@{region_title}\"],[\"difficulty\",\"@{difficulty}\"],[\"trail_type_count\",\"@{trail_type_count}\"]]},\"id\":\"6994\",\"type\":\"HoverTool\"},{\"attributes\":{\"bottom\":{\"field\":\"bottom\"},\"fill_alpha\":{\"value\":1.0},\"fill_color\":{\"field\":\"difficulty\",\"transform\":{\"id\":\"7024\"}},\"hatch_alpha\":{\"value\":1.0},\"hatch_color\":{\"field\":\"difficulty\",\"transform\":{\"id\":\"7024\"}},\"hatch_scale\":{\"value\":12.0},\"hatch_weight\":{\"value\":1.0},\"line_alpha\":{\"value\":1.0},\"line_cap\":{\"value\":\"butt\"},\"line_color\":{\"value\":\"black\"},\"line_dash\":{\"value\":[]},\"line_dash_offset\":{\"value\":0},\"line_join\":{\"value\":\"bevel\"},\"line_width\":{\"value\":1},\"top\":{\"field\":\"top\"},\"width\":{\"value\":0.8},\"x\":{\"field\":\"region_title\"}},\"id\":\"7045\",\"type\":\"VBar\"},{\"attributes\":{\"tools\":[{\"id\":\"6994\"},{\"id\":\"7011\"},{\"id\":\"7012\"},{\"id\":\"7013\"},{\"id\":\"7014\"},{\"id\":\"7015\"}]},\"id\":\"7017\",\"type\":\"Toolbar\"},{\"attributes\":{\"bottom_units\":\"screen\",\"coordinates\":null,\"fill_alpha\":0.5,\"fill_color\":\"lightgrey\",\"group\":null,\"left_units\":\"screen\",\"level\":\"overlay\",\"line_alpha\":1.0,\"line_color\":\"black\",\"line_dash\":[4,4],\"line_width\":2,\"right_units\":\"screen\",\"syncable\":false,\"top_units\":\"screen\"},\"id\":\"7016\",\"type\":\"BoxAnnotation\"},{\"attributes\":{},\"id\":\"7036\",\"type\":\"AllLabels\"},{\"attributes\":{\"coordinates\":null,\"group\":null,\"text\":\"Total Trails by Region and Difficulty\",\"text_color\":\"black\",\"text_font_size\":\"12pt\"},\"id\":\"6996\",\"type\":\"Title\"},{\"attributes\":{\"children\":[{\"id\":\"6988\"}],\"margin\":[0,0,0,0],\"name\":\"Row35665\",\"sizing_mode\":\"stretch_width\"},\"id\":\"6987\",\"type\":\"Row\"},{\"attributes\":{\"coordinates\":null,\"data_source\":{\"id\":\"7025\"},\"glyph\":{\"id\":\"7028\"},\"group\":null,\"hover_glyph\":null,\"muted_glyph\":{\"id\":\"7030\"},\"nonselection_glyph\":{\"id\":\"7029\"},\"selection_glyph\":{\"id\":\"7045\"},\"view\":{\"id\":\"7032\"}},\"id\":\"7031\",\"type\":\"GlyphRenderer\"},{\"attributes\":{\"end\":31.2,\"reset_end\":31.2,\"reset_start\":0.0,\"tags\":[[[\"trail_type_count\",\"trail_type_count\",null]]]},\"id\":\"6993\",\"type\":\"Range1d\"},{\"attributes\":{\"children\":[{\"id\":\"6989\"},{\"id\":\"6995\"}],\"margin\":[0,0,0,0],\"name\":\"Column35664\",\"sizing_mode\":\"stretch_width\"},\"id\":\"6988\",\"type\":\"Column\"},{\"attributes\":{\"axis_label\":\"Region\",\"coordinates\":null,\"formatter\":{\"id\":\"7038\"},\"group\":null,\"major_label_policy\":{\"id\":\"7039\"},\"ticker\":{\"id\":\"7005\"}},\"id\":\"7004\",\"type\":\"CategoricalAxis\"},{\"attributes\":{},\"id\":\"7035\",\"type\":\"BasicTickFormatter\"},{\"attributes\":{},\"id\":\"7012\",\"type\":\"PanTool\"},{\"attributes\":{\"bottom\":{\"field\":\"bottom\"},\"fill_alpha\":{\"value\":0.1},\"fill_color\":{\"field\":\"difficulty\",\"transform\":{\"id\":\"7024\"}},\"hatch_alpha\":{\"value\":0.1},\"hatch_color\":{\"field\":\"difficulty\",\"transform\":{\"id\":\"7024\"}},\"line_alpha\":{\"value\":0.1},\"top\":{\"field\":\"top\"},\"width\":{\"value\":0.8},\"x\":{\"field\":\"region_title\"}},\"id\":\"7029\",\"type\":\"VBar\"},{\"attributes\":{\"axis\":{\"id\":\"7007\"},\"coordinates\":null,\"dimension\":1,\"group\":null,\"ticker\":{\"id\":\"7008\"}},\"id\":\"7010\",\"type\":\"Grid\"},{\"attributes\":{\"bottom\":{\"field\":\"bottom\"},\"fill_alpha\":{\"value\":0.2},\"fill_color\":{\"field\":\"difficulty\",\"transform\":{\"id\":\"7024\"}},\"hatch_alpha\":{\"value\":0.2},\"hatch_color\":{\"field\":\"difficulty\",\"transform\":{\"id\":\"7024\"}},\"line_alpha\":{\"value\":0.2},\"top\":{\"field\":\"top\"},\"width\":{\"value\":0.8},\"x\":{\"field\":\"region_title\"}},\"id\":\"7030\",\"type\":\"VBar\"},{\"attributes\":{\"label\":{\"field\":\"difficulty\"},\"renderers\":[{\"id\":\"7031\"}]},\"id\":\"7044\",\"type\":\"LegendItem\"},{\"attributes\":{\"bottom\":{\"field\":\"bottom\"},\"fill_color\":{\"field\":\"difficulty\",\"transform\":{\"id\":\"7024\"}},\"hatch_color\":{\"field\":\"difficulty\",\"transform\":{\"id\":\"7024\"}},\"top\":{\"field\":\"top\"},\"width\":{\"value\":0.8},\"x\":{\"field\":\"region_title\"}},\"id\":\"7028\",\"type\":\"VBar\"},{\"attributes\":{\"axis_label\":\"Total Number of Trails\",\"coordinates\":null,\"formatter\":{\"id\":\"7035\"},\"group\":null,\"major_label_policy\":{\"id\":\"7036\"},\"ticker\":{\"id\":\"7008\"}},\"id\":\"7007\",\"type\":\"LinearAxis\"}],\"root_ids\":[\"6987\",\"7094\"]},\"title\":\"Bokeh Application\",\"version\":\"2.4.2\"}};\n",
       "    var render_items = [{\"docid\":\"6c954a4a-989d-4c6e-8fe4-514a6c7b8035\",\"root_ids\":[\"6987\"],\"roots\":{\"6987\":\"ee0bd71f-2fe7-472c-b403-32b20f518051\"}}];\n",
       "    root.Bokeh.embed.embed_items_notebook(docs_json, render_items);\n",
       "  }\n",
       "  if (root.Bokeh !== undefined && root.Bokeh.Panel !== undefined) {\n",
       "    embed_document(root);\n",
       "  } else {\n",
       "    var attempts = 0;\n",
       "    var timer = setInterval(function(root) {\n",
       "      if (root.Bokeh !== undefined && root.Bokeh.Panel !== undefined) {\n",
       "        clearInterval(timer);\n",
       "        embed_document(root);\n",
       "      } else if (document.readyState == \"complete\") {\n",
       "        attempts++;\n",
       "        if (attempts > 200) {\n",
       "          clearInterval(timer);\n",
       "          console.log(\"Bokeh: ERROR: Unable to run BokehJS code because BokehJS library is missing\");\n",
       "        }\n",
       "      }\n",
       "    }, 25, root)\n",
       "  }\n",
       "})(window);</script>"
      ],
      "text/plain": [
       "<hvplot.interactive.Interactive at 0x24d67809490>"
      ]
     },
     "execution_count": 80,
     "metadata": {
      "application/vnd.holoviews_exec.v0+json": {
       "id": "6987"
      }
     },
     "output_type": "execute_result"
    }
   ],
   "source": [
    "trail_types = [\"Green\", \"Blue\", \"Black Diamond\", \"Double Black Diamond\"]\n",
    "\n",
    "region_difficulty_df = (\n",
    "    trail_idf[\n",
    "        (trail_idf.difficulty.isin(trail_types))\n",
    "    ]\n",
    "    .groupby(['region_title', 'difficulty'])['trail_type_count'].count()\n",
    "    .to_frame()\n",
    "    .reset_index()\n",
    "    .sort_values(by='region_title')  \n",
    "    .reset_index(drop=True)\n",
    ")\n",
    "trail_type_by_region = region_difficulty_df.hvplot(\n",
    "    kind='bar', \n",
    "    x='region_title', \n",
    "    by='difficulty', \n",
    "    xlabel=\"Region\", \n",
    "    height=410, \n",
    "    grid=True, \n",
    "    ylabel=\"Total Number of Trails\", \n",
    "    title=\"Total Trails by Region and Difficulty\", \n",
    "    stacked=True, \n",
    "    cmap=['#454844', 'blue', \"green\", \"black\"]\n",
    ")\n",
    "trail_type_by_region"
   ]
  },
  {
   "cell_type": "code",
   "execution_count": 81,
   "id": "3f11dd45-7f0e-4d7d-91d7-0b7568270e68",
   "metadata": {},
   "outputs": [
    {
     "name": "stderr",
     "output_type": "stream",
     "text": [
      "C:\\Users\\faust\\anaconda3\\lib\\site-packages\\holoviews\\core\\data\\pandas.py:221: FutureWarning: In a future version of pandas, a length 1 tuple will be returned when iterating over a groupby with a grouper equal to a list of length 1. Don't supply a list with a single grouper to avoid this warning.\n",
      "  data = [(k, group_type(v, **group_kwargs)) for k, v in\n",
      "C:\\Users\\faust\\anaconda3\\lib\\site-packages\\holoviews\\core\\data\\pandas.py:221: FutureWarning: In a future version of pandas, a length 1 tuple will be returned when iterating over a groupby with a grouper equal to a list of length 1. Don't supply a list with a single grouper to avoid this warning.\n",
      "  data = [(k, group_type(v, **group_kwargs)) for k, v in\n"
     ]
    },
    {
     "data": {},
     "metadata": {},
     "output_type": "display_data"
    },
    {
     "data": {},
     "metadata": {},
     "output_type": "display_data"
    },
    {
     "data": {
      "application/vnd.holoviews_exec.v0+json": "",
      "text/html": [
       "<div id='7145'>\n",
       "\n",
       "\n",
       "\n",
       "\n",
       "\n",
       "  <div class=\"bk-root\" id=\"b31651b0-db46-49a2-9f58-64053b993692\" data-root-id=\"7145\"></div>\n",
       "</div>\n",
       "<script type=\"application/javascript\">(function(root) {\n",
       "  function embed_document(root) {\n",
       "    var docs_json = {\"1da6ae52-f564-43aa-b734-eef38d8d3e04\":{\"defs\":[{\"extends\":null,\"module\":null,\"name\":\"ReactiveHTML1\",\"overrides\":[],\"properties\":[]},{\"extends\":null,\"module\":null,\"name\":\"FlexBox1\",\"overrides\":[],\"properties\":[{\"default\":\"flex-start\",\"kind\":null,\"name\":\"align_content\"},{\"default\":\"flex-start\",\"kind\":null,\"name\":\"align_items\"},{\"default\":\"row\",\"kind\":null,\"name\":\"flex_direction\"},{\"default\":\"wrap\",\"kind\":null,\"name\":\"flex_wrap\"},{\"default\":\"flex-start\",\"kind\":null,\"name\":\"justify_content\"}]},{\"extends\":null,\"module\":null,\"name\":\"GridStack1\",\"overrides\":[],\"properties\":[{\"default\":\"warn\",\"kind\":null,\"name\":\"mode\"},{\"default\":null,\"kind\":null,\"name\":\"ncols\"},{\"default\":null,\"kind\":null,\"name\":\"nrows\"},{\"default\":true,\"kind\":null,\"name\":\"allow_resize\"},{\"default\":true,\"kind\":null,\"name\":\"allow_drag\"},{\"default\":[],\"kind\":null,\"name\":\"state\"}]},{\"extends\":null,\"module\":null,\"name\":\"click1\",\"overrides\":[],\"properties\":[{\"default\":\"\",\"kind\":null,\"name\":\"terminal_output\"},{\"default\":\"\",\"kind\":null,\"name\":\"debug_name\"},{\"default\":0,\"kind\":null,\"name\":\"clears\"}]},{\"extends\":null,\"module\":null,\"name\":\"NotificationAreaBase1\",\"overrides\":[],\"properties\":[{\"default\":\"bottom-right\",\"kind\":null,\"name\":\"position\"},{\"default\":0,\"kind\":null,\"name\":\"_clear\"}]},{\"extends\":null,\"module\":null,\"name\":\"NotificationArea1\",\"overrides\":[],\"properties\":[{\"default\":[],\"kind\":null,\"name\":\"notifications\"},{\"default\":\"bottom-right\",\"kind\":null,\"name\":\"position\"},{\"default\":0,\"kind\":null,\"name\":\"_clear\"},{\"default\":[{\"background\":\"#ffc107\",\"icon\":{\"className\":\"fas fa-exclamation-triangle\",\"color\":\"white\",\"tagName\":\"i\"},\"type\":\"warning\"},{\"background\":\"#007bff\",\"icon\":{\"className\":\"fas fa-info-circle\",\"color\":\"white\",\"tagName\":\"i\"},\"type\":\"info\"}],\"kind\":null,\"name\":\"types\"}]},{\"extends\":null,\"module\":null,\"name\":\"Notification\",\"overrides\":[],\"properties\":[{\"default\":null,\"kind\":null,\"name\":\"background\"},{\"default\":3000,\"kind\":null,\"name\":\"duration\"},{\"default\":null,\"kind\":null,\"name\":\"icon\"},{\"default\":\"\",\"kind\":null,\"name\":\"message\"},{\"default\":null,\"kind\":null,\"name\":\"notification_type\"},{\"default\":false,\"kind\":null,\"name\":\"_destroyed\"}]},{\"extends\":null,\"module\":null,\"name\":\"TemplateActions1\",\"overrides\":[],\"properties\":[{\"default\":0,\"kind\":null,\"name\":\"open_modal\"},{\"default\":0,\"kind\":null,\"name\":\"close_modal\"}]},{\"extends\":null,\"module\":null,\"name\":\"MaterialTemplateActions1\",\"overrides\":[],\"properties\":[{\"default\":0,\"kind\":null,\"name\":\"open_modal\"},{\"default\":0,\"kind\":null,\"name\":\"close_modal\"}]}],\"roots\":{\"references\":[{\"attributes\":{\"factors\":[\"total_miles\",\"descent_miles\",\"ascent_miles\",\"flat_miles\"],\"palette\":[\"#1f77b4\",\"#aec7e8\",\"#ff7f0e\",\"#ffbb78\"]},\"id\":\"7182\",\"type\":\"CategoricalColorMapper\"},{\"attributes\":{},\"id\":\"7169\",\"type\":\"SaveTool\"},{\"attributes\":{\"children\":[{\"id\":\"7147\"},{\"id\":\"7153\"}],\"margin\":[0,0,0,0],\"name\":\"Column36003\",\"sizing_mode\":\"stretch_width\"},\"id\":\"7146\",\"type\":\"Column\"},{\"attributes\":{\"overlay\":{\"id\":\"7174\"}},\"id\":\"7172\",\"type\":\"BoxZoomTool\"},{\"attributes\":{\"factors\":[[\"Battle Creek\",\"flat_miles\"],[\"Battle Creek\",\"ascent_miles\"],[\"Battle Creek\",\"descent_miles\"],[\"Battle Creek\",\"total_miles\"],[\"Lebanon Hills\",\"flat_miles\"],[\"Lebanon Hills\",\"ascent_miles\"],[\"Lebanon Hills\",\"descent_miles\"],[\"Lebanon Hills\",\"total_miles\"],[\"Murphy-Hanrehan Park\",\"flat_miles\"],[\"Murphy-Hanrehan Park\",\"ascent_miles\"],[\"Murphy-Hanrehan Park\",\"descent_miles\"],[\"Murphy-Hanrehan Park\",\"total_miles\"],[\"Theodore Wirth Park\",\"flat_miles\"],[\"Theodore Wirth Park\",\"ascent_miles\"],[\"Theodore Wirth Park\",\"descent_miles\"],[\"Theodore Wirth Park\",\"total_miles\"],[\"West Lake Marion\",\"flat_miles\"],[\"West Lake Marion\",\"ascent_miles\"],[\"West Lake Marion\",\"descent_miles\"],[\"West Lake Marion\",\"total_miles\"],[\"Xcel Energy\",\"flat_miles\"],[\"Xcel Energy\",\"ascent_miles\"],[\"Xcel Energy\",\"descent_miles\"],[\"Xcel Energy\",\"total_miles\"]],\"tags\":[[[\"region_title\",\"region_title\",null],[\"Variable\",\"Variable\",null]]]},\"id\":\"7150\",\"type\":\"FactorRange\"},{\"attributes\":{},\"id\":\"7173\",\"type\":\"ResetTool\"},{\"attributes\":{\"coordinates\":null,\"data_source\":{\"id\":\"7183\"},\"glyph\":{\"id\":\"7186\"},\"group\":null,\"hover_glyph\":null,\"muted_glyph\":{\"id\":\"7188\"},\"nonselection_glyph\":{\"id\":\"7187\"},\"selection_glyph\":{\"id\":\"7191\"},\"view\":{\"id\":\"7190\"}},\"id\":\"7189\",\"type\":\"GlyphRenderer\"},{\"attributes\":{\"below\":[{\"id\":\"7162\"}],\"center\":[{\"id\":\"7164\"},{\"id\":\"7168\"}],\"height\":300,\"left\":[{\"id\":\"7165\"}],\"margin\":[5,5,5,5],\"min_border_bottom\":10,\"min_border_left\":10,\"min_border_right\":10,\"min_border_top\":10,\"renderers\":[{\"id\":\"7189\"}],\"sizing_mode\":\"stretch_width\",\"title\":{\"id\":\"7154\"},\"toolbar\":{\"id\":\"7175\"},\"width\":700,\"x_range\":{\"id\":\"7150\"},\"x_scale\":{\"id\":\"7158\"},\"y_range\":{\"id\":\"7151\"},\"y_scale\":{\"id\":\"7160\"}},\"id\":\"7153\",\"subtype\":\"Figure\",\"type\":\"Plot\"},{\"attributes\":{\"bottom_units\":\"screen\",\"coordinates\":null,\"fill_alpha\":0.5,\"fill_color\":\"lightgrey\",\"group\":null,\"left_units\":\"screen\",\"level\":\"overlay\",\"line_alpha\":1.0,\"line_color\":\"black\",\"line_dash\":[4,4],\"line_width\":2,\"right_units\":\"screen\",\"syncable\":false,\"top_units\":\"screen\"},\"id\":\"7174\",\"type\":\"BoxAnnotation\"},{\"attributes\":{\"source\":{\"id\":\"7183\"}},\"id\":\"7190\",\"type\":\"CDSView\"},{\"attributes\":{\"callback\":null,\"renderers\":[{\"id\":\"7189\"}],\"tags\":[\"hv_created\"],\"tooltips\":[[\"region_title\",\"@{region_title}\"],[\"Variable\",\"@{Variable}\"],[\"value\",\"@{value}\"]]},\"id\":\"7152\",\"type\":\"HoverTool\"},{\"attributes\":{\"children\":[{\"id\":\"7146\"}],\"margin\":[0,0,0,0],\"name\":\"Row36004\",\"sizing_mode\":\"stretch_width\"},\"id\":\"7145\",\"type\":\"Row\"},{\"attributes\":{\"coordinates\":null,\"group\":null,\"text\":\"Miles of Trail Available by Region and Ride Slope\",\"text_color\":\"black\",\"text_font_size\":\"12pt\"},\"id\":\"7154\",\"type\":\"Title\"},{\"attributes\":{\"tools\":[{\"id\":\"7152\"},{\"id\":\"7169\"},{\"id\":\"7170\"},{\"id\":\"7171\"},{\"id\":\"7172\"},{\"id\":\"7173\"}]},\"id\":\"7175\",\"type\":\"Toolbar\"},{\"attributes\":{},\"id\":\"7163\",\"type\":\"CategoricalTicker\"},{\"attributes\":{},\"id\":\"7194\",\"type\":\"AllLabels\"},{\"attributes\":{\"children\":[{\"id\":\"7148\"},{\"id\":\"7149\"}],\"margin\":[0,0,0,0],\"name\":\"Row35997\",\"sizing_mode\":\"stretch_width\"},\"id\":\"7147\",\"type\":\"Row\"},{\"attributes\":{},\"id\":\"7166\",\"type\":\"BasicTicker\"},{\"attributes\":{\"axis\":{\"id\":\"7162\"},\"coordinates\":null,\"group\":null,\"ticker\":{\"id\":\"7163\"}},\"id\":\"7164\",\"type\":\"Grid\"},{\"attributes\":{\"bottom\":{\"value\":0},\"fill_alpha\":{\"value\":1.0},\"fill_color\":{\"field\":\"Variable\",\"transform\":{\"id\":\"7182\"}},\"hatch_alpha\":{\"value\":1.0},\"hatch_color\":{\"field\":\"Variable\",\"transform\":{\"id\":\"7182\"}},\"hatch_scale\":{\"value\":12.0},\"hatch_weight\":{\"value\":1.0},\"line_alpha\":{\"value\":1.0},\"line_cap\":{\"value\":\"butt\"},\"line_color\":{\"value\":\"black\"},\"line_dash\":{\"value\":[]},\"line_dash_offset\":{\"value\":0},\"line_join\":{\"value\":\"bevel\"},\"line_width\":{\"value\":1},\"top\":{\"field\":\"value\"},\"width\":{\"value\":0.8},\"x\":{\"field\":\"xoffsets\"}},\"id\":\"7191\",\"type\":\"VBar\"},{\"attributes\":{\"end\":15.404455687,\"reset_end\":15.404455687,\"reset_start\":0.0,\"tags\":[[[\"value\",\"value\",null]]]},\"id\":\"7151\",\"type\":\"Range1d\"},{\"attributes\":{\"axis_label\":\"Region  and Miles by (Descent, Ascent, Flat)\",\"coordinates\":null,\"formatter\":{\"id\":\"7193\"},\"group\":null,\"major_label_orientation\":0.6981317007977318,\"major_label_policy\":{\"id\":\"7194\"},\"ticker\":{\"id\":\"7163\"}},\"id\":\"7162\",\"type\":\"CategoricalAxis\"},{\"attributes\":{},\"id\":\"7193\",\"type\":\"CategoricalTickFormatter\"},{\"attributes\":{\"client_comm_id\":\"dfd2d9f862434b8397337cb0763ce1bb\",\"comm_id\":\"767dc30fc0fb408c887bdcf94b034fb0\",\"plot_id\":\"7145\"},\"id\":\"7240\",\"type\":\"panel.models.comm_manager.CommManager\"},{\"attributes\":{},\"id\":\"7207\",\"type\":\"UnionRenderers\"},{\"attributes\":{\"data\":{\"Variable\":[\"total_miles\",\"total_miles\",\"total_miles\",\"total_miles\",\"total_miles\",\"total_miles\",\"descent_miles\",\"descent_miles\",\"descent_miles\",\"descent_miles\",\"descent_miles\",\"descent_miles\",\"ascent_miles\",\"ascent_miles\",\"ascent_miles\",\"ascent_miles\",\"ascent_miles\",\"ascent_miles\",\"flat_miles\",\"flat_miles\",\"flat_miles\",\"flat_miles\",\"flat_miles\",\"flat_miles\"],\"region_title\":[\"Battle Creek\",\"Lebanon Hills\",\"Murphy-Hanrehan Park\",\"Theodore Wirth Park\",\"West Lake Marion\",\"Xcel Energy\",\"Battle Creek\",\"Lebanon Hills\",\"Murphy-Hanrehan Park\",\"Theodore Wirth Park\",\"West Lake Marion\",\"Xcel Energy\",\"Battle Creek\",\"Lebanon Hills\",\"Murphy-Hanrehan Park\",\"Theodore Wirth Park\",\"West Lake Marion\",\"Xcel Energy\",\"Battle Creek\",\"Lebanon Hills\",\"Murphy-Hanrehan Park\",\"Theodore Wirth Park\",\"West Lake Marion\",\"Xcel Energy\"],\"value\":{\"__ndarray__\":\"o+jS1sCEJUCSkDmwy/kkQFZsAd5YiyRAst9zXYEZLEA0zK1pDmsVQIjPJFEy4A9AZPlB/TFAEEDCC5KmkCcRQH6alRjE2gxASxonrvjgFED29+IjE+T4PzNmli0nm+I/6DazJq4wEkCfUw8feDcPQIMUrtpEBAxARJECzPuGFUAJ4vANex33P5gAO7jtG+A/HsERzdGFAEC2wSt31v4AQJLQwfOF4ghAJfrs6M6fCkDzjyvmAZMAQB5ecAPHAARA\",\"dtype\":\"float64\",\"order\":\"little\",\"shape\":[24]},\"xoffsets\":[[\"Battle Creek\",\"total_miles\"],[\"Lebanon Hills\",\"total_miles\"],[\"Murphy-Hanrehan Park\",\"total_miles\"],[\"Theodore Wirth Park\",\"total_miles\"],[\"West Lake Marion\",\"total_miles\"],[\"Xcel Energy\",\"total_miles\"],[\"Battle Creek\",\"descent_miles\"],[\"Lebanon Hills\",\"descent_miles\"],[\"Murphy-Hanrehan Park\",\"descent_miles\"],[\"Theodore Wirth Park\",\"descent_miles\"],[\"West Lake Marion\",\"descent_miles\"],[\"Xcel Energy\",\"descent_miles\"],[\"Battle Creek\",\"ascent_miles\"],[\"Lebanon Hills\",\"ascent_miles\"],[\"Murphy-Hanrehan Park\",\"ascent_miles\"],[\"Theodore Wirth Park\",\"ascent_miles\"],[\"West Lake Marion\",\"ascent_miles\"],[\"Xcel Energy\",\"ascent_miles\"],[\"Battle Creek\",\"flat_miles\"],[\"Lebanon Hills\",\"flat_miles\"],[\"Murphy-Hanrehan Park\",\"flat_miles\"],[\"Theodore Wirth Park\",\"flat_miles\"],[\"West Lake Marion\",\"flat_miles\"],[\"Xcel Energy\",\"flat_miles\"]]},\"selected\":{\"id\":\"7184\"},\"selection_policy\":{\"id\":\"7207\"}},\"id\":\"7183\",\"type\":\"ColumnDataSource\"},{\"attributes\":{\"fill_color\":{\"field\":\"Variable\",\"transform\":{\"id\":\"7182\"}},\"hatch_color\":{\"field\":\"Variable\",\"transform\":{\"id\":\"7182\"}},\"top\":{\"field\":\"value\"},\"width\":{\"value\":0.8},\"x\":{\"field\":\"xoffsets\"}},\"id\":\"7186\",\"type\":\"VBar\"},{\"attributes\":{\"fill_alpha\":{\"value\":0.1},\"fill_color\":{\"field\":\"Variable\",\"transform\":{\"id\":\"7182\"}},\"hatch_alpha\":{\"value\":0.1},\"hatch_color\":{\"field\":\"Variable\",\"transform\":{\"id\":\"7182\"}},\"line_alpha\":{\"value\":0.1},\"top\":{\"field\":\"value\"},\"width\":{\"value\":0.8},\"x\":{\"field\":\"xoffsets\"}},\"id\":\"7187\",\"type\":\"VBar\"},{\"attributes\":{\"margin\":[0,0,0,0],\"name\":\"Column35993\",\"sizing_mode\":\"stretch_width\"},\"id\":\"7148\",\"type\":\"Column\"},{\"attributes\":{},\"id\":\"7196\",\"type\":\"BasicTickFormatter\"},{\"attributes\":{},\"id\":\"7160\",\"type\":\"LinearScale\"},{\"attributes\":{},\"id\":\"7158\",\"type\":\"CategoricalScale\"},{\"attributes\":{},\"id\":\"7184\",\"type\":\"Selection\"},{\"attributes\":{\"axis_label\":\"Miles\",\"coordinates\":null,\"formatter\":{\"id\":\"7196\"},\"group\":null,\"major_label_policy\":{\"id\":\"7197\"},\"ticker\":{\"id\":\"7166\"}},\"id\":\"7165\",\"type\":\"LinearAxis\"},{\"attributes\":{\"margin\":[5,5,5,5],\"name\":\"HSpacer35996\",\"sizing_mode\":\"stretch_width\"},\"id\":\"7149\",\"type\":\"Spacer\"},{\"attributes\":{},\"id\":\"7171\",\"type\":\"WheelZoomTool\"},{\"attributes\":{\"axis\":{\"id\":\"7165\"},\"coordinates\":null,\"dimension\":1,\"group\":null,\"ticker\":{\"id\":\"7166\"}},\"id\":\"7168\",\"type\":\"Grid\"},{\"attributes\":{},\"id\":\"7197\",\"type\":\"AllLabels\"},{\"attributes\":{\"fill_alpha\":{\"value\":0.2},\"fill_color\":{\"field\":\"Variable\",\"transform\":{\"id\":\"7182\"}},\"hatch_alpha\":{\"value\":0.2},\"hatch_color\":{\"field\":\"Variable\",\"transform\":{\"id\":\"7182\"}},\"line_alpha\":{\"value\":0.2},\"top\":{\"field\":\"value\"},\"width\":{\"value\":0.8},\"x\":{\"field\":\"xoffsets\"}},\"id\":\"7188\",\"type\":\"VBar\"},{\"attributes\":{},\"id\":\"7170\",\"type\":\"PanTool\"}],\"root_ids\":[\"7145\",\"7240\"]},\"title\":\"Bokeh Application\",\"version\":\"2.4.2\"}};\n",
       "    var render_items = [{\"docid\":\"1da6ae52-f564-43aa-b734-eef38d8d3e04\",\"root_ids\":[\"7145\"],\"roots\":{\"7145\":\"b31651b0-db46-49a2-9f58-64053b993692\"}}];\n",
       "    root.Bokeh.embed.embed_items_notebook(docs_json, render_items);\n",
       "  }\n",
       "  if (root.Bokeh !== undefined && root.Bokeh.Panel !== undefined) {\n",
       "    embed_document(root);\n",
       "  } else {\n",
       "    var attempts = 0;\n",
       "    var timer = setInterval(function(root) {\n",
       "      if (root.Bokeh !== undefined && root.Bokeh.Panel !== undefined) {\n",
       "        clearInterval(timer);\n",
       "        embed_document(root);\n",
       "      } else if (document.readyState == \"complete\") {\n",
       "        attempts++;\n",
       "        if (attempts > 200) {\n",
       "          clearInterval(timer);\n",
       "          console.log(\"Bokeh: ERROR: Unable to run BokehJS code because BokehJS library is missing\");\n",
       "        }\n",
       "      }\n",
       "    }, 25, root)\n",
       "  }\n",
       "})(window);</script>"
      ],
      "text/plain": [
       "<hvplot.interactive.Interactive at 0x24d695c9b20>"
      ]
     },
     "execution_count": 81,
     "metadata": {
      "application/vnd.holoviews_exec.v0+json": {
       "id": "7145"
      }
     },
     "output_type": "execute_result"
    }
   ],
   "source": [
    "#region_miles_count = region_trails_df.groupby('region_title')['distance_miles'].sum().sort_values()\n",
    "region_miles_all_count = (\n",
    "    region_trails_df.groupby('region_title')['total_miles'].sum().sort_values(ascending=False).reset_index()\n",
    ")\n",
    "\n",
    "region_miles_descent_count = (\n",
    "    region_trails_df.groupby('region_title')['descent_miles'].sum().sort_values(ascending=False).reset_index()\n",
    ")\n",
    "\n",
    "region_miles_ascent_count = (\n",
    "    region_trails_df.groupby('region_title')['ascent_miles'].sum().sort_values(ascending=False).reset_index()\n",
    ")\n",
    "\n",
    "region_miles_flat_count = (\n",
    "    region_trails_df.groupby('region_title')['flat_miles'].sum().sort_values(ascending=False).reset_index()\n",
    ")\n",
    "\n",
    "region_miles_count_concat = pd.concat([region_miles_all_count, region_miles_descent_count, region_miles_ascent_count, region_miles_flat_count])\n",
    "region_miles_count_concat.set_index('region_title')\n",
    "region_miles_count = region_miles_count_concat.groupby('region_title', as_index=False).sum().interactive()\n",
    "miles_of_trail_by_region = region_miles_count.hvplot(\n",
    "    kind='bar', \n",
    "    x='region_title', \n",
    "    rot=40, \n",
    "    legend=\"top_left\", \n",
    "    grid=True, \n",
    "    title=\"Miles of Trail Available by Region and Ride Slope\",\n",
    "    color=hv.Cycle(values=color_sequence),\n",
    "    xlabel=\"Region  and Miles by (Descent, Ascent, Flat)\",\n",
    "    ylabel=\"Miles\"\n",
    ")\n",
    "miles_of_trail_by_region"
   ]
  },
  {
   "cell_type": "code",
   "execution_count": 82,
   "id": "55b6d9ad-8f78-4f47-9317-665cbdc93c72",
   "metadata": {},
   "outputs": [
    {
     "data": {},
     "metadata": {},
     "output_type": "display_data"
    },
    {
     "data": {
      "application/vnd.holoviews_exec.v0+json": "",
      "text/html": [
       "<div id='7291'>\n",
       "\n",
       "\n",
       "\n",
       "\n",
       "\n",
       "  <div class=\"bk-root\" id=\"dba24216-f0ef-4aef-92a1-472d68f7ec63\" data-root-id=\"7291\"></div>\n",
       "</div>\n",
       "<script type=\"application/javascript\">(function(root) {\n",
       "  function embed_document(root) {\n",
       "    var docs_json = {\"5d2230f9-7b98-43d9-b38a-8c06246bf310\":{\"defs\":[{\"extends\":null,\"module\":null,\"name\":\"ReactiveHTML1\",\"overrides\":[],\"properties\":[]},{\"extends\":null,\"module\":null,\"name\":\"FlexBox1\",\"overrides\":[],\"properties\":[{\"default\":\"flex-start\",\"kind\":null,\"name\":\"align_content\"},{\"default\":\"flex-start\",\"kind\":null,\"name\":\"align_items\"},{\"default\":\"row\",\"kind\":null,\"name\":\"flex_direction\"},{\"default\":\"wrap\",\"kind\":null,\"name\":\"flex_wrap\"},{\"default\":\"flex-start\",\"kind\":null,\"name\":\"justify_content\"}]},{\"extends\":null,\"module\":null,\"name\":\"GridStack1\",\"overrides\":[],\"properties\":[{\"default\":\"warn\",\"kind\":null,\"name\":\"mode\"},{\"default\":null,\"kind\":null,\"name\":\"ncols\"},{\"default\":null,\"kind\":null,\"name\":\"nrows\"},{\"default\":true,\"kind\":null,\"name\":\"allow_resize\"},{\"default\":true,\"kind\":null,\"name\":\"allow_drag\"},{\"default\":[],\"kind\":null,\"name\":\"state\"}]},{\"extends\":null,\"module\":null,\"name\":\"click1\",\"overrides\":[],\"properties\":[{\"default\":\"\",\"kind\":null,\"name\":\"terminal_output\"},{\"default\":\"\",\"kind\":null,\"name\":\"debug_name\"},{\"default\":0,\"kind\":null,\"name\":\"clears\"}]},{\"extends\":null,\"module\":null,\"name\":\"NotificationAreaBase1\",\"overrides\":[],\"properties\":[{\"default\":\"bottom-right\",\"kind\":null,\"name\":\"position\"},{\"default\":0,\"kind\":null,\"name\":\"_clear\"}]},{\"extends\":null,\"module\":null,\"name\":\"NotificationArea1\",\"overrides\":[],\"properties\":[{\"default\":[],\"kind\":null,\"name\":\"notifications\"},{\"default\":\"bottom-right\",\"kind\":null,\"name\":\"position\"},{\"default\":0,\"kind\":null,\"name\":\"_clear\"},{\"default\":[{\"background\":\"#ffc107\",\"icon\":{\"className\":\"fas fa-exclamation-triangle\",\"color\":\"white\",\"tagName\":\"i\"},\"type\":\"warning\"},{\"background\":\"#007bff\",\"icon\":{\"className\":\"fas fa-info-circle\",\"color\":\"white\",\"tagName\":\"i\"},\"type\":\"info\"}],\"kind\":null,\"name\":\"types\"}]},{\"extends\":null,\"module\":null,\"name\":\"Notification\",\"overrides\":[],\"properties\":[{\"default\":null,\"kind\":null,\"name\":\"background\"},{\"default\":3000,\"kind\":null,\"name\":\"duration\"},{\"default\":null,\"kind\":null,\"name\":\"icon\"},{\"default\":\"\",\"kind\":null,\"name\":\"message\"},{\"default\":null,\"kind\":null,\"name\":\"notification_type\"},{\"default\":false,\"kind\":null,\"name\":\"_destroyed\"}]},{\"extends\":null,\"module\":null,\"name\":\"TemplateActions1\",\"overrides\":[],\"properties\":[{\"default\":0,\"kind\":null,\"name\":\"open_modal\"},{\"default\":0,\"kind\":null,\"name\":\"close_modal\"}]},{\"extends\":null,\"module\":null,\"name\":\"MaterialTemplateActions1\",\"overrides\":[],\"properties\":[{\"default\":0,\"kind\":null,\"name\":\"open_modal\"},{\"default\":0,\"kind\":null,\"name\":\"close_modal\"}]}],\"roots\":{\"references\":[{\"attributes\":{\"client_comm_id\":\"9ec10a28619d429993be332a1eeb30ea\",\"comm_id\":\"593bc36a28424ef8ae211a8d0eb0ca4a\",\"plot_id\":\"7291\"},\"id\":\"7292\",\"type\":\"panel.models.comm_manager.CommManager\"},{\"attributes\":{\"icon\":null,\"label\":\"Reset Region Selection\",\"margin\":[5,10,5,10],\"sizing_mode\":\"stretch_width\",\"subscribed_events\":[\"button_click\"]},\"id\":\"7291\",\"type\":\"Button\"}],\"root_ids\":[\"7291\",\"7292\"]},\"title\":\"Bokeh Application\",\"version\":\"2.4.2\"}};\n",
       "    var render_items = [{\"docid\":\"5d2230f9-7b98-43d9-b38a-8c06246bf310\",\"root_ids\":[\"7291\"],\"roots\":{\"7291\":\"dba24216-f0ef-4aef-92a1-472d68f7ec63\"}}];\n",
       "    root.Bokeh.embed.embed_items_notebook(docs_json, render_items);\n",
       "  }\n",
       "  if (root.Bokeh !== undefined && root.Bokeh.Panel !== undefined) {\n",
       "    embed_document(root);\n",
       "  } else {\n",
       "    var attempts = 0;\n",
       "    var timer = setInterval(function(root) {\n",
       "      if (root.Bokeh !== undefined && root.Bokeh.Panel !== undefined) {\n",
       "        clearInterval(timer);\n",
       "        embed_document(root);\n",
       "      } else if (document.readyState == \"complete\") {\n",
       "        attempts++;\n",
       "        if (attempts > 200) {\n",
       "          clearInterval(timer);\n",
       "          console.log(\"Bokeh: ERROR: Unable to run BokehJS code because BokehJS library is missing\");\n",
       "        }\n",
       "      }\n",
       "    }, 25, root)\n",
       "  }\n",
       "})(window);</script>"
      ],
      "text/plain": [
       "Button(name='Reset Region Selection', sizing_mode='stretch_width')"
      ]
     },
     "execution_count": 82,
     "metadata": {
      "application/vnd.holoviews_exec.v0+json": {
       "id": "7291"
      }
     },
     "output_type": "execute_result"
    }
   ],
   "source": [
    "#Custom CSS:\n",
    "#.bk-root .choices__list--dropdown .choices__item--selectable\n",
    "\n",
    "css = '''\n",
    ".choices__item .choices__item--selectable {\n",
    "    background-color: darkslategray;\n",
    "    text-color: #149414;\n",
    "}\n",
    ".choices__item:hover .choices__item--selectable:hover {\n",
    "    background-color: black;\n",
    "    text-color: white;\n",
    "}\n",
    "\n",
    ".bk-root .choices__list--dropdown .choices__item--selectable.is-highlighted {\n",
    "    background-color: black;\n",
    "    text-color: green;\n",
    "}\n",
    "'''\n",
    "\n",
    "link_color_css = \"\"\"\n",
    "   a:link {color: darkorange;}  \n",
    "   a:visited {color: darkorange;}  \n",
    "   a:hover {color: #FCFC0C;}  \n",
    "\"\"\"\n",
    "\n",
    "\n",
    "pn.extension(raw_css=[css, link_color_css])\n",
    "\n",
    "\n",
    "# Markdown Sections\n",
    "links_md = \"\"\"\n",
    "- [MN-MTB](http://mn-mtb.com)\n",
    "- [MN-MTB Trailforks](https://www.trailforks.com/profile/mnmtb/)\n",
    "- [Lakeville Cycling Assocation](https://www.lakevillecycling.org/)\n",
    "- [Lakeville MTB Team](https://lakevillemountainbiketeam.shutterfly.com/)\n",
    "\n",
    "Contact us: [MinnMTB@gmail.com](mailto:MinnMTB@gmail.com)\n",
    "\"\"\"\n",
    "\n",
    "terms_md = \"\"\"\n",
    "#### Terms\n",
    "\n",
    "- **MTB** - Mountain Biking\n",
    "- **Region** - A region as defined by Trailforks (e.g, West Lake Marion Trails, Buck Hill, Battle Creek, etc.)\n",
    "- **Revenue Estimations** - For each visit/ride for a region, 1 of 4 riders will spend $5 in the local city/municipality.\n",
    "    - `(region_rides_sum / 4) * 5`\n",
    "- **WLMT** - West Lake Marion Trails\n",
    "\"\"\"\n",
    "\n",
    "data_updated_md = \"\"\"\n",
    "All data seen on this dashboard was obtained via public or administrative means on [Trailforks.com](https://www.trailforks.com).\n",
    "\n",
    "Data Last Updated: 10.14.2022\n",
    "\"\"\"\n",
    "\n",
    "def reset_widgets(key):\n",
    "    multi_choice_1.value = regions_list\n",
    "    multi_choice_2.value = regions_list\n",
    "    multi_choice_3.value = regions_list\n",
    "    return 0\n",
    "\n",
    "reset_widgets_button = pn.widgets.Button(name=\"Reset Region Selection\")\n",
    "reset_widgets_button.on_click(reset_widgets)\n",
    "reset_widgets_button\n"
   ]
  },
  {
   "cell_type": "code",
   "execution_count": 83,
   "id": "de5e358e-714c-4db1-b18d-e7724fe49aee",
   "metadata": {},
   "outputs": [],
   "source": [
    "#Layout using Template\n",
    "# https://panel.holoviz.org/api/panel.pane.html?highlight=pane%20markdown#pane-package\n",
    "#https://panel.holoviz.org/reference/panes/PNG.html\n",
    "\n",
    "template = pn.template.MaterialTemplate(\n",
    "    theme = pn.template.theme.DarkTheme,\n",
    "    title='MN MTB Region Metrics',\n",
    "\n",
    "    sidebar=[\n",
    "        pn.pane.Markdown(\"# MN MTB Metrics\"), \n",
    "        pn.pane.PNG('images/mnmtb.png', width=300),\n",
    "        pn.pane.Markdown(links_md),\n",
    "        pn.layout.Divider(),\n",
    "        pn.pane.Str(\"Controls\", style={'font-size': '1vw', \"margin\": \"5px\", \"width\": \"100%\", \"text-align\": \"center\", \"font-family\": \"Verdana, Arial, Tahoma, Serif\", \"text-decoration\": \" solid white\"}),\n",
    "        reset_widgets_button,\n",
    "        pn.layout.Divider(),\n",
    "        pn.pane.Markdown(terms_md),\n",
    "        pn.layout.Divider(),\n",
    "        pn.pane.Markdown(data_updated_md),\n",
    "    ],\n",
    "    main=[\n",
    "\n",
    "        pn.pane.Str('Region Comparisons', style={'font-size': '1.5vw', \"margin\": \"auto\",\n",
    "  \"width\": \"100%\", \"text-align\": \"center\", \"font-family\": \"Verdana, Arial, Tahoma, Serif\", \"text-decoration\": \"solid white\", \"color\":\"darkorange\"}),\n",
    "        \n",
    "        # Row 1\n",
    "        pn.Row(\n",
    "            pn.Column(region_plot_by_y, sizing_mode=\"stretch_width\", width_policy='max'), \n",
    "            pn.Column(region_plot_by_ym, sizing_mode=\"stretch_width\", width_policy='max'),\n",
    "            css_classes=['choices', 'choices__item', 'choices__list', 'choices:hover'],\n",
    "            sizing_mode=\"stretch_width\",\n",
    "            width_policy='max',\n",
    "        ), \n",
    "        \n",
    "        pn.Row(\n",
    "            pn.Column(annual_revenue),\n",
    "        ), \n",
    "        \n",
    "        pn.Row(\n",
    "            pn.Column(miles_of_trail_by_region),\n",
    "        ), \n",
    "               \n",
    "        pn.Row(\n",
    "            pn.Column(trail_type_by_region),\n",
    "        ),\n",
    "        \n",
    "        pn.layout.Divider(),\n",
    "        pn.pane.Str('West Lake Marion Visitors', style={'font-size': '1.5vw', \"margin\": \"auto\",\n",
    "  \"width\": \"100%\", \"text-align\": \"center\", \"font-family\": \"Verdana, Arial, Tahoma, Serif\", \"text-decoration\": \"solid white\", \"color\":\"darkorange\"}),\n",
    "        \n",
    "        # Row 2\n",
    "        pn.Row(\n",
    "            pn.Column(visitors_plot_by_state), \n",
    "            pn.Column(visitors_plot_by_city),\n",
    "\n",
    "        ),\n",
    "        \n",
    "        \n",
    "        pn.layout.Divider(),\n",
    "        pn.pane.Str('West Lake Marion Popularity', style={'font-size': '1.5vw', \"margin\": \"auto\",\n",
    "  \"width\": \"100%\", \"text-align\": \"center\", \"font-family\": \"Verdana, Arial, Tahoma, Serif\", \"text-decoration\": \"solid white\", \"color\":\"darkorange\"}),\n",
    "        \n",
    "        # Row 3\n",
    "        pn.Row(\n",
    "            pn.Column(marion_populatiry_by_year), \n",
    "            pn.Column(marion_populatiry_by_month),\n",
    "\n",
    "        ),\n",
    "        \n",
    "        pn.layout.Divider(),\n",
    "        pn.pane.Str('West Lake Marion Revenue', style={'font-size': '1.5vw', \"margin\": \"auto\",\n",
    "  \"width\": \"100%\", \"text-align\": \"center\", \"font-family\": \"Verdana, Arial, Tahoma, Serif\", \"text-decoration\": \"solid white\", \"color\":\"darkorange\"}),\n",
    "        \n",
    "        pn.Row(\n",
    "            pn.Column(dollars_marion),\n",
    "        ),\n",
    "        \n",
    "    ],\n",
    ")\n",
    "template.servable();"
   ]
  },
  {
   "cell_type": "code",
   "execution_count": null,
   "id": "4dc0e8ac-f060-46ae-8d81-f54eae8b68f0",
   "metadata": {},
   "outputs": [],
   "source": []
  }
 ],
 "metadata": {
  "kernelspec": {
   "display_name": "Python 3 (ipykernel)",
   "language": "python",
   "name": "python3"
  },
  "language_info": {
   "codemirror_mode": {
    "name": "ipython",
    "version": 3
   },
   "file_extension": ".py",
   "mimetype": "text/x-python",
   "name": "python",
   "nbconvert_exporter": "python",
   "pygments_lexer": "ipython3",
   "version": "3.9.12"
  },
  "toc-showmarkdowntxt": false,
  "vscode": {
   "interpreter": {
    "hash": "556c90bf1f9f20656fa40be41583aa8230f89b68e8ea3a8ed77de5de92de6715"
   }
  }
 },
 "nbformat": 4,
 "nbformat_minor": 5
}
